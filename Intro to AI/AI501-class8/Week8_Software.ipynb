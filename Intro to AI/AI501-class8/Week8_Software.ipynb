{
 "cells": [
  {
   "cell_type": "markdown",
   "metadata": {},
   "source": [
    "# Assignment 8: Software\n",
    "\n",
    "Intel optimized libraries allow use of the same python code for AI and Data Science as standard python libraries. One major difference is that the optimized libraries experience a speedup. This assignment asks you to use Intel optimized python libraries."
   ]
  },
  {
   "cell_type": "markdown",
   "metadata": {},
   "source": [
    "# Install intel optimized python libraries\n",
    "\n",
    "First, if you haven’t already, install the Conda package management system. Instructions [here](https://conda.io/docs/user-guide/install/index.html).\n",
    "\n",
    "Test that conda is working by running `conda list` in your terminal or command prompt.\n",
    "\n",
    "Install Intel optimized libraries.\n",
    "\n",
    "```bash\n",
    "conda update conda\n",
    "conda config --add channels intel\n",
    "conda create -n idp intelpython3_core python=3\n",
    "```\n",
    "\n",
    "Add this new env to your jupyter kernels:\n",
    "\n",
    "```bash\n",
    "conda install jupyter\n",
    "python -m ipykernel install --user --name idp --display-name \"Python (idp)\"\n",
    "```\n",
    "\n",
    "Install the packages we need for the assignment:\n",
    "\n",
    "```bash\n",
    "source activate idp\n",
    "conda install tensorflow-gpu keras scikit-learn pandas seaborn\n",
    "```\n",
    "\n",
    "As of February 2018, there’s a package conflict. You may receive something like\n",
    "\n",
    "```\n",
    "> Solving environment: failed\n",
    "> \n",
    "> UnsatisfiableError: The following specifications were found to be in conflict:\n",
    ">   - keras\n",
    ">   - mkl_random\n",
    "> Use \"conda info <package>\" to see the dependencies for each package.\n",
    "```\n",
    "\n",
    "In that case, remove the conflicting `mkl_*` packages first, then re-execute the above command to install keras and the other libraries. Conda will automatically replace the incompatible `mkl_*` libraries with with compatible ones. \n",
    "\n",
    "```bash\n",
    "conda uninstall mkl_fft mkl_random\n",
    "```\n",
    "\n",
    "Finally, start jupyter notebook as you usually would. There should be an additional kernel in the menu Kernel->Change Kernel->Python (idp). This is the kernel we will use for the remainder of the assignment."
   ]
  },
  {
   "cell_type": "markdown",
   "metadata": {},
   "source": [
    "# Warm up\n",
    "\n",
    "To start out, we will perform a few exercises that use intel optimized python libraries. \n",
    "\n",
    "We begin by timing operations presented in the following figure\n",
    "\n",
    "![](https://software.intel.com/sites/default/files/managed/68/1e/Python2018-Math-Functions-Core.jpg)"
   ]
  },
  {
   "cell_type": "markdown",
   "metadata": {},
   "source": [
    "First, some setup code:"
   ]
  },
  {
   "cell_type": "code",
   "execution_count": 1,
   "metadata": {
    "ExecuteTime": {
     "end_time": "2018-02-28T22:26:52.559617Z",
     "start_time": "2018-02-28T17:26:49.631351-05:00"
    },
    "collapsed": false
   },
   "outputs": [
    {
     "name": "stdout",
     "output_type": "stream",
     "text": [
      "Populating the interactive namespace from numpy and matplotlib\n"
     ]
    }
   ],
   "source": [
    "#imports several useful libraries including numpy as np\n",
    "%pylab inline "
   ]
  },
  {
   "cell_type": "code",
   "execution_count": 2,
   "metadata": {
    "ExecuteTime": {
     "end_time": "2018-02-28T22:26:53.512198Z",
     "start_time": "2018-02-28T17:26:52.564205-05:00"
    },
    "collapsed": true
   },
   "outputs": [],
   "source": [
    "# build two random arrays\n",
    "a = np.random.rand(1000, 100, 100)\n",
    "b = np.random.rand(1000, 100, 100)\n",
    "c = a - b"
   ]
  },
  {
   "cell_type": "markdown",
   "metadata": {},
   "source": [
    "Timeit cell magic automatically times the contents of the attached cell. Below is an example of timing the subtraction operation between the random arrays that we created."
   ]
  },
  {
   "cell_type": "code",
   "execution_count": 3,
   "metadata": {
    "ExecuteTime": {
     "end_time": "2018-02-28T22:26:55.345915Z",
     "start_time": "2018-02-28T17:26:53.518713-05:00"
    },
    "collapsed": false
   },
   "outputs": [
    {
     "name": "stdout",
     "output_type": "stream",
     "text": [
      "10 loops, best of 3: 41.4 ms per loop\n"
     ]
    }
   ],
   "source": [
    "%%timeit\n",
    "a - b"
   ]
  },
  {
   "cell_type": "markdown",
   "metadata": {},
   "source": [
    "# **Exercise 1:** \n",
    "\n",
    "Write cells that time the execution of *two* other operations listed in the above figure. Try at least one of \"exp\" or \"log10\"\n",
    "\n",
    "(optional) if you have a kernel with non-optimized python, save the notebook and open it in another tab with that kernel. Compare the run times of the intel-optimized version with the non-optimized version. Note that relative speedup varies by processor."
   ]
  },
  {
   "cell_type": "code",
   "execution_count": null,
   "metadata": {
    "ExecuteTime": {
     "end_time": "2018-02-28T22:26:56.893329Z",
     "start_time": "2018-02-28T17:26:55.351157-05:00"
    },
    "collapsed": true
   },
   "outputs": [],
   "source": []
  },
  {
   "cell_type": "code",
   "execution_count": null,
   "metadata": {
    "ExecuteTime": {
     "end_time": "2018-02-28T22:26:58.570545Z",
     "start_time": "2018-02-28T17:26:56.896340-05:00"
    },
    "collapsed": true
   },
   "outputs": [],
   "source": []
  },
  {
   "cell_type": "code",
   "execution_count": null,
   "metadata": {
    "ExecuteTime": {
     "end_time": "2018-02-28T22:27:00.708751Z",
     "start_time": "2018-02-28T17:26:58.576665-05:00"
    },
    "collapsed": true
   },
   "outputs": [],
   "source": []
  },
  {
   "cell_type": "code",
   "execution_count": null,
   "metadata": {
    "ExecuteTime": {
     "end_time": "2018-02-28T22:27:02.344778Z",
     "start_time": "2018-02-28T17:27:00.711890-05:00"
    },
    "collapsed": true
   },
   "outputs": [],
   "source": []
  },
  {
   "cell_type": "markdown",
   "metadata": {},
   "source": [
    "# Sklearn\n",
    "\n",
    "As discussed, frameworks provide structure that Data Scientists use to build code. Frameworks are more than just libraries, because in addition to including callable code, frameworks influence how code is written.\n",
    "\n",
    "A main virtue of using an optimized framework is thtat code runs faster. Code that runs faster is just generally more convenient but when we begin looking at applied data science and AI models, we can see more material benefits. Here we you will see how optimization, particularly hyperparameter optimization can benefit more than just speed."
   ]
  },
  {
   "cell_type": "markdown",
   "metadata": {},
   "source": [
    "## Exploratory Data Analysis\n",
    "\n",
    "Let's take a dataset consisting of handwritten digits and try to predict the drawn digit. To start out, we do basic exploration of our dataset"
   ]
  },
  {
   "cell_type": "code",
   "execution_count": 8,
   "metadata": {
    "ExecuteTime": {
     "end_time": "2018-02-28T22:27:08.179566Z",
     "start_time": "2018-02-28T17:27:02.347907-05:00"
    },
    "collapsed": true
   },
   "outputs": [],
   "source": [
    "import pandas as pd\n",
    "import seaborn\n",
    "\n",
    "from sklearn import datasets, preprocessing, metrics, model_selection, pipeline\n",
    "seaborn.set_style(\"white\")"
   ]
  },
  {
   "cell_type": "code",
   "execution_count": 9,
   "metadata": {
    "ExecuteTime": {
     "end_time": "2018-02-28T22:27:08.418570Z",
     "start_time": "2018-02-28T17:27:08.185046-05:00"
    },
    "collapsed": false
   },
   "outputs": [
    {
     "name": "stdout",
     "output_type": "stream",
     "text": [
      "unique values of X: [  0.   1.   2.   3.   4.   5.   6.   7.   8.   9.  10.  11.  12.  13.  14.\n",
      "  15.  16.]\n"
     ]
    }
   ],
   "source": [
    "# if you wish to have a larger, more complex dataset, try datasets.fetch_mldata('MNIST original')\n",
    "digits = datasets.load_digits() \n",
    "\n",
    "X = digits.data\n",
    "print(\"unique values of X: {}\".format(np.unique(X)))\n",
    "# here we standardize each observation as a pre-processing step\n",
    "X_mean = np.mean(X, axis=1, keepdims=True)\n",
    "X_std = np.std(X, axis=1, keepdims=True) \n",
    "X = (X - X_mean)/X_std\n",
    "y = digits.target"
   ]
  },
  {
   "cell_type": "code",
   "execution_count": 10,
   "metadata": {
    "ExecuteTime": {
     "end_time": "2018-02-28T22:27:09.835320Z",
     "start_time": "2018-02-28T17:27:08.421732-05:00"
    },
    "collapsed": false
   },
   "outputs": [
    {
     "data": {
      "image/png": "[encoded data removed]",
      "text/plain": [
       "<matplotlib.figure.Figure at 0x83d401748>"
      ]
     },
     "metadata": {},
     "output_type": "display_data"
    }
   ],
   "source": [
    "#view the distribution of values\n",
    "plt.hist(X.flat, bins=25, normed=True)\n",
    "plt.ylabel(\"$p(bin_i)$\");\n",
    "plt.ylabel(\"$bin_i$\");"
   ]
  },
  {
   "cell_type": "markdown",
   "metadata": {},
   "source": [
    "*check for understanding* (optional): we originally had 17 unique values of X but our histogram seems to indicate many more unique values after pre-processing. Why is that?"
   ]
  },
  {
   "cell_type": "code",
   "execution_count": 11,
   "metadata": {
    "ExecuteTime": {
     "end_time": "2018-02-28T22:27:09.858828Z",
     "start_time": "2018-02-28T17:27:09.839452-05:00"
    },
    "collapsed": true
   },
   "outputs": [],
   "source": [
    "def plot_images(x, **kwargs):\n",
    "    n_pix = int(np.sqrt(np.prod(X.shape[1:]))) #assumes images are square\n",
    "    im_indices = np.random.choice(len(x), 20)\n",
    "    fig, axes = subplots(nrows=4,ncols=5, figsize=(5,5), sharex=True, sharey=True, frameon=False)\n",
    "    for i,ax in enumerate(axes.flat):\n",
    "        ax.get_xaxis().set_visible(False)\n",
    "        ax.get_yaxis().set_visible(False)\n",
    "        curr_i = im_indices[i]\n",
    "        ax.imshow(x[curr_i].reshape(n_pix,n_pix), aspect=\"equal\", **kwargs)\n",
    "        ax.axis('off')"
   ]
  },
  {
   "cell_type": "code",
   "execution_count": 12,
   "metadata": {
    "ExecuteTime": {
     "end_time": "2018-02-28T22:27:11.746380Z",
     "start_time": "2018-02-28T17:27:09.863486-05:00"
    },
    "collapsed": false
   },
   "outputs": [
    {
     "data": {
      "image/png": "[encoded data removed]",
      "text/plain": [
       "<matplotlib.figure.Figure at 0x841430b00>"
      ]
     },
     "metadata": {},
     "output_type": "display_data"
    }
   ],
   "source": [
    "plot_images(X, cmap=\"gray\", interpolation=\"spline16\")"
   ]
  },
  {
   "cell_type": "markdown",
   "metadata": {},
   "source": [
    "## Modeling\n",
    "\n",
    "Here, we build models to predict our target variable. Below are two examples that use the pipeline function of sci-kit learn to unify the interface to both pre-processing and modeling steps. This method of setting up the problem will be important in the next section"
   ]
  },
  {
   "cell_type": "code",
   "execution_count": 13,
   "metadata": {
    "ExecuteTime": {
     "end_time": "2018-02-28T22:27:13.636760Z",
     "start_time": "2018-02-28T17:27:11.748849-05:00"
    },
    "collapsed": false
   },
   "outputs": [
    {
     "data": {
      "text/plain": [
       "0.91546464685017936"
      ]
     },
     "execution_count": 13,
     "metadata": {},
     "output_type": "execute_result"
    }
   ],
   "source": [
    "from sklearn import linear_model\n",
    "\n",
    "# first, we try a very simple model, logistic regression\n",
    "lr_pipe = pipeline.Pipeline([\n",
    "    (\"scale\", preprocessing.RobustScaler()),\n",
    "    (\"lr\", linear_model.LogisticRegression())\n",
    "])\n",
    "\n",
    "model_selection.cross_val_score(lr_pipe, X, y, cv=5).mean()"
   ]
  },
  {
   "cell_type": "code",
   "execution_count": 14,
   "metadata": {
    "ExecuteTime": {
     "end_time": "2018-02-28T22:27:14.941607Z",
     "start_time": "2018-02-28T17:27:13.639602-05:00"
    },
    "collapsed": false
   },
   "outputs": [
    {
     "data": {
      "text/plain": [
       "0.89990448830281833"
      ]
     },
     "execution_count": 14,
     "metadata": {},
     "output_type": "execute_result"
    }
   ],
   "source": [
    "from sklearn import svm\n",
    "\n",
    "# SVMs use the kernel trick to efficiently model complex relationships \n",
    "clf_pipe = pipeline.Pipeline([\n",
    "    (\"scale\", preprocessing.RobustScaler()),\n",
    "    (\"clf\", svm.SVC()),\n",
    "])\n",
    "\n",
    "model_selection.cross_val_score(clf_pipe, X, y, groups=y, cv=5).mean()"
   ]
  },
  {
   "cell_type": "markdown",
   "metadata": {
    "ExecuteTime": {
     "end_time": "2018-02-07T23:40:27.650453Z",
     "start_time": "2018-02-07T18:40:27.643170-05:00"
    }
   },
   "source": [
    "# **Exercise 2:** \n",
    "\n",
    "Now, build your own model. You may use one of the above or any from the sci-kit learn package. Experiment with the parameters of the model as well as different pre-processing steps and see if you can improve the cross-validated accuracy."
   ]
  },
  {
   "cell_type": "code",
   "execution_count": null,
   "metadata": {
    "ExecuteTime": {
     "end_time": "2018-02-28T22:27:19.557349Z",
     "start_time": "2018-02-28T17:27:14.944474-05:00"
    },
    "collapsed": true
   },
   "outputs": [],
   "source": []
  },
  {
   "cell_type": "markdown",
   "metadata": {},
   "source": [
    "## Grid search CV\n",
    "\n",
    "Hyperparameters are an incredibly important aspect of building models. Often, the right hyperparameters can be the difference between a default model that does not perform well at all and one that excels in production. Finding the right hyperparameters is quite difficult and involves testing a model several times. This is a major benefit of using optimized libraries: we can test more models in less time, allowing us to better tune hyperparameters.\n",
    "\n",
    "We can approach this problem in a principled way by searching over the space of parameters. We use the cross-validated score of the model to judge the performance of different hyperparameters.\n",
    "\n",
    "Below is a case study. We have a pipeline that uses PCA as a pre-processing step. This is a common pre-processing step but, because PCA also serves to effectively regularize most models, it means that we now have two methods of regularization. Grid Search provides a principled way to weigh these regularization techniques against each other and find an optimal balance. Finally, whitening can also be incorporated into the PCA step to reduce colinearity in the features. This can either be helpful or harmful to performance depending on the model."
   ]
  },
  {
   "cell_type": "code",
   "execution_count": 16,
   "metadata": {
    "ExecuteTime": {
     "end_time": "2018-02-28T22:28:28.861124Z",
     "start_time": "2018-02-28T17:27:19.562536-05:00"
    },
    "collapsed": false
   },
   "outputs": [
    {
     "name": "stdout",
     "output_type": "stream",
     "text": [
      "Fitting 5 folds for each of 128 candidates, totalling 640 fits\n"
     ]
    },
    {
     "name": "stderr",
     "output_type": "stream",
     "text": [
      "[Parallel(n_jobs=-1)]: Done  42 tasks      | elapsed:    2.3s\n",
      "[Parallel(n_jobs=-1)]: Done 192 tasks      | elapsed:   10.9s\n",
      "[Parallel(n_jobs=-1)]: Done 442 tasks      | elapsed:   34.8s\n",
      "[Parallel(n_jobs=-1)]: Done 640 out of 640 | elapsed:  1.1min finished\n"
     ]
    },
    {
     "name": "stdout",
     "output_type": "stream",
     "text": [
      "best cross validated accuracy: 0.9282136894824707\n",
      "best parameters: {'clf__C': 2.0, 'pca__n_components': 25, 'pca__whiten': False}\n"
     ]
    }
   ],
   "source": [
    "from sklearn import decomposition, pipeline\n",
    "\n",
    "clf_pipe = pipeline.Pipeline([\n",
    "    (\"pca\", decomposition.PCA()), \n",
    "    (\"clf\", linear_model.LogisticRegression(penalty=\"l1\")),\n",
    "\n",
    "])\n",
    "\n",
    "clf_grid = model_selection.GridSearchCV(\n",
    "    clf_pipe, {\n",
    "        \"pca__n_components\": np.linspace(20,60, num=8, dtype=\"int\"),\n",
    "        \"pca__whiten\": [True, False],\n",
    "        \"clf__C\": np.logspace(-3,1, num=8, base=2),\n",
    "    },\n",
    "    cv=5, verbose=1, n_jobs=-1)\n",
    "# change verbose to reduce or increase the logging of gridsearch\n",
    "# change n_jobs to modify the number of cores used. \n",
    "\n",
    "clf_grid.fit(X, y, groups=y, )\n",
    "\n",
    "print(\"best cross validated accuracy: {}\".format(clf_grid.best_score_))\n",
    "print(\"best parameters: {}\".format(clf_grid.best_params_))"
   ]
  },
  {
   "cell_type": "code",
   "execution_count": 17,
   "metadata": {
    "ExecuteTime": {
     "end_time": "2018-02-28T22:28:28.903381Z",
     "start_time": "2018-02-28T17:28:28.869144-05:00"
    },
    "collapsed": true
   },
   "outputs": [],
   "source": [
    "gridcv_results = pd.DataFrame(clf_grid.cv_results_)\n",
    "gridcv_results[\"time\"] = gridcv_results[\"mean_score_time\"] + gridcv_results[\"mean_fit_time\"]"
   ]
  },
  {
   "cell_type": "code",
   "execution_count": 18,
   "metadata": {
    "ExecuteTime": {
     "end_time": "2018-02-28T22:28:28.983581Z",
     "start_time": "2018-02-28T17:28:28.907221-05:00"
    },
    "collapsed": false
   },
   "outputs": [
    {
     "data": {
      "text/html": [
       "<div>\n",
       "<style>\n",
       "    .dataframe thead tr:only-child th {\n",
       "        text-align: right;\n",
       "    }\n",
       "\n",
       "    .dataframe thead th {\n",
       "        text-align: left;\n",
       "    }\n",
       "\n",
       "    .dataframe tbody tr th {\n",
       "        vertical-align: top;\n",
       "    }\n",
       "</style>\n",
       "<table border=\"1\" class=\"dataframe\">\n",
       "  <thead>\n",
       "    <tr style=\"text-align: right;\">\n",
       "      <th></th>\n",
       "      <th>mean_test_score</th>\n",
       "      <th>time</th>\n",
       "    </tr>\n",
       "    <tr>\n",
       "      <th>param_pca__n_components</th>\n",
       "      <th></th>\n",
       "      <th></th>\n",
       "    </tr>\n",
       "  </thead>\n",
       "  <tbody>\n",
       "    <tr>\n",
       "      <th>20</th>\n",
       "      <td>0.911484</td>\n",
       "      <td>0.254199</td>\n",
       "    </tr>\n",
       "    <tr>\n",
       "      <th>25</th>\n",
       "      <td>0.922197</td>\n",
       "      <td>0.298331</td>\n",
       "    </tr>\n",
       "    <tr>\n",
       "      <th>31</th>\n",
       "      <td>0.920388</td>\n",
       "      <td>0.338193</td>\n",
       "    </tr>\n",
       "    <tr>\n",
       "      <th>37</th>\n",
       "      <td>0.921536</td>\n",
       "      <td>0.452863</td>\n",
       "    </tr>\n",
       "    <tr>\n",
       "      <th>42</th>\n",
       "      <td>0.922336</td>\n",
       "      <td>0.484118</td>\n",
       "    </tr>\n",
       "    <tr>\n",
       "      <th>48</th>\n",
       "      <td>0.921918</td>\n",
       "      <td>0.559934</td>\n",
       "    </tr>\n",
       "    <tr>\n",
       "      <th>54</th>\n",
       "      <td>0.922301</td>\n",
       "      <td>0.405622</td>\n",
       "    </tr>\n",
       "    <tr>\n",
       "      <th>60</th>\n",
       "      <td>0.920597</td>\n",
       "      <td>0.460582</td>\n",
       "    </tr>\n",
       "  </tbody>\n",
       "</table>\n",
       "</div>"
      ],
      "text/plain": [
       "                         mean_test_score      time\n",
       "param_pca__n_components                           \n",
       "20                              0.911484  0.254199\n",
       "25                              0.922197  0.298331\n",
       "31                              0.920388  0.338193\n",
       "37                              0.921536  0.452863\n",
       "42                              0.922336  0.484118\n",
       "48                              0.921918  0.559934\n",
       "54                              0.922301  0.405622\n",
       "60                              0.920597  0.460582"
      ]
     },
     "execution_count": 18,
     "metadata": {},
     "output_type": "execute_result"
    }
   ],
   "source": [
    "gridcv_results.groupby([\"param_pca__n_components\"])[\"mean_test_score\", \"time\"].mean()"
   ]
  },
  {
   "cell_type": "code",
   "execution_count": 19,
   "metadata": {
    "ExecuteTime": {
     "end_time": "2018-02-28T22:28:29.010644Z",
     "start_time": "2018-02-28T17:28:28.986399-05:00"
    },
    "collapsed": false
   },
   "outputs": [
    {
     "data": {
      "text/html": [
       "<div>\n",
       "<style>\n",
       "    .dataframe thead tr:only-child th {\n",
       "        text-align: right;\n",
       "    }\n",
       "\n",
       "    .dataframe thead th {\n",
       "        text-align: left;\n",
       "    }\n",
       "\n",
       "    .dataframe tbody tr th {\n",
       "        vertical-align: top;\n",
       "    }\n",
       "</style>\n",
       "<table border=\"1\" class=\"dataframe\">\n",
       "  <thead>\n",
       "    <tr style=\"text-align: right;\">\n",
       "      <th></th>\n",
       "      <th>mean_test_score</th>\n",
       "      <th>time</th>\n",
       "    </tr>\n",
       "    <tr>\n",
       "      <th>param_pca__whiten</th>\n",
       "      <th></th>\n",
       "      <th></th>\n",
       "    </tr>\n",
       "  </thead>\n",
       "  <tbody>\n",
       "    <tr>\n",
       "      <th>False</th>\n",
       "      <td>0.919701</td>\n",
       "      <td>0.368834</td>\n",
       "    </tr>\n",
       "    <tr>\n",
       "      <th>True</th>\n",
       "      <td>0.920988</td>\n",
       "      <td>0.444627</td>\n",
       "    </tr>\n",
       "  </tbody>\n",
       "</table>\n",
       "</div>"
      ],
      "text/plain": [
       "                   mean_test_score      time\n",
       "param_pca__whiten                           \n",
       "False                     0.919701  0.368834\n",
       "True                      0.920988  0.444627"
      ]
     },
     "execution_count": 19,
     "metadata": {},
     "output_type": "execute_result"
    }
   ],
   "source": [
    "gridcv_results.groupby([\"param_pca__whiten\"])[\"mean_test_score\", \"time\"].mean()"
   ]
  },
  {
   "cell_type": "code",
   "execution_count": 20,
   "metadata": {
    "ExecuteTime": {
     "end_time": "2018-02-28T22:28:29.033946Z",
     "start_time": "2018-02-28T17:28:29.015498-05:00"
    },
    "collapsed": false
   },
   "outputs": [
    {
     "data": {
      "text/html": [
       "<div>\n",
       "<style>\n",
       "    .dataframe thead tr:only-child th {\n",
       "        text-align: right;\n",
       "    }\n",
       "\n",
       "    .dataframe thead th {\n",
       "        text-align: left;\n",
       "    }\n",
       "\n",
       "    .dataframe tbody tr th {\n",
       "        vertical-align: top;\n",
       "    }\n",
       "</style>\n",
       "<table border=\"1\" class=\"dataframe\">\n",
       "  <thead>\n",
       "    <tr style=\"text-align: right;\">\n",
       "      <th></th>\n",
       "      <th>mean_test_score</th>\n",
       "      <th>time</th>\n",
       "    </tr>\n",
       "    <tr>\n",
       "      <th>param_clf__C</th>\n",
       "      <th></th>\n",
       "      <th></th>\n",
       "    </tr>\n",
       "  </thead>\n",
       "  <tbody>\n",
       "    <tr>\n",
       "      <th>0.125000</th>\n",
       "      <td>0.914893</td>\n",
       "      <td>0.198449</td>\n",
       "    </tr>\n",
       "    <tr>\n",
       "      <th>0.185749</th>\n",
       "      <td>0.918962</td>\n",
       "      <td>0.205209</td>\n",
       "    </tr>\n",
       "    <tr>\n",
       "      <th>0.276022</th>\n",
       "      <td>0.920562</td>\n",
       "      <td>0.267580</td>\n",
       "    </tr>\n",
       "    <tr>\n",
       "      <th>0.410168</th>\n",
       "      <td>0.923310</td>\n",
       "      <td>0.326691</td>\n",
       "    </tr>\n",
       "    <tr>\n",
       "      <th>0.609507</th>\n",
       "      <td>0.922892</td>\n",
       "      <td>0.395719</td>\n",
       "    </tr>\n",
       "    <tr>\n",
       "      <th>0.905724</th>\n",
       "      <td>0.921884</td>\n",
       "      <td>0.431187</td>\n",
       "    </tr>\n",
       "    <tr>\n",
       "      <th>1.345900</th>\n",
       "      <td>0.920249</td>\n",
       "      <td>0.815408</td>\n",
       "    </tr>\n",
       "    <tr>\n",
       "      <th>2.000000</th>\n",
       "      <td>0.920006</td>\n",
       "      <td>0.613599</td>\n",
       "    </tr>\n",
       "  </tbody>\n",
       "</table>\n",
       "</div>"
      ],
      "text/plain": [
       "              mean_test_score      time\n",
       "param_clf__C                           \n",
       "0.125000             0.914893  0.198449\n",
       "0.185749             0.918962  0.205209\n",
       "0.276022             0.920562  0.267580\n",
       "0.410168             0.923310  0.326691\n",
       "0.609507             0.922892  0.395719\n",
       "0.905724             0.921884  0.431187\n",
       "1.345900             0.920249  0.815408\n",
       "2.000000             0.920006  0.613599"
      ]
     },
     "execution_count": 20,
     "metadata": {},
     "output_type": "execute_result"
    }
   ],
   "source": [
    "gridcv_results.groupby([\"param_clf__C\"])[\"mean_test_score\", \"time\"].mean()"
   ]
  },
  {
   "cell_type": "markdown",
   "metadata": {},
   "source": [
    "# **Exercise 3**: \n",
    "\n",
    "Write your own sklearn pipeline with more than one important hyperparameters and use GridSearchCV to optimize those hyperparameters. Use the above pattern as a starting point and feel free to experiment with other [sklearn models](http://scikit-learn.org/stable/user_guide.html). What is the optimal accuracy found by GridSearchCV? You should be able to find a model with a cross-validated accuracy of 95% or higher (possibly >97%). "
   ]
  },
  {
   "cell_type": "code",
   "execution_count": null,
   "metadata": {
    "ExecuteTime": {
     "end_time": "2018-02-28T22:28:44.033098Z",
     "start_time": "2018-02-28T17:28:29.037591-05:00"
    },
    "collapsed": true
   },
   "outputs": [],
   "source": []
  },
  {
   "cell_type": "markdown",
   "metadata": {
    "collapsed": true
   },
   "source": [
    "# Keras\n",
    "\n",
    "Our last step is to leave the framework of sci-kit learn and use tensorflow, discussed in detail in the lecture. We will do this through Keras, which is a tool used to build tensorflow models more easily. \n",
    "\n",
    "\n",
    "We will use Keras (w optimized tensorflow backend) to build a classifier for the same digit data. We have evaluated previous models using 5-fold cross-validation so we'll use a for loop to do the same with our Keras model. First, look carefully at the example below that builds a feed-forward keras model with two hidden layers. "
   ]
  },
  {
   "cell_type": "code",
   "execution_count": 26,
   "metadata": {
    "ExecuteTime": {
     "end_time": "2018-02-28T22:30:42.075365Z",
     "start_time": "2018-02-28T17:30:42.070818-05:00"
    },
    "collapsed": true
   },
   "outputs": [],
   "source": [
    "import keras\n",
    "import keras.backend as K"
   ]
  },
  {
   "cell_type": "markdown",
   "metadata": {},
   "source": [
    "Tensorflow is the default backend used by keras."
   ]
  },
  {
   "cell_type": "code",
   "execution_count": 33,
   "metadata": {
    "ExecuteTime": {
     "end_time": "2018-02-28T22:40:25.069403Z",
     "start_time": "2018-02-28T17:40:25.062800-05:00"
    },
    "collapsed": false
   },
   "outputs": [
    {
     "data": {
      "text/plain": [
       "'tensorflow'"
      ]
     },
     "execution_count": 33,
     "metadata": {},
     "output_type": "execute_result"
    }
   ],
   "source": [
    "K.backend()"
   ]
  },
  {
   "cell_type": "markdown",
   "metadata": {},
   "source": [
    "With the tensorlfow backend, the variables, models, and operations in Keras are really just tensorflow objects."
   ]
  },
  {
   "cell_type": "code",
   "execution_count": 32,
   "metadata": {
    "ExecuteTime": {
     "end_time": "2018-02-28T22:39:37.025486Z",
     "start_time": "2018-02-28T17:39:37.010906-05:00"
    },
    "collapsed": false
   },
   "outputs": [
    {
     "data": {
      "text/plain": [
       "<tf.Variable 'Variable_1:0' shape=(1, 2, 3) dtype=float32_ref>"
      ]
     },
     "execution_count": 32,
     "metadata": {},
     "output_type": "execute_result"
    }
   ],
   "source": [
    "K.ones((1,2,3))"
   ]
  },
  {
   "cell_type": "markdown",
   "metadata": {},
   "source": [
    "So, with the following code, we can use Keras to very quickly set up and test a tensorflow model."
   ]
  },
  {
   "cell_type": "code",
   "execution_count": 23,
   "metadata": {
    "ExecuteTime": {
     "end_time": "2018-02-28T22:29:02.371502Z",
     "start_time": "2018-02-28T17:28:47.216472-05:00"
    },
    "collapsed": false
   },
   "outputs": [
    {
     "name": "stdout",
     "output_type": "stream",
     "text": [
      "364/364 [==============================] - 0s 56us/step\n",
      "362/362 [==============================] - 0s 41us/step\n",
      "359/359 [==============================] - 0s 40us/step\n",
      "357/357 [==============================] - 0s 49us/step\n",
      "355/355 [==============================] - 0s 38us/step\n",
      "mean cross-validated accuracy: 0.9231976990133154\n"
     ]
    }
   ],
   "source": [
    "skf = model_selection.StratifiedKFold(n_splits=5)\n",
    "\n",
    "acc_list = []\n",
    "for train_index, test_index in skf.split(X, y):\n",
    "    \n",
    "    model = keras.Sequential([\n",
    "        keras.layers.InputLayer(input_shape=X.shape[1:]),\n",
    "        keras.layers.Dense(32, activation=\"elu\"),\n",
    "        keras.layers.Dense(32, activation=\"elu\"),\n",
    "        keras.layers.Dense(10, activation=\"softmax\"),\n",
    "    ])\n",
    "\n",
    "    model.compile(\"nadam\", \"sparse_categorical_crossentropy\", metrics=[\"acc\"])\n",
    "    \n",
    "    model.fit(X[train_index],y[train_index],epochs=30,\n",
    "    validation_split=0.25,\n",
    "    verbose=0,\n",
    "    callbacks=[\n",
    "        keras.callbacks.ReduceLROnPlateau(\n",
    "            factor=.5, patience=1, min_lr=1e-7, verbose=0),\n",
    "        keras.callbacks.EarlyStopping(patience=4, verbose=0),\n",
    "    ] )\n",
    "    _, acc = model.evaluate(X[test_index],y[test_index])\n",
    "    acc_list.append(acc)\n",
    "    \n",
    "print(\"mean cross-validated accuracy: {}\".format(mean(acc_list)))"
   ]
  },
  {
   "cell_type": "markdown",
   "metadata": {},
   "source": [
    "# **Exercise 4**: \n",
    "\n",
    "Attempt to improve the two-layer Keras model by adding layers. \n",
    "\n",
    "Hints: \n",
    "\n",
    "Experiment with one or more of the following techniques. Refer to the previous Deep Learning lecture and the documentation for more information.\n",
    "\n",
    "- Different layers\n",
    "    - [Conv2D](https://keras.io/layers/convolutional/#conv2d) very good for images.\n",
    "    - [MaxPool2D](https://keras.io/layers/pooling/#maxpooling2d) (also AvgPool2D) for stepping down the image size after one or more conv layers.\n",
    "    - [BatchNormalization](https://keras.io/layers/normalization/#batchnormalization) great for improving learning performance in very deep networks. \n",
    "    - [GlobalAveragePooling2D](https://keras.io/layers/pooling/#globalaveragepooling2d) which are good for reducing the size of the output of blocks of convolutions.\n",
    "    - [SeparableConv2D](https://keras.io/layers/convolutional/#separableconv2d) which reduce the number of parameters, great if your network is overfitting.\n",
    "- Regularization techniques\n",
    "    - [Dropout](https://keras.io/layers/core/#dropout)\n",
    "    - [GaussianNoise](https://keras.io/layers/noise/#gaussiannoise)\n",
    "    - [Regularizers](https://keras.io/regularizers/)\n",
    "\n",
    "In the example, verbose output has been disabled for fitting. This is fine during testing but when tweaking the model it might be helpful to re-enable this output.\n",
    "\n",
    "Additionally, the above layers might require changes to the shape of the input or intermediate layers. Consider using Reshape layers or Flatten layers to deal with these problems."
   ]
  },
  {
   "cell_type": "code",
   "execution_count": null,
   "metadata": {
    "ExecuteTime": {
     "end_time": "2018-02-28T22:30:21.744147Z",
     "start_time": "2018-02-28T17:29:02.374559-05:00"
    },
    "collapsed": true
   },
   "outputs": [],
   "source": []
  },
  {
   "cell_type": "code",
   "execution_count": null,
   "metadata": {
    "ExecuteTime": {
     "end_time": "2018-02-28T22:30:21.756083Z",
     "start_time": "2018-02-28T17:30:21.749579-05:00"
    },
    "collapsed": true
   },
   "outputs": [],
   "source": []
  },
  {
   "cell_type": "code",
   "execution_count": null,
   "metadata": {
    "collapsed": true
   },
   "outputs": [],
   "source": []
  },
  {
   "cell_type": "code",
   "execution_count": null,
   "metadata": {
    "collapsed": true
   },
   "outputs": [],
   "source": []
  }
 ],
 "metadata": {
  "kernelspec": {
   "display_name": "Python 2",
   "language": "python",
   "name": "python2"
  },
  "language_info": {
   "codemirror_mode": {
    "name": "ipython",
    "version": 2
   },
   "file_extension": ".py",
   "mimetype": "text/x-python",
   "name": "python",
   "nbconvert_exporter": "python",
   "pygments_lexer": "ipython2",
   "version": "2.7.13"
  },
  "toc": {
   "nav_menu": {},
   "number_sections": true,
   "sideBar": true,
   "skip_h1_title": false,
   "toc_cell": false,
   "toc_position": {},
   "toc_section_display": "block",
   "toc_window_display": false
  },
  "varInspector": {
   "cols": {
    "lenName": 16,
    "lenType": 16,
    "lenVar": 40
   },
   "kernels_config": {
    "python": {
     "delete_cmd_postfix": "",
     "delete_cmd_prefix": "del ",
     "library": "var_list.py",
     "varRefreshCmd": "print(var_dic_list())"
    },
    "r": {
     "delete_cmd_postfix": ") ",
     "delete_cmd_prefix": "rm(",
     "library": "var_list.r",
     "varRefreshCmd": "cat(var_dic_list()) "
    }
   },
   "types_to_exclude": [
    "module",
    "function",
    "builtin_function_or_method",
    "instance",
    "_Feature"
   ],
   "window_display": false
  }
 },
 "nbformat": 4,
 "nbformat_minor": 2
}
