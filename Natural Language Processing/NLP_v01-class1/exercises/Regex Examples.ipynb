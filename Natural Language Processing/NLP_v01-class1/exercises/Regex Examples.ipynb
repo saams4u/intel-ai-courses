{
 "cells": [
  {
   "cell_type": "markdown",
   "metadata": {},
   "source": [
    "## Helper function"
   ]
  },
  {
   "cell_type": "code",
   "execution_count": null,
   "metadata": {
    "collapsed": true
   },
   "outputs": [],
   "source": [
    "import re\n",
    "def search_pattern_in_string(pattern, string):\n",
    "    '''\n",
    "    Returns the string from the first match of \n",
    "    `pattern` in `string`.\n",
    "    Returns \"No match\" if not found.\n",
    "    '''\n",
    "    search = re.compile(pattern).search(string)\n",
    "    if not search:\n",
    "        return \"No match\"\n",
    "    else:\n",
    "        return \"Found pattern: \" + search.group()\n",
    "        "
   ]
  },
  {
   "cell_type": "markdown",
   "metadata": {},
   "source": [
    "## Finding patterns using metacharacters"
   ]
  },
  {
   "cell_type": "code",
   "execution_count": null,
   "metadata": {
    "scrolled": true
   },
   "outputs": [],
   "source": [
    "print(search_pattern_in_string(\".\", \"Sherlock Holmes\"))"
   ]
  },
  {
   "cell_type": "code",
   "execution_count": null,
   "metadata": {},
   "outputs": [],
   "source": [
    "print(search_pattern_in_string(\"^\", \"Sherlock Holmes\")) # empty string\n",
    "print(search_pattern_in_string(\"^S\", \"Sherlock Holmes\"))\n",
    "print(search_pattern_in_string(\"^e\", \"Sherlock Holmes\"))"
   ]
  },
  {
   "cell_type": "code",
   "execution_count": null,
   "metadata": {
    "scrolled": true
   },
   "outputs": [],
   "source": [
    "print(search_pattern_in_string(\"$\", \"Sherlock Holmes\")) # empty string\n",
    "print(search_pattern_in_string(\"s$\", \"Sherlock Holmes\"))\n",
    "print(search_pattern_in_string(\"t$\", \"Sherlock Holmes\"))"
   ]
  },
  {
   "cell_type": "code",
   "execution_count": null,
   "metadata": {},
   "outputs": [],
   "source": [
    "print(search_pattern_in_string(\"l*\", \"Sherlock Holmes\")) # empty string\n",
    "print(search_pattern_in_string(\"S*\", \"Sherlock Holmes\"))"
   ]
  },
  {
   "cell_type": "code",
   "execution_count": null,
   "metadata": {},
   "outputs": [],
   "source": [
    "print(search_pattern_in_string(\"z*\", \"Sherlock Holmes\")) # empty string\n",
    "print(search_pattern_in_string(\"z+\", \"Sherlock Holmes\"))\n",
    "print(search_pattern_in_string(\"S+\", \"Sherlock Holmes\"))"
   ]
  },
  {
   "cell_type": "code",
   "execution_count": null,
   "metadata": {
    "scrolled": true
   },
   "outputs": [],
   "source": [
    "print(search_pattern_in_string(\"S3?h\", \"Sherlock Holmes\")) # '3' is optional"
   ]
  },
  {
   "cell_type": "code",
   "execution_count": null,
   "metadata": {},
   "outputs": [],
   "source": [
    "print(search_pattern_in_string(\"2{1,3}\", \"221B Baker Street, London\"))\n",
    "print(search_pattern_in_string(\"2{3,4}\", \"221B Baker Street, London\"))"
   ]
  },
  {
   "cell_type": "code",
   "execution_count": null,
   "metadata": {
    "scrolled": true
   },
   "outputs": [],
   "source": [
    "print(search_pattern_in_string(\"[ik]\", \"221B Baker Street, London\"))"
   ]
  },
  {
   "cell_type": "code",
   "execution_count": null,
   "metadata": {},
   "outputs": [],
   "source": [
    "string = \"Is there any other point to which you would wish to draw my attention?\"\n",
    "# print(search_pattern_in_string(\"?\", string)) # would error\n",
    "print(search_pattern_in_string(\"\\?\", string)) # error"
   ]
  },
  {
   "cell_type": "code",
   "execution_count": null,
   "metadata": {},
   "outputs": [],
   "source": [
    "print(search_pattern_in_string(\",\", \"221B Baker Street, London\"))"
   ]
  },
  {
   "cell_type": "code",
   "execution_count": null,
   "metadata": {},
   "outputs": [],
   "source": [
    "print(search_pattern_in_string(\"z|k\", \"221B Baker Street, London\"))"
   ]
  },
  {
   "cell_type": "markdown",
   "metadata": {},
   "source": [
    "## Groups"
   ]
  },
  {
   "cell_type": "code",
   "execution_count": null,
   "metadata": {},
   "outputs": [],
   "source": [
    "print(search_pattern_in_string(\"(\\d+\\w*) ([A-Z]{1}[a-z]+ [A-Z]{1}[a-z]+)\", \"221B Baker Street, London\"))"
   ]
  },
  {
   "cell_type": "code",
   "execution_count": null,
   "metadata": {},
   "outputs": [],
   "source": [
    "pattern = \"(\\d+\\w*)\\s+([A-Z]{1}\\w+\\s+[A-Z]{1}\\w+)\"\n",
    "p = re.compile(pattern)\n",
    "m = p.match(\"221B Baker Street, London\")\n",
    "print(m.group(0)) # entire address\n",
    "print(m.group(1)) # first part of address\n",
    "print(m.group(2)) # second part of address"
   ]
  }
 ],
 "metadata": {
  "kernelspec": {
   "display_name": "Python (intel_nlp)",
   "language": "python",
   "name": "intel_nlp"
  },
  "language_info": {
   "codemirror_mode": {
    "name": "ipython",
    "version": 3
   },
   "file_extension": ".py",
   "mimetype": "text/x-python",
   "name": "python",
   "nbconvert_exporter": "python",
   "pygments_lexer": "ipython3",
   "version": "3.6.5"
  }
 },
 "nbformat": 4,
 "nbformat_minor": 2
}
