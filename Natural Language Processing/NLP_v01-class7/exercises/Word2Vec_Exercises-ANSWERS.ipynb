{
 "cells": [
  {
   "cell_type": "markdown",
   "metadata": {},
   "source": [
    "# Word2Vec Exercises"
   ]
  },
  {
   "cell_type": "markdown",
   "metadata": {},
   "source": [
    "## Introduction\n",
    "\n",
    "We will be using 2 well-known text datasets to explore the capabilities of Word2Vec:\n",
    "- [Spam Classification Dataset](http://www.dt.fee.unicamp.br/~tiago/smsspamcollection/): Collection of SMS text messages labeled as Spam/Not Spam (Ham)\n",
    "- [20 Newsgroups Dataset](http://qwone.com/~jason/20Newsgroups/): Famous text classification dataset from user discussion forums with 20 classes, including...\n",
    "  - Computer Graphics (comp.graphics)\n",
    "  - Microsoft Windows (comp.os.ms-windows.misc)\n",
    "  - IBM Hardware (comp.sys.ibm.pc.hardware)\n",
    "  - Mac Hardware (comp.sys.mac.hardware)\n",
    "  - Windows XP (comp.windows.x)\n",
    "  - For Sale (misc.forsale)\n",
    "  - Automobiles (rec.autos)\n",
    "  - Motorcycles (rec.motorcycles)\n",
    "  - Baseball (rec.sport.baseball)\n",
    "  - Hockey (rec.sport.hockey)\n",
    "  - General Politics (talk.politics.misc)\n",
    "  - Politics - Gun Control (talk.politics.guns)\n",
    "  - Middle East Politics (talk.politics.mideast)\n",
    "  - Cryptography (sci.crypt)\n",
    "  - Electronics (sci.electronics)\n",
    "  - Medicine (sci.med)\n",
    "  - Space (sci.space)\n",
    "  - Religion (talk.religion.misc)\n",
    "  - Atheism (alt.atheism)\n",
    "  - Christianity (soc.religion.christian)\n",
    "  \n",
    "To perform our tasks, we will both derive our own **word vectors** from the data as well as borrow Google's massive set of word vectors trained on the web ([Google Vectors]())."
   ]
  },
  {
   "cell_type": "code",
   "execution_count": null,
   "metadata": {
    "ExecuteTime": {
     "end_time": "2017-07-27T21:54:14.154063Z",
     "start_time": "2017-07-27T21:54:09.408786Z"
    },
    "collapsed": true
   },
   "outputs": [],
   "source": [
    "# NLP tools\n",
    "import nltk\n",
    "import gensim\n",
    "\n",
    "# Data tools\n",
    "import numpy as np\n",
    "import pandas as pd\n",
    "\n",
    "# Necessary for adding accessory_functions module to path\n",
    "import os, sys\n",
    "lib_path = os.path.abspath(os.path.join('..', '..'))\n",
    "sys.path.append(lib_path)\n",
    "from accessory_functions import google_vec_file, nltk_path\n",
    "\n",
    "# Python 2 compatibility\n",
    "from __future__ import print_function\n",
    "\n",
    "# Setup nltk corpora path\n",
    "nltk.data.path.insert(0, nltk_path)"
   ]
  },
  {
   "cell_type": "code",
   "execution_count": null,
   "metadata": {
    "collapsed": true
   },
   "outputs": [],
   "source": [
    "google_vec_file"
   ]
  },
  {
   "cell_type": "markdown",
   "metadata": {},
   "source": [
    "## Question 1\n",
    "**Loading Google Word2Vec Vectors**\n",
    "* Load the Google vectors into an object `google_model` using `gensim` (This step will take awhile, as it has to load 3 million vectors into the appropriate Word2Vec format).\n",
    "* Confirm that you have 3 million vectors of length 300."
   ]
  },
  {
   "cell_type": "code",
   "execution_count": null,
   "metadata": {
    "ExecuteTime": {
     "end_time": "2017-07-27T21:57:16.564833Z",
     "start_time": "2017-07-27T21:54:14.156571Z"
    },
    "collapsed": true
   },
   "outputs": [],
   "source": [
    "# Load the Google vectors\n",
    "google_model = # student section here"
   ]
  },
  {
   "cell_type": "markdown",
   "metadata": {},
   "source": [
    "Google's model contains an extensive vocabulary."
   ]
  },
  {
   "cell_type": "code",
   "execution_count": null,
   "metadata": {
    "ExecuteTime": {
     "end_time": "2017-07-27T21:57:16.599932Z",
     "start_time": "2017-07-27T21:57:16.568339Z"
    },
    "collapsed": true
   },
   "outputs": [],
   "source": [
    "type(google_model.vocab)"
   ]
  },
  {
   "cell_type": "code",
   "execution_count": null,
   "metadata": {
    "ExecuteTime": {
     "end_time": "2017-07-27T21:57:16.616373Z",
     "start_time": "2017-07-27T21:57:16.603226Z"
    },
    "collapsed": true
   },
   "outputs": [],
   "source": [
    "# Number of Vectors\n",
    "len(google_model.vocab.keys())"
   ]
  },
  {
   "cell_type": "code",
   "execution_count": null,
   "metadata": {
    "collapsed": true
   },
   "outputs": [],
   "source": [
    "# Size of the Vectors\n",
    "google_model.vector_size"
   ]
  },
  {
   "cell_type": "markdown",
   "metadata": {},
   "source": [
    "## Question 2\n",
    "**Exploring Word2Vec Vectors**\n",
    "* Print out a few word vectors from the Google set\n",
    "* Print out the similarity between the following pairs (feel free to experiment with more if you like):\n",
    "  * baseball, bat\n",
    "  * baseball, ocean\n",
    "  * bat, fly\n",
    "* What sorts of patterns do you notice?  Where does it succeed?  Where does it fail?  How might one improve it?\n",
    "* Print out the most similar words to the following words:\n",
    "  * baseball\n",
    "  * president\n",
    "* Print out words similar to the positive words and dissimilar to the negative words for the following positive/negative groups:\n",
    "* Print out the words that don't match the others in each of the following groups:"
   ]
  },
  {
   "cell_type": "code",
   "execution_count": null,
   "metadata": {
    "collapsed": true
   },
   "outputs": [],
   "source": [
    "# Word Vectors\n",
    "# student section here\n",
    "\n"
   ]
  },
  {
   "cell_type": "code",
   "execution_count": null,
   "metadata": {
    "collapsed": true
   },
   "outputs": [],
   "source": [
    "# Pairwise Similarity\n",
    "# student section here\n",
    "\n"
   ]
  },
  {
   "cell_type": "markdown",
   "metadata": {},
   "source": [
    "* Word Sense Disambiguation"
   ]
  },
  {
   "cell_type": "code",
   "execution_count": null,
   "metadata": {
    "collapsed": true
   },
   "outputs": [],
   "source": [
    "# Most similar words\n",
    "# student section here\n",
    "\n"
   ]
  },
  {
   "cell_type": "code",
   "execution_count": null,
   "metadata": {
    "collapsed": true
   },
   "outputs": [],
   "source": [
    "# Positive Negative Similar Words\n",
    "# student section here\n",
    "\n"
   ]
  },
  {
   "cell_type": "code",
   "execution_count": null,
   "metadata": {
    "collapsed": true
   },
   "outputs": [],
   "source": [
    "# Words that don't match\n",
    "# student section here\n",
    "\n"
   ]
  },
  {
   "cell_type": "markdown",
   "metadata": {},
   "source": [
    "## Question 3\n",
    "**Document Vectors from Word Vectors**\n",
    "* Compare the following sample documents to each other by cosine similarity\n",
    "* Compare the same set of documents together by Word Mover's Distance  \n",
    "\n",
    "***Note***: You will need to take care to first do the following:\n",
    "  * Split the documents into lists of words.\n",
    "  * Remove all words that aren't in the Google vector vocabulary (Word2Vec errors otherwise)."
   ]
  },
  {
   "cell_type": "code",
   "execution_count": null,
   "metadata": {
    "collapsed": true
   },
   "outputs": [],
   "source": [
    "# Comparing via Cosine Similarity\n",
    "# student section here\n",
    "\n"
   ]
  },
  {
   "cell_type": "code",
   "execution_count": null,
   "metadata": {
    "collapsed": true
   },
   "outputs": [],
   "source": [
    "# Comparing via Word Mover's Distance\n",
    "# student section here\n",
    "\n"
   ]
  },
  {
   "cell_type": "markdown",
   "metadata": {},
   "source": [
    "## Vocabulary Features\n",
    "\n",
    "Each word contains an array of 300 features."
   ]
  },
  {
   "cell_type": "code",
   "execution_count": null,
   "metadata": {
    "ExecuteTime": {
     "end_time": "2017-07-27T21:57:16.623990Z",
     "start_time": "2017-07-27T21:57:16.618537Z"
    },
    "collapsed": true
   },
   "outputs": [],
   "source": [
    "len(google_model.word_vec('cat'))"
   ]
  },
  {
   "cell_type": "code",
   "execution_count": null,
   "metadata": {
    "ExecuteTime": {
     "end_time": "2017-07-27T21:57:16.635938Z",
     "start_time": "2017-07-27T21:57:16.627563Z"
    },
    "collapsed": true
   },
   "outputs": [],
   "source": [
    "google_model.word_vec('cat')[:20]"
   ]
  },
  {
   "cell_type": "markdown",
   "metadata": {},
   "source": [
    "The cosine similarity between words can be computed and produces intuitive trends."
   ]
  },
  {
   "cell_type": "code",
   "execution_count": null,
   "metadata": {
    "ExecuteTime": {
     "end_time": "2017-07-27T21:57:16.644153Z",
     "start_time": "2017-07-27T21:57:16.637670Z"
    },
    "collapsed": true
   },
   "outputs": [],
   "source": [
    "print(google_model.similarity('cat', 'cat'))\n",
    "print(google_model.similarity('cat', 'dog'))\n",
    "print(google_model.similarity('cat', 'car'))"
   ]
  },
  {
   "cell_type": "code",
   "execution_count": null,
   "metadata": {
    "ExecuteTime": {
     "end_time": "2017-07-27T21:57:16.650736Z",
     "start_time": "2017-07-27T21:57:16.646207Z"
    },
    "collapsed": true
   },
   "outputs": [],
   "source": [
    "print(google_model.similarity('car', 'truck'))\n",
    "print(google_model.similarity('car', 'drive'))"
   ]
  },
  {
   "cell_type": "markdown",
   "metadata": {},
   "source": [
    "Word2Vec captures some interesting similarities between words, such as the relationship between **man --> king** and **woman --> queen**."
   ]
  },
  {
   "cell_type": "code",
   "execution_count": null,
   "metadata": {
    "ExecuteTime": {
     "end_time": "2017-07-27T21:57:57.113878Z",
     "start_time": "2017-07-27T21:57:16.652764Z"
    },
    "collapsed": true
   },
   "outputs": [],
   "source": [
    "google_model.most_similar(positive=['woman', 'king'], negative=['man'], topn=3)"
   ]
  },
  {
   "cell_type": "code",
   "execution_count": null,
   "metadata": {
    "collapsed": true
   },
   "outputs": [],
   "source": [
    "google_model.wmdistance(\"Obama is the president of the United States\".lower().split(), \n",
    "                        \"Bush was the president of the United States\".lower().split())"
   ]
  },
  {
   "cell_type": "markdown",
   "metadata": {},
   "source": [
    "##### Question: Why does the previous command take so much longer than others?\n",
    "Because it has to generate a new vector that is **woman** + **king** - **man** and compare that vector to all 3 million vectors, then sort to find the closest 3.  The 3 million are stored in such a way that they can be compared quickly, but any new vector is not."
   ]
  },
  {
   "cell_type": "markdown",
   "metadata": {},
   "source": [
    "It can also detect words that don't belong in a sequence."
   ]
  },
  {
   "cell_type": "code",
   "execution_count": null,
   "metadata": {
    "ExecuteTime": {
     "end_time": "2017-07-27T21:57:57.146451Z",
     "start_time": "2017-07-27T21:57:57.122781Z"
    },
    "collapsed": true
   },
   "outputs": [],
   "source": [
    "google_model.doesnt_match(\"breakfast cereal dinner lunch\".split())"
   ]
  },
  {
   "cell_type": "markdown",
   "metadata": {},
   "source": [
    "## Question 4\n",
    "**Training a Word2Vec Model**\n",
    "* Read the spam dataset into a Dataframe.\n",
    "* Preprocess the documents using our previous `accesory_functions`.\n",
    "* Split each document into a list of words.\n",
    "* Use the results to train your own word2vec model with `gensim`.\n",
    "\n",
    "##### Question: What does \"training a word2vec model\" mean?\n",
    "Answer: generating good word vectors, or \"word embeddings\" for all unique words in the text dataset.  \"Good\" means similar words have their vectors cluster close together."
   ]
  },
  {
   "cell_type": "code",
   "execution_count": null,
   "metadata": {
    "collapsed": true
   },
   "outputs": [],
   "source": [
    "import pandas as pd\n",
    "\n",
    "spam_data = pd.read_csv('../data/spam.csv', sep='\\t', \n",
    "                        header=None, names=[\"label\", \"text\"])                         \n",
    "\n",
    "spam_data.head()"
   ]
  },
  {
   "cell_type": "markdown",
   "metadata": {},
   "source": [
    "Now let's train the Word2Vec model.  `gensim` requires the documents to be represented as a ***list of sentences*** to train Word2Vec.  Here we'll do this by calling `split()` on our document text to turn each document into a list of words."
   ]
  },
  {
   "cell_type": "code",
   "execution_count": null,
   "metadata": {
    "collapsed": true
   },
   "outputs": [],
   "source": [
    "from gensim.models import Word2Vec\n",
    "# Generate sentences for training word2vec\n",
    "sentences = spam_data.text.str.split()\n",
    "# Train a Word2Vec model\n",
    "# student section here\n",
    "\n",
    "\n"
   ]
  },
  {
   "cell_type": "markdown",
   "metadata": {},
   "source": [
    "Check out some conceptual comparisons with our word2vec model."
   ]
  },
  {
   "cell_type": "code",
   "execution_count": null,
   "metadata": {
    "collapsed": true
   },
   "outputs": [],
   "source": [
    "spam_model.most_similar('call')"
   ]
  },
  {
   "cell_type": "markdown",
   "metadata": {},
   "source": [
    "Not bad, but if you investigate deeper you realize the results are so-so at best:"
   ]
  },
  {
   "cell_type": "code",
   "execution_count": null,
   "metadata": {
    "collapsed": true
   },
   "outputs": [],
   "source": [
    "spam_model.most_similar('love')"
   ]
  },
  {
   "cell_type": "code",
   "execution_count": null,
   "metadata": {
    "collapsed": true
   },
   "outputs": [],
   "source": [
    "spam_model.most_similar('start')"
   ]
  },
  {
   "cell_type": "markdown",
   "metadata": {},
   "source": [
    "Word2Vec requires **A LOT** of data to get a really good set of vectors.  Thankfully, as you saw above, Google (and others) have done this work for you, and you can usually just load in their vectors for your tasks."
   ]
  },
  {
   "cell_type": "markdown",
   "metadata": {
    "collapsed": true
   },
   "source": [
    "## Word2Vec for Machine Learning\n",
    "\n",
    "As you know, once we have vectors for examples, we can perform Machine Learning (both supervised and unsupervised).\n",
    "\n",
    "#### From Word Vectors to Document Vectors\n",
    "Consider the case of document classification.  From Word2Vec we have vectors for words, but our examples to classify are documents.  \n",
    "\n",
    "How do we get vectors for whole documents?\n",
    "\n",
    "The most common answer is to take an average of all the word vectors in a document.  Let's try that with our spam data."
   ]
  },
  {
   "cell_type": "code",
   "execution_count": null,
   "metadata": {
    "collapsed": true
   },
   "outputs": [],
   "source": [
    "# Function to take a document as a list of words and return the document vector\n",
    "def get_doc_vec(words, model):\n",
    "    good_words = []\n",
    "    for word in words:\n",
    "        # Words not in the original model will fair\n",
    "        try:\n",
    "            if model[word] is not None:\n",
    "                good_words.append(word)\n",
    "        except:\n",
    "            continue\n",
    "    # If no words are in the original model\n",
    "    if len(good_words) == 0:\n",
    "        return None\n",
    "    # Return the mean of the vectors for all the good words\n",
    "    return model[good_words].mean(axis=0)"
   ]
  },
  {
   "cell_type": "markdown",
   "metadata": {},
   "source": [
    "Use our function to generate the document vectors for our spam data."
   ]
  },
  {
   "cell_type": "code",
   "execution_count": null,
   "metadata": {
    "collapsed": true
   },
   "outputs": [],
   "source": [
    "# Make a copy of the data to not disturb the original\n",
    "spam_data1 = spam_data.copy()\n",
    "spam_vecs = spam_data1.text.str.split().map(lambda x: get_doc_vec(x, spam_model))\n",
    "spam_vecs"
   ]
  },
  {
   "cell_type": "markdown",
   "metadata": {},
   "source": [
    "Some of the documents have no good words in them.  Let's drop them from our dataset, but before we do add them back into the original DataFrame:"
   ]
  },
  {
   "cell_type": "code",
   "execution_count": null,
   "metadata": {
    "collapsed": true
   },
   "outputs": [],
   "source": [
    "# Add to dataframe\n",
    "spam_data1['vecs'] = spam_vecs\n",
    "# Drop the bad docs\n",
    "spam_data1 = spam_data1.dropna()\n",
    "spam_data1.shape"
   ]
  },
  {
   "cell_type": "markdown",
   "metadata": {},
   "source": [
    "Now let's just convert the format that we have into a final DataFrame with 100 features and 1 label for use in our document classification task:"
   ]
  },
  {
   "cell_type": "code",
   "execution_count": null,
   "metadata": {
    "collapsed": true
   },
   "outputs": [],
   "source": [
    "# Create a Numpy array of the document vectors\n",
    "spam_np_vecs = np.zeros((len(spam_data1), 100))\n",
    "for i, vec in enumerate(spam_data1.vecs):\n",
    "    spam_np_vecs[i, :] = vec\n",
    "    \n",
    "# Combine the full dataframe with the labels\n",
    "spam_w2v_data = pd.concat([spam_data1.reset_index().label, pd.DataFrame(spam_np_vecs)], axis=1)"
   ]
  },
  {
   "cell_type": "markdown",
   "metadata": {},
   "source": [
    "Now we've arrived at a familiar point.  We have features and 1 label and we can use them to perform text classification.  As you already know how to do this, it is left for the exercises."
   ]
  },
  {
   "cell_type": "markdown",
   "metadata": {},
   "source": [
    "# Word2Vec Exercises\n",
    "In these exercises, we'll finish experimenting with the spam data by using your word2vec vectors for text classification.  You will classify spam/ham using **both** your vectors and the pretrained Google vectors.  Then we'll move on to a richer dataset for you to perform the entire pipeline for Text Classification with Word2Vec."
   ]
  },
  {
   "cell_type": "markdown",
   "metadata": {},
   "source": [
    "## Spam Classification with Word2Vec"
   ]
  },
  {
   "cell_type": "markdown",
   "metadata": {},
   "source": [
    "### Question 1\n",
    "Use the spam word2vec dataframe from above to train and evaluate any classification algorithm for spam/ham.  **Hint**: Try a K-Nearest Neighbors Classifier.\n",
    "\n",
    "Use the Google vectors from the beginning of this notebook to generate a new spam word2vec dataframe for text classification.\n",
    "\n",
    "Build yet another spam/ham classification model using the word2vec vectors from Google.\n",
    "\n",
    "Compare the performance of the 2 classifiers."
   ]
  },
  {
   "cell_type": "markdown",
   "metadata": {},
   "source": [
    "#### Trained Word2Vec Spam Classifier"
   ]
  },
  {
   "cell_type": "code",
   "execution_count": null,
   "metadata": {
    "collapsed": true,
    "scrolled": true
   },
   "outputs": [],
   "source": [
    "## Training a Classifier with our own trained vectors\n",
    "from sklearn.cross_validation import train_test_split\n",
    "from sklearn.neighbors import KNeighborsClassifier\n",
    "from sklearn.linear_model import LogisticRegression\n",
    "\n",
    "# student section here\n",
    "# Split the data\n",
    "\n",
    "\n",
    "# Train a KNN or Logistic Regression classifier\n",
    "\n",
    "\n"
   ]
  },
  {
   "cell_type": "markdown",
   "metadata": {},
   "source": [
    "#### Document Vectors from Google Vectors"
   ]
  },
  {
   "cell_type": "code",
   "execution_count": null,
   "metadata": {
    "collapsed": true
   },
   "outputs": [],
   "source": [
    "# Make a copy of the spam dataframe for the Google work\n",
    "spam_data2 = spam_data.copy()\n",
    "\n",
    "# Retrieve the document vectors based on google word vectors\n",
    "spam_google_vecs = spam_data2.text.str.split().map(lambda x: get_doc_vec(x, google_model))\n",
    "\n",
    "# Add to dataframe\n",
    "spam_data2['vecs'] = spam_google_vecs\n",
    "\n",
    "# Drop the bad docs\n",
    "spam_data2 = spam_data2.dropna()\n",
    "\n",
    "# Create a Numpy array of the document vectors\n",
    "spam_np_vecs = np.zeros((len(spam_data2), 300))\n",
    "for i, vec in enumerate(spam_data2.vecs):\n",
    "    spam_np_vecs[i, :] = vec\n",
    "    \n",
    "# Combine the full dataframe with the labels\n",
    "spam_google_data = pd.concat([spam_data2.reset_index().label, pd.DataFrame(spam_np_vecs)], axis=1)"
   ]
  },
  {
   "cell_type": "markdown",
   "metadata": {},
   "source": [
    "#### Google Word2Vec Spam Classifier"
   ]
  },
  {
   "cell_type": "code",
   "execution_count": null,
   "metadata": {
    "collapsed": true
   },
   "outputs": [],
   "source": [
    "## Training a Classifier with Google's vectors\n",
    "from sklearn.cross_validation import train_test_split\n",
    "from sklearn.neighbors import KNeighborsClassifier\n",
    "from sklearn.linear_model import LogisticRegression\n",
    "\n",
    "# student section here\n",
    "# Split the data\n",
    "\n",
    "\n",
    "# Train a KNN or Logistic Regression classifier\n",
    "\n",
    "\n"
   ]
  },
  {
   "cell_type": "markdown",
   "metadata": {},
   "source": [
    "You should see that there is not much difference in performance between your vectors and Google's for this task (though Google's is better).  **However**, this is a fairly trivial problem/dataset, and we were already performing quite well on it.  So let's try something harder!"
   ]
  },
  {
   "cell_type": "markdown",
   "metadata": {},
   "source": [
    "## 20 Newsgroups Classification with Word2Vec"
   ]
  },
  {
   "cell_type": "markdown",
   "metadata": {},
   "source": [
    "### The Data\n",
    "\n",
    "We will be using a portion of a data set containing approximately 20,000 posts partitioned evenly across 20 different newsgroups. This data set is quite famous. We will be using a sample of this data set, containing 5 topics and about 3,000 posts.\n",
    "\n",
    "We will begin by loading the data."
   ]
  },
  {
   "cell_type": "code",
   "execution_count": null,
   "metadata": {
    "collapsed": true
   },
   "outputs": [],
   "source": [
    "import pandas as pd\n",
    "from sklearn.datasets import fetch_20newsgroups\n",
    "from accessory_functions import preprocess_series_text, nltk_path\n",
    "\n",
    "topic_list = ['sci.space', 'comp.sys.mac.hardware', 'rec.autos',\n",
    "              'rec.sport.baseball', 'sci.med']\n",
    "\n",
    "# Retrieve the data into a DataFrame\n",
    "dataset = fetch_20newsgroups(shuffle=True, random_state=1, data_home='../Data',\n",
    "                             categories=topic_list,\n",
    "                             remove=('headers', 'footers', 'quotes'))\n",
    "ng_data = pd.DataFrame(dataset['data'], columns=['text'])\n",
    "ng_data['label'] = dataset['target']\n",
    "\n",
    "# Preprocess the text\n",
    "ng_data['text'] = preprocess_series_text(ng_data.text, nltk_path=nltk_path)\n",
    "\n",
    "\n",
    "print(len(ng_data))\n",
    "ng_data.head()"
   ]
  },
  {
   "cell_type": "markdown",
   "metadata": {},
   "source": [
    "### Question 2\n",
    "Train a Word2Vec model to generate word vectors from the 20 Newsgroups data.\n",
    "\n",
    "Use your Word2Vec model to generate document vectors from these word vectors.\n",
    "\n",
    "Combine these vectors with the 20 Newsgroups class labels to create a DataFrame for classification.\n",
    "\n",
    "Train a classification model for these five 20 Newsgroups classes and evaluate its performance.  **Hint**: Try a K-Nearest Neighbors Model."
   ]
  },
  {
   "cell_type": "markdown",
   "metadata": {},
   "source": [
    "#### Training Word2Vec on 20 Newsgroups"
   ]
  },
  {
   "cell_type": "code",
   "execution_count": null,
   "metadata": {
    "collapsed": true
   },
   "outputs": [],
   "source": [
    "from gensim.models import Word2Vec\n",
    "\n",
    "# student section here\n",
    "\n",
    "# Generate sentences for training word2vec\n",
    "\n",
    "# Train a Word2Vec model\n",
    "\n",
    "\n",
    "# Did it work?\n",
    "ng_model.most_similar('baseball')"
   ]
  },
  {
   "cell_type": "markdown",
   "metadata": {},
   "source": [
    "#### Document Vectors from Word Vectors"
   ]
  },
  {
   "cell_type": "code",
   "execution_count": null,
   "metadata": {
    "collapsed": true
   },
   "outputs": [],
   "source": [
    "# Make a copy of the spam dataframe for the Google work\n",
    "ng_data1 = ng_data.copy()\n",
    "\n",
    "# Retrieve the document vectors based on google word vectors\n",
    "ng_vecs = ng_data1.text.str.split().map(lambda x: get_doc_vec(x, ng_model))\n",
    "\n",
    "# Add to dataframe\n",
    "ng_data1['vecs'] = ng_vecs\n",
    "\n",
    "# Drop the bad docs\n",
    "ng_data1 = ng_data1.dropna()\n",
    "\n",
    "# Create a Numpy array of the document vectors\n",
    "ng_np_vecs = np.zeros((len(ng_data1), 100))\n",
    "for i, vec in enumerate(ng_data1.vecs):\n",
    "    ng_np_vecs[i, :] = vec\n",
    "    \n",
    "# Combine the full dataframe with the labels\n",
    "ng_w2v_data = pd.concat([ng_data1.reset_index().label, pd.DataFrame(ng_np_vecs)], axis=1)"
   ]
  },
  {
   "cell_type": "markdown",
   "metadata": {},
   "source": [
    "#### Trained Word2Vec 20 Newsgroups Classifier"
   ]
  },
  {
   "cell_type": "code",
   "execution_count": null,
   "metadata": {
    "collapsed": true
   },
   "outputs": [],
   "source": [
    "## Training a Classifier with our own trained vectors\n",
    "from sklearn.cross_validation import train_test_split\n",
    "from sklearn.neighbors import KNeighborsClassifier\n",
    "from sklearn.linear_model import LogisticRegression\n",
    "\n",
    "# student section here\n",
    "\n",
    "# Split the data\n",
    "\n",
    "\n",
    "\n",
    "# Train a KNN or Logistic Regression classifier\n",
    "\n"
   ]
  },
  {
   "cell_type": "markdown",
   "metadata": {},
   "source": [
    "### Question 3\n",
    "Use the Google vectors to generate document vectors for the 20 Newsgroups data.\n",
    "\n",
    "Combine these vectors with the 20 Newsgroups class labels to create a DataFrame for classification.\n",
    "\n",
    "Train a classification model for these five 20 Newsgroups classes and evaluate its performance.  Train a classification model for these five 20 Newsgroups classes and evaluate its performance.  **Hint**: Try a K-Nearest Neighbors Model.\n",
    "\n",
    "Note the performance of the Google vectors vs your own Word2Vec training."
   ]
  },
  {
   "cell_type": "markdown",
   "metadata": {},
   "source": [
    "#### 20 Newsgroups Document Vectors from Google Word Vectors"
   ]
  },
  {
   "cell_type": "code",
   "execution_count": null,
   "metadata": {
    "collapsed": true
   },
   "outputs": [],
   "source": [
    "# Make a copy of the spam dataframe for the Google work\n",
    "ng_data2 = ng_data.copy()\n",
    "\n",
    "# Retrieve the document vectors based on google word vectors\n",
    "ng_google_vecs = ng_data2.text.str.split().map(lambda x: get_doc_vec(x, google_model))\n",
    "\n",
    "# Add to dataframe\n",
    "ng_data2['vecs'] = ng_google_vecs\n",
    "\n",
    "# Drop the bad docs\n",
    "ng_data2 = ng_data2.dropna()\n",
    "\n",
    "# Create a Numpy array of the document vectors\n",
    "ng_np_vecs = np.zeros((len(ng_data2), 300))\n",
    "for i, vec in enumerate(ng_data2.vecs):\n",
    "    ng_np_vecs[i, :] = vec\n",
    "    \n",
    "# Combine the full dataframe with the labels\n",
    "ng_google_data = pd.concat([ng_data2.reset_index().label, pd.DataFrame(ng_np_vecs)], axis=1)"
   ]
  },
  {
   "cell_type": "markdown",
   "metadata": {},
   "source": [
    "#### Google Word2Vec Newsgroups Classifier"
   ]
  },
  {
   "cell_type": "code",
   "execution_count": null,
   "metadata": {
    "collapsed": true
   },
   "outputs": [],
   "source": [
    "## Training a Classifier with Google's vectors\n",
    "from sklearn.cross_validation import train_test_split\n",
    "from sklearn.neighbors import KNeighborsClassifier\n",
    "from sklearn.linear_model import LogisticRegression\n",
    "\n",
    "# student section here\n",
    "\n",
    "# Split the data\n",
    "\n",
    "\n",
    "\n",
    "# Train a KNN or Logistic Regression classifier\n",
    "\n"
   ]
  },
  {
   "cell_type": "markdown",
   "metadata": {},
   "source": [
    "**WOW!**  Look how much better the Google vectors did.  This should demonstrate how valuable a good set of word vectors can be."
   ]
  },
  {
   "cell_type": "markdown",
   "metadata": {},
   "source": [
    "### Question 4\n",
    "Recall TFIDF Vectorizer from the previous exercises.  Generate a DataFrame for classification using `TfidfVectorizer` and the 20 Newsgroups subset.\n",
    "\n",
    "Train a classification model on the TFIDF results using either Logistic Regression or Naive Bayes.\n",
    "\n",
    "Compare the results between your TFIDF model, trained word2vec, and Google word2vec.  Which does best?"
   ]
  },
  {
   "cell_type": "markdown",
   "metadata": {},
   "source": [
    "#### 20 Newsgroups Classification with TFIDF"
   ]
  },
  {
   "cell_type": "code",
   "execution_count": null,
   "metadata": {
    "collapsed": true
   },
   "outputs": [],
   "source": [
    "from sklearn.feature_extraction.text import TfidfVectorizer\n",
    "from sklearn.linear_model import LogisticRegression\n",
    "\n",
    "\n",
    "# students section here\n",
    "\n",
    "# Generate TFIDF Vectors\n",
    "\n",
    "\n",
    "# Split the data\n",
    "\n",
    "\n",
    "# Train a Logistic Regression\n",
    "\n",
    "\n",
    "# Evaluate\n"
   ]
  },
  {
   "cell_type": "markdown",
   "metadata": {},
   "source": [
    "Well, in this case the TFIDF did great, on par or better than word2vec.  However, TFIDF will often do very well in cases where certain trigger words are highly useful in distinguishing between classes.  If you look through the different document categories that we chose, they are ***highly*** different.  In cases where the differences between classes are more subtle, you should expect a Word2Vec model to strongly outperform TFIDF.  With more time, you can try downloading all 20 categories from 20 Newsgroups and seeing how the various models perform.  The full set has classes that are much tougher to tease apart than the relatively disjoint subset that we used."
   ]
  }
 ],
 "metadata": {
  "anaconda-cloud": {},
  "kernelspec": {
   "display_name": "Python (intel_nlp)",
   "language": "python",
   "name": "intel_nlp"
  },
  "language_info": {
   "codemirror_mode": {
    "name": "ipython",
    "version": 3
   },
   "file_extension": ".py",
   "mimetype": "text/x-python",
   "name": "python",
   "nbconvert_exporter": "python",
   "pygments_lexer": "ipython3",
   "version": "3.6.5"
  }
 },
 "nbformat": 4,
 "nbformat_minor": 1
}
