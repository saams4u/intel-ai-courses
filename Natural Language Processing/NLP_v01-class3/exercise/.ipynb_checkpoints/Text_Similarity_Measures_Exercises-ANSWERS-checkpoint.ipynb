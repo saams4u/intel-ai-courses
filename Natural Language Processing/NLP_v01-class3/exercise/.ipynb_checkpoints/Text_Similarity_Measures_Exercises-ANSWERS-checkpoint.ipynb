{
 "cells": [
  {
   "cell_type": "markdown",
   "metadata": {},
   "source": [
    "# Text Similarity Measures Exercises #"
   ]
  },
  {
   "cell_type": "markdown",
   "metadata": {},
   "source": [
    "## Introduction ##"
   ]
  },
  {
   "cell_type": "markdown",
   "metadata": {},
   "source": [
    "We will be using [a song lyric dataset from Kaggle](https://www.kaggle.com/mousehead/songlyrics) to identify songs with similar lyrics. The data set contains artists, songs and lyrics for 55K+ songs, but today we will be focusing on songs by one group in particular - The Beatles.\n",
    "\n",
    "The following code will help you load in the data and get set up for this exercise."
   ]
  },
  {
   "cell_type": "code",
   "execution_count": 1,
   "metadata": {
    "collapsed": true
   },
   "outputs": [],
   "source": [
    "import nltk\n",
    "import pandas as pd"
   ]
  },
  {
   "cell_type": "code",
   "execution_count": 2,
   "metadata": {},
   "outputs": [
    {
     "data": {
      "text/html": [
       "<div>\n",
       "<style>\n",
       "    .dataframe thead tr:only-child th {\n",
       "        text-align: right;\n",
       "    }\n",
       "\n",
       "    .dataframe thead th {\n",
       "        text-align: left;\n",
       "    }\n",
       "\n",
       "    .dataframe tbody tr th {\n",
       "        vertical-align: top;\n",
       "    }\n",
       "</style>\n",
       "<table border=\"1\" class=\"dataframe\">\n",
       "  <thead>\n",
       "    <tr style=\"text-align: right;\">\n",
       "      <th></th>\n",
       "      <th>artist</th>\n",
       "      <th>song</th>\n",
       "      <th>link</th>\n",
       "      <th>text</th>\n",
       "    </tr>\n",
       "  </thead>\n",
       "  <tbody>\n",
       "    <tr>\n",
       "      <th>0</th>\n",
       "      <td>ABBA</td>\n",
       "      <td>Ahe's My Kind Of Girl</td>\n",
       "      <td>/a/abba/ahes+my+kind+of+girl_20598417.html</td>\n",
       "      <td>Look at her face, it's a wonderful face  \\nAnd...</td>\n",
       "    </tr>\n",
       "    <tr>\n",
       "      <th>1</th>\n",
       "      <td>ABBA</td>\n",
       "      <td>Andante, Andante</td>\n",
       "      <td>/a/abba/andante+andante_20002708.html</td>\n",
       "      <td>Take it easy with me, please  \\nTouch me gentl...</td>\n",
       "    </tr>\n",
       "    <tr>\n",
       "      <th>2</th>\n",
       "      <td>ABBA</td>\n",
       "      <td>As Good As New</td>\n",
       "      <td>/a/abba/as+good+as+new_20003033.html</td>\n",
       "      <td>I'll never know why I had to go  \\nWhy I had t...</td>\n",
       "    </tr>\n",
       "    <tr>\n",
       "      <th>3</th>\n",
       "      <td>ABBA</td>\n",
       "      <td>Bang</td>\n",
       "      <td>/a/abba/bang_20598415.html</td>\n",
       "      <td>Making somebody happy is a question of give an...</td>\n",
       "    </tr>\n",
       "    <tr>\n",
       "      <th>4</th>\n",
       "      <td>ABBA</td>\n",
       "      <td>Bang-A-Boomerang</td>\n",
       "      <td>/a/abba/bang+a+boomerang_20002668.html</td>\n",
       "      <td>Making somebody happy is a question of give an...</td>\n",
       "    </tr>\n",
       "  </tbody>\n",
       "</table>\n",
       "</div>"
      ],
      "text/plain": [
       "  artist                   song                                        link  \\\n",
       "0   ABBA  Ahe's My Kind Of Girl  /a/abba/ahes+my+kind+of+girl_20598417.html   \n",
       "1   ABBA       Andante, Andante       /a/abba/andante+andante_20002708.html   \n",
       "2   ABBA         As Good As New        /a/abba/as+good+as+new_20003033.html   \n",
       "3   ABBA                   Bang                  /a/abba/bang_20598415.html   \n",
       "4   ABBA       Bang-A-Boomerang      /a/abba/bang+a+boomerang_20002668.html   \n",
       "\n",
       "                                                text  \n",
       "0  Look at her face, it's a wonderful face  \\nAnd...  \n",
       "1  Take it easy with me, please  \\nTouch me gentl...  \n",
       "2  I'll never know why I had to go  \\nWhy I had t...  \n",
       "3  Making somebody happy is a question of give an...  \n",
       "4  Making somebody happy is a question of give an...  "
      ]
     },
     "execution_count": 2,
     "metadata": {},
     "output_type": "execute_result"
    }
   ],
   "source": [
    "data = pd.read_csv('../data/songdata.csv')\n",
    "data.head()"
   ]
  },
  {
   "cell_type": "markdown",
   "metadata": {},
   "source": [
    "## Question 1 ##"
   ]
  },
  {
   "cell_type": "markdown",
   "metadata": {},
   "source": [
    "* Filter the lyrics data set to only select songs by The Beatles.\n",
    "* How many songs are there in total by The Beatles?\n",
    "* Take a look at the first song's lyrics."
   ]
  },
  {
   "cell_type": "code",
   "execution_count": 3,
   "metadata": {},
   "outputs": [
    {
     "data": {
      "text/html": [
       "<div>\n",
       "<style>\n",
       "    .dataframe thead tr:only-child th {\n",
       "        text-align: right;\n",
       "    }\n",
       "\n",
       "    .dataframe thead th {\n",
       "        text-align: left;\n",
       "    }\n",
       "\n",
       "    .dataframe tbody tr th {\n",
       "        vertical-align: top;\n",
       "    }\n",
       "</style>\n",
       "<table border=\"1\" class=\"dataframe\">\n",
       "  <thead>\n",
       "    <tr style=\"text-align: right;\">\n",
       "      <th></th>\n",
       "      <th>artist</th>\n",
       "      <th>song</th>\n",
       "      <th>link</th>\n",
       "      <th>text</th>\n",
       "    </tr>\n",
       "  </thead>\n",
       "  <tbody>\n",
       "    <tr>\n",
       "      <th>1198</th>\n",
       "      <td>The Beatles</td>\n",
       "      <td>A Shot Of Rhythm And Blues</td>\n",
       "      <td>/b/beatles/a+shot+of+rhythm+blues_20014867.html</td>\n",
       "      <td>Well, if your hands start a-clappin'  \\nAnd yo...</td>\n",
       "    </tr>\n",
       "    <tr>\n",
       "      <th>1199</th>\n",
       "      <td>The Beatles</td>\n",
       "      <td>Across The Universe</td>\n",
       "      <td>/b/beatles/across+the+universe_10026507.html</td>\n",
       "      <td>Words are flowing out like  \\nEndless rain int...</td>\n",
       "    </tr>\n",
       "    <tr>\n",
       "      <th>1200</th>\n",
       "      <td>The Beatles</td>\n",
       "      <td>All I've Got To Do</td>\n",
       "      <td>/b/beatles/all+ive+got+to+do_10026646.html</td>\n",
       "      <td>Whenever I want you around, yeah  \\nAll I gott...</td>\n",
       "    </tr>\n",
       "    <tr>\n",
       "      <th>1201</th>\n",
       "      <td>The Beatles</td>\n",
       "      <td>And I Love Her</td>\n",
       "      <td>/b/beatles/and+i+love+her_10026463.html</td>\n",
       "      <td>I give her all my love  \\nThat's all I do  \\nA...</td>\n",
       "    </tr>\n",
       "    <tr>\n",
       "      <th>1202</th>\n",
       "      <td>The Beatles</td>\n",
       "      <td>And Your Bird Can Sing</td>\n",
       "      <td>/b/beatles/and+your+bird+can+sing_10026364.html</td>\n",
       "      <td>You tell me that you've got everything you wan...</td>\n",
       "    </tr>\n",
       "  </tbody>\n",
       "</table>\n",
       "</div>"
      ],
      "text/plain": [
       "           artist                        song  \\\n",
       "1198  The Beatles  A Shot Of Rhythm And Blues   \n",
       "1199  The Beatles         Across The Universe   \n",
       "1200  The Beatles          All I've Got To Do   \n",
       "1201  The Beatles              And I Love Her   \n",
       "1202  The Beatles      And Your Bird Can Sing   \n",
       "\n",
       "                                                 link  \\\n",
       "1198  /b/beatles/a+shot+of+rhythm+blues_20014867.html   \n",
       "1199     /b/beatles/across+the+universe_10026507.html   \n",
       "1200       /b/beatles/all+ive+got+to+do_10026646.html   \n",
       "1201          /b/beatles/and+i+love+her_10026463.html   \n",
       "1202  /b/beatles/and+your+bird+can+sing_10026364.html   \n",
       "\n",
       "                                                   text  \n",
       "1198  Well, if your hands start a-clappin'  \\nAnd yo...  \n",
       "1199  Words are flowing out like  \\nEndless rain int...  \n",
       "1200  Whenever I want you around, yeah  \\nAll I gott...  \n",
       "1201  I give her all my love  \\nThat's all I do  \\nA...  \n",
       "1202  You tell me that you've got everything you wan...  "
      ]
     },
     "execution_count": 3,
     "metadata": {},
     "output_type": "execute_result"
    }
   ],
   "source": [
    "# Only look at songs by The Beatles\n",
    "beatles = data[data.artist=='The Beatles']\n",
    "beatles.head()"
   ]
  },
  {
   "cell_type": "code",
   "execution_count": 4,
   "metadata": {},
   "outputs": [
    {
     "data": {
      "text/plain": [
       "The Beatles    178\n",
       "Name: artist, dtype: int64"
      ]
     },
     "execution_count": 4,
     "metadata": {},
     "output_type": "execute_result"
    }
   ],
   "source": [
    "# Check the number of Beatles songs in the data set\n",
    "data.artist.value_counts().loc[['The Beatles']]"
   ]
  },
  {
   "cell_type": "code",
   "execution_count": 5,
   "metadata": {},
   "outputs": [
    {
     "data": {
      "text/plain": [
       "\"Well, if your hands start a-clappin'  \\nAnd your fingers start a-poppin'  \\nAnd your feet start a-movin' around  \\nAnd if you start to swing and sway  \\n  \\nWhen the band starts to play  \\nA real cool way out sound  \\nAnd if you get to can't help it and you can't sit down  \\nYou feel like you gotta move around  \\n  \\nYou get a shot of rhythm and blues.  \\nWith just a little rock and roll on the side  \\nJust for good measure.  \\nGet a pair of dancin' shoes  \\n  \\nWell, with your lover by your side  \\nDon't you know you're gonna have a rockin' time, see'mon!  \\nDon't you worry 'bout a thing  \\nIf you start to dance and sing  \\n  \\nAnd chills come up on you  \\nAnd if the rhythm finally gets you and the beat gets you too  \\nWell, here's something for you to do  \\n  \\nGet a shot of rhythm and blues  \\nWith just a little rock and roll on the side  \\nJust for good measure  \\nGet a pair of dancin' shoes  \\n  \\nWell, with your lover by your side  \\nDon't you know you're gonna have a rockin' time, see'mon!  \\nDon't you worry 'bout a thing  \\nIf you start to dance and sing  \\n  \\nAnd chills come up on you  \\nAnd if the rhythm finally gets you and the beat gets you too  \\nWell, here's something for you to do  \\n  \\nGet a shot of rhythm and blues  \\nGet a pair of dancin' shoes  \\nGet a shot of rhythm and blues  \\nWell, with your lover by your side  \\n  \\nDon't you know you're gonna have a rockin' time, see'mon!  \\nDon't you worry 'bout a thing  \\nIf you start to dance and sing  \\nAnd chills come up on you  \\n  \\nAnd if the rhythm finally gets you and the beat gets you too  \\nWell, here's something for you to do  \\nWell, here's something for you to do  \\nWell, here's something for you to do\\n\\n\""
      ]
     },
     "execution_count": 5,
     "metadata": {},
     "output_type": "execute_result"
    }
   ],
   "source": [
    "# Take a look at the first song's lyrics\n",
    "beatles.iloc[0,3]"
   ]
  },
  {
   "cell_type": "markdown",
   "metadata": {},
   "source": [
    "## Question 2 ##"
   ]
  },
  {
   "cell_type": "markdown",
   "metadata": {},
   "source": [
    "Apply the following preprocessing steps:\n",
    "* Note the '\\n' (new line) characters in the lyrics. Remove them using regular expressions.\n",
    "* Remove all words with numbers using regular expressions.\n",
    "* Create a document-term matrix using Count Vectorizer, with each row as a song and each column as a word in the lyrics. Have the Count Vectorizer remove all stop words as well.\n",
    "\n",
    "Note: Count Vectorizer automatically removes punctuation and makes all characters lowercase."
   ]
  },
  {
   "cell_type": "code",
   "execution_count": 6,
   "metadata": {},
   "outputs": [
    {
     "data": {
      "text/plain": [
       "1198    Well, if your hands start a-clappin'   And you...\n",
       "1199    Words are flowing out like   Endless rain into...\n",
       "1200    Whenever I want you around, yeah   All I gotta...\n",
       "1201    I give her all my love   That's all I do   And...\n",
       "1202    You tell me that you've got everything you wan...\n",
       "Name: text, dtype: object"
      ]
     },
     "execution_count": 6,
     "metadata": {},
     "output_type": "execute_result"
    }
   ],
   "source": [
    "# Remove characters from the lyrics\n",
    "import re\n",
    "\n",
    "newline = lambda x: re.sub('\\n', ' ', x) # remove \\n\n",
    "alphanumeric = lambda x: re.sub('\\w*\\d\\w*', ' ', x) # remove alphanumeric words\n",
    "\n",
    "corpus = beatles.text.map(newline).map(alphanumeric)\n",
    "corpus.head()"
   ]
  },
  {
   "cell_type": "code",
   "execution_count": 7,
   "metadata": {
    "scrolled": true
   },
   "outputs": [
    {
     "data": {
      "text/html": [
       "<div>\n",
       "<style>\n",
       "    .dataframe thead tr:only-child th {\n",
       "        text-align: right;\n",
       "    }\n",
       "\n",
       "    .dataframe thead th {\n",
       "        text-align: left;\n",
       "    }\n",
       "\n",
       "    .dataframe tbody tr th {\n",
       "        vertical-align: top;\n",
       "    }\n",
       "</style>\n",
       "<table border=\"1\" class=\"dataframe\">\n",
       "  <thead>\n",
       "    <tr style=\"text-align: right;\">\n",
       "      <th></th>\n",
       "      <th>aaahhh</th>\n",
       "      <th>aah</th>\n",
       "      <th>abc</th>\n",
       "      <th>aches</th>\n",
       "      <th>aching</th>\n",
       "      <th>acquainted</th>\n",
       "      <th>act</th>\n",
       "      <th>actors</th>\n",
       "      <th>acts</th>\n",
       "      <th>add</th>\n",
       "      <th>...</th>\n",
       "      <th>yes</th>\n",
       "      <th>yesterday</th>\n",
       "      <th>yoko</th>\n",
       "      <th>young</th>\n",
       "      <th>younger</th>\n",
       "      <th>youre</th>\n",
       "      <th>youu</th>\n",
       "      <th>zealand</th>\n",
       "      <th>zoo</th>\n",
       "      <th>zu</th>\n",
       "    </tr>\n",
       "    <tr>\n",
       "      <th>song</th>\n",
       "      <th></th>\n",
       "      <th></th>\n",
       "      <th></th>\n",
       "      <th></th>\n",
       "      <th></th>\n",
       "      <th></th>\n",
       "      <th></th>\n",
       "      <th></th>\n",
       "      <th></th>\n",
       "      <th></th>\n",
       "      <th></th>\n",
       "      <th></th>\n",
       "      <th></th>\n",
       "      <th></th>\n",
       "      <th></th>\n",
       "      <th></th>\n",
       "      <th></th>\n",
       "      <th></th>\n",
       "      <th></th>\n",
       "      <th></th>\n",
       "      <th></th>\n",
       "    </tr>\n",
       "  </thead>\n",
       "  <tbody>\n",
       "    <tr>\n",
       "      <th>A Shot Of Rhythm And Blues</th>\n",
       "      <td>0</td>\n",
       "      <td>0</td>\n",
       "      <td>0</td>\n",
       "      <td>0</td>\n",
       "      <td>0</td>\n",
       "      <td>0</td>\n",
       "      <td>0</td>\n",
       "      <td>0</td>\n",
       "      <td>0</td>\n",
       "      <td>0</td>\n",
       "      <td>...</td>\n",
       "      <td>0</td>\n",
       "      <td>0</td>\n",
       "      <td>0</td>\n",
       "      <td>0</td>\n",
       "      <td>0</td>\n",
       "      <td>0</td>\n",
       "      <td>0</td>\n",
       "      <td>0</td>\n",
       "      <td>0</td>\n",
       "      <td>0</td>\n",
       "    </tr>\n",
       "    <tr>\n",
       "      <th>Across The Universe</th>\n",
       "      <td>0</td>\n",
       "      <td>0</td>\n",
       "      <td>0</td>\n",
       "      <td>0</td>\n",
       "      <td>0</td>\n",
       "      <td>0</td>\n",
       "      <td>0</td>\n",
       "      <td>0</td>\n",
       "      <td>0</td>\n",
       "      <td>0</td>\n",
       "      <td>...</td>\n",
       "      <td>0</td>\n",
       "      <td>0</td>\n",
       "      <td>0</td>\n",
       "      <td>0</td>\n",
       "      <td>0</td>\n",
       "      <td>0</td>\n",
       "      <td>0</td>\n",
       "      <td>0</td>\n",
       "      <td>0</td>\n",
       "      <td>0</td>\n",
       "    </tr>\n",
       "    <tr>\n",
       "      <th>All I've Got To Do</th>\n",
       "      <td>0</td>\n",
       "      <td>0</td>\n",
       "      <td>0</td>\n",
       "      <td>0</td>\n",
       "      <td>0</td>\n",
       "      <td>0</td>\n",
       "      <td>0</td>\n",
       "      <td>0</td>\n",
       "      <td>0</td>\n",
       "      <td>0</td>\n",
       "      <td>...</td>\n",
       "      <td>2</td>\n",
       "      <td>0</td>\n",
       "      <td>0</td>\n",
       "      <td>0</td>\n",
       "      <td>0</td>\n",
       "      <td>0</td>\n",
       "      <td>0</td>\n",
       "      <td>0</td>\n",
       "      <td>0</td>\n",
       "      <td>0</td>\n",
       "    </tr>\n",
       "    <tr>\n",
       "      <th>And I Love Her</th>\n",
       "      <td>0</td>\n",
       "      <td>0</td>\n",
       "      <td>0</td>\n",
       "      <td>0</td>\n",
       "      <td>0</td>\n",
       "      <td>0</td>\n",
       "      <td>0</td>\n",
       "      <td>0</td>\n",
       "      <td>0</td>\n",
       "      <td>0</td>\n",
       "      <td>...</td>\n",
       "      <td>0</td>\n",
       "      <td>0</td>\n",
       "      <td>0</td>\n",
       "      <td>0</td>\n",
       "      <td>0</td>\n",
       "      <td>0</td>\n",
       "      <td>0</td>\n",
       "      <td>0</td>\n",
       "      <td>0</td>\n",
       "      <td>0</td>\n",
       "    </tr>\n",
       "    <tr>\n",
       "      <th>And Your Bird Can Sing</th>\n",
       "      <td>0</td>\n",
       "      <td>0</td>\n",
       "      <td>0</td>\n",
       "      <td>0</td>\n",
       "      <td>0</td>\n",
       "      <td>0</td>\n",
       "      <td>0</td>\n",
       "      <td>0</td>\n",
       "      <td>0</td>\n",
       "      <td>0</td>\n",
       "      <td>...</td>\n",
       "      <td>0</td>\n",
       "      <td>0</td>\n",
       "      <td>0</td>\n",
       "      <td>0</td>\n",
       "      <td>0</td>\n",
       "      <td>0</td>\n",
       "      <td>0</td>\n",
       "      <td>0</td>\n",
       "      <td>0</td>\n",
       "      <td>0</td>\n",
       "    </tr>\n",
       "  </tbody>\n",
       "</table>\n",
       "<p>5 rows × 2026 columns</p>\n",
       "</div>"
      ],
      "text/plain": [
       "                            aaahhh  aah  abc  aches  aching  acquainted  act  \\\n",
       "song                                                                           \n",
       "A Shot Of Rhythm And Blues       0    0    0      0       0           0    0   \n",
       "Across The Universe              0    0    0      0       0           0    0   \n",
       "All I've Got To Do               0    0    0      0       0           0    0   \n",
       "And I Love Her                   0    0    0      0       0           0    0   \n",
       "And Your Bird Can Sing           0    0    0      0       0           0    0   \n",
       "\n",
       "                            actors  acts  add ...  yes  yesterday  yoko  \\\n",
       "song                                          ...                         \n",
       "A Shot Of Rhythm And Blues       0     0    0 ...    0          0     0   \n",
       "Across The Universe              0     0    0 ...    0          0     0   \n",
       "All I've Got To Do               0     0    0 ...    2          0     0   \n",
       "And I Love Her                   0     0    0 ...    0          0     0   \n",
       "And Your Bird Can Sing           0     0    0 ...    0          0     0   \n",
       "\n",
       "                            young  younger  youre  youu  zealand  zoo  zu  \n",
       "song                                                                       \n",
       "A Shot Of Rhythm And Blues      0        0      0     0        0    0   0  \n",
       "Across The Universe             0        0      0     0        0    0   0  \n",
       "All I've Got To Do              0        0      0     0        0    0   0  \n",
       "And I Love Her                  0        0      0     0        0    0   0  \n",
       "And Your Bird Can Sing          0        0      0     0        0    0   0  \n",
       "\n",
       "[5 rows x 2026 columns]"
      ]
     },
     "execution_count": 7,
     "metadata": {},
     "output_type": "execute_result"
    }
   ],
   "source": [
    "# Create a document term matrix using Count Vectorizer with the stop words turned on to English\n",
    "from sklearn.feature_extraction.text import CountVectorizer\n",
    "          \n",
    "cv = CountVectorizer(stop_words=\"english\")\n",
    "X = cv.fit_transform(corpus).toarray()\n",
    "\n",
    "dt = pd.DataFrame(X, columns=cv.get_feature_names()).set_index(beatles.song)\n",
    "dt.head()"
   ]
  },
  {
   "cell_type": "markdown",
   "metadata": {},
   "source": [
    "## Question 3 ##"
   ]
  },
  {
   "cell_type": "markdown",
   "metadata": {},
   "source": [
    "* Take a look at the lyrics for the song \"Imagine\".\n",
    "* Which song is the most similar to the song \"Imagine\"?\n",
    "     * Use cosine similarity to calculate the similarity\n",
    "     * Use Count Vectorizer to numerically encode the lyrics\n",
    "* Find the most similar song using the TF-IDF Vectorizer.\n",
    "\n",
    "Compare the most similar song of the outputs of both the Count Vectorizer and the TF-IDF Vectorizer."
   ]
  },
  {
   "cell_type": "code",
   "execution_count": 8,
   "metadata": {
    "collapsed": true
   },
   "outputs": [],
   "source": [
    "# Set display options so that the lyrics aren't cut off\n",
    "pd.set_option('display.max_colwidth', -1)"
   ]
  },
  {
   "cell_type": "code",
   "execution_count": 9,
   "metadata": {},
   "outputs": [
    {
     "data": {
      "text/plain": [
       "24783    Imagine there's no heaven  \\nIt's easy if you try  \\nNo hell below us  \\nAbove us only sky  \\nImagine all the people  \\nLiving for today...  \\n  \\nImagine there's no countries  \\nIt isn't hard to do  \\nNothing to kill or die for  \\nAnd no religion too  \\nImagine all the people  \\nLiving life in peace...  \\n  \\nYou may say I'm a dreamer  \\nBut I'm not the only one  \\nI hope someday you'll join us  \\nAnd the world will be as one  \\n  \\nImagine no possessions  \\nI wonder if you can  \\nNo need for greed or hunger  \\nA brotherhood of man  \\nImagine all the people  \\nSharing all the world...  \\n  \\nYou may say I'm a dreamer  \\nBut I'm not the only one  \\nI hope someday you'll join us  \\nAnd the world will live as one\\n\\n\n",
       "Name: text, dtype: object"
      ]
     },
     "execution_count": 9,
     "metadata": {},
     "output_type": "execute_result"
    }
   ],
   "source": [
    "# Imagine lyrics\n",
    "beatles[beatles.song=='Imagine'].text"
   ]
  },
  {
   "cell_type": "code",
   "execution_count": 10,
   "metadata": {},
   "outputs": [
    {
     "data": {
      "text/plain": [
       "[0, 0, 0, 0, 0, 0, 0, 0, 0, 0, 0, 0, 0, 0, 0, 0, 0, 0, 0, 0]"
      ]
     },
     "execution_count": 10,
     "metadata": {},
     "output_type": "execute_result"
    }
   ],
   "source": [
    "# Imagine lyrics in Count Vectorizer form\n",
    "imagine = list(dt.loc['Imagine'])\n",
    "imagine[:20]"
   ]
  },
  {
   "cell_type": "code",
   "execution_count": 11,
   "metadata": {
    "collapsed": true
   },
   "outputs": [],
   "source": [
    "# Define the cosine similarity calculation\n",
    "from numpy import dot\n",
    "from numpy.linalg import norm\n",
    "\n",
    "cosine = lambda v1, v2: dot(v1, v2) / (norm(v1) * norm(v2))"
   ]
  },
  {
   "cell_type": "code",
   "execution_count": 12,
   "metadata": {},
   "outputs": [
    {
     "data": {
      "text/plain": [
       "[(0.22757944185316942, \"I'll Cry Instead\"),\n",
       " (0.1738270040532526, 'In My Life'),\n",
       " (0.16574838603294895, 'Eleanor Rigby'),\n",
       " (0.14902808318498439, 'In Spite Of All The Danger'),\n",
       " (0.14592261028699943, 'All My Loving')]"
      ]
     },
     "execution_count": 12,
     "metadata": {},
     "output_type": "execute_result"
    }
   ],
   "source": [
    "# Calculate all similarities and sort by the most similar\n",
    "similarity = [cosine(imagine, song) for song in X]\n",
    "sorted(list(zip(similarity, beatles.song)), reverse=True)[1:6]"
   ]
  },
  {
   "cell_type": "code",
   "execution_count": 13,
   "metadata": {},
   "outputs": [
    {
     "data": {
      "text/html": [
       "<div>\n",
       "<style>\n",
       "    .dataframe thead tr:only-child th {\n",
       "        text-align: right;\n",
       "    }\n",
       "\n",
       "    .dataframe thead th {\n",
       "        text-align: left;\n",
       "    }\n",
       "\n",
       "    .dataframe tbody tr th {\n",
       "        vertical-align: top;\n",
       "    }\n",
       "</style>\n",
       "<table border=\"1\" class=\"dataframe\">\n",
       "  <thead>\n",
       "    <tr style=\"text-align: right;\">\n",
       "      <th></th>\n",
       "      <th>aaahhh</th>\n",
       "      <th>aah</th>\n",
       "      <th>abc</th>\n",
       "      <th>aches</th>\n",
       "      <th>aching</th>\n",
       "      <th>acquainted</th>\n",
       "      <th>act</th>\n",
       "      <th>actors</th>\n",
       "      <th>acts</th>\n",
       "      <th>add</th>\n",
       "      <th>...</th>\n",
       "      <th>yes</th>\n",
       "      <th>yesterday</th>\n",
       "      <th>yoko</th>\n",
       "      <th>young</th>\n",
       "      <th>younger</th>\n",
       "      <th>youre</th>\n",
       "      <th>youu</th>\n",
       "      <th>zealand</th>\n",
       "      <th>zoo</th>\n",
       "      <th>zu</th>\n",
       "    </tr>\n",
       "    <tr>\n",
       "      <th>song</th>\n",
       "      <th></th>\n",
       "      <th></th>\n",
       "      <th></th>\n",
       "      <th></th>\n",
       "      <th></th>\n",
       "      <th></th>\n",
       "      <th></th>\n",
       "      <th></th>\n",
       "      <th></th>\n",
       "      <th></th>\n",
       "      <th></th>\n",
       "      <th></th>\n",
       "      <th></th>\n",
       "      <th></th>\n",
       "      <th></th>\n",
       "      <th></th>\n",
       "      <th></th>\n",
       "      <th></th>\n",
       "      <th></th>\n",
       "      <th></th>\n",
       "      <th></th>\n",
       "    </tr>\n",
       "  </thead>\n",
       "  <tbody>\n",
       "    <tr>\n",
       "      <th>A Shot Of Rhythm And Blues</th>\n",
       "      <td>0.0</td>\n",
       "      <td>0.0</td>\n",
       "      <td>0.0</td>\n",
       "      <td>0.0</td>\n",
       "      <td>0.0</td>\n",
       "      <td>0.0</td>\n",
       "      <td>0.0</td>\n",
       "      <td>0.0</td>\n",
       "      <td>0.0</td>\n",
       "      <td>0.0</td>\n",
       "      <td>...</td>\n",
       "      <td>0.000000</td>\n",
       "      <td>0.0</td>\n",
       "      <td>0.0</td>\n",
       "      <td>0.0</td>\n",
       "      <td>0.0</td>\n",
       "      <td>0.0</td>\n",
       "      <td>0.0</td>\n",
       "      <td>0.0</td>\n",
       "      <td>0.0</td>\n",
       "      <td>0.0</td>\n",
       "    </tr>\n",
       "    <tr>\n",
       "      <th>Across The Universe</th>\n",
       "      <td>0.0</td>\n",
       "      <td>0.0</td>\n",
       "      <td>0.0</td>\n",
       "      <td>0.0</td>\n",
       "      <td>0.0</td>\n",
       "      <td>0.0</td>\n",
       "      <td>0.0</td>\n",
       "      <td>0.0</td>\n",
       "      <td>0.0</td>\n",
       "      <td>0.0</td>\n",
       "      <td>...</td>\n",
       "      <td>0.000000</td>\n",
       "      <td>0.0</td>\n",
       "      <td>0.0</td>\n",
       "      <td>0.0</td>\n",
       "      <td>0.0</td>\n",
       "      <td>0.0</td>\n",
       "      <td>0.0</td>\n",
       "      <td>0.0</td>\n",
       "      <td>0.0</td>\n",
       "      <td>0.0</td>\n",
       "    </tr>\n",
       "    <tr>\n",
       "      <th>All I've Got To Do</th>\n",
       "      <td>0.0</td>\n",
       "      <td>0.0</td>\n",
       "      <td>0.0</td>\n",
       "      <td>0.0</td>\n",
       "      <td>0.0</td>\n",
       "      <td>0.0</td>\n",
       "      <td>0.0</td>\n",
       "      <td>0.0</td>\n",
       "      <td>0.0</td>\n",
       "      <td>0.0</td>\n",
       "      <td>...</td>\n",
       "      <td>0.120483</td>\n",
       "      <td>0.0</td>\n",
       "      <td>0.0</td>\n",
       "      <td>0.0</td>\n",
       "      <td>0.0</td>\n",
       "      <td>0.0</td>\n",
       "      <td>0.0</td>\n",
       "      <td>0.0</td>\n",
       "      <td>0.0</td>\n",
       "      <td>0.0</td>\n",
       "    </tr>\n",
       "    <tr>\n",
       "      <th>And I Love Her</th>\n",
       "      <td>0.0</td>\n",
       "      <td>0.0</td>\n",
       "      <td>0.0</td>\n",
       "      <td>0.0</td>\n",
       "      <td>0.0</td>\n",
       "      <td>0.0</td>\n",
       "      <td>0.0</td>\n",
       "      <td>0.0</td>\n",
       "      <td>0.0</td>\n",
       "      <td>0.0</td>\n",
       "      <td>...</td>\n",
       "      <td>0.000000</td>\n",
       "      <td>0.0</td>\n",
       "      <td>0.0</td>\n",
       "      <td>0.0</td>\n",
       "      <td>0.0</td>\n",
       "      <td>0.0</td>\n",
       "      <td>0.0</td>\n",
       "      <td>0.0</td>\n",
       "      <td>0.0</td>\n",
       "      <td>0.0</td>\n",
       "    </tr>\n",
       "    <tr>\n",
       "      <th>And Your Bird Can Sing</th>\n",
       "      <td>0.0</td>\n",
       "      <td>0.0</td>\n",
       "      <td>0.0</td>\n",
       "      <td>0.0</td>\n",
       "      <td>0.0</td>\n",
       "      <td>0.0</td>\n",
       "      <td>0.0</td>\n",
       "      <td>0.0</td>\n",
       "      <td>0.0</td>\n",
       "      <td>0.0</td>\n",
       "      <td>...</td>\n",
       "      <td>0.000000</td>\n",
       "      <td>0.0</td>\n",
       "      <td>0.0</td>\n",
       "      <td>0.0</td>\n",
       "      <td>0.0</td>\n",
       "      <td>0.0</td>\n",
       "      <td>0.0</td>\n",
       "      <td>0.0</td>\n",
       "      <td>0.0</td>\n",
       "      <td>0.0</td>\n",
       "    </tr>\n",
       "  </tbody>\n",
       "</table>\n",
       "<p>5 rows × 2026 columns</p>\n",
       "</div>"
      ],
      "text/plain": [
       "                            aaahhh  aah  abc  aches  aching  acquainted  act  \\\n",
       "song                                                                           \n",
       "A Shot Of Rhythm And Blues  0.0     0.0  0.0  0.0    0.0     0.0         0.0   \n",
       "Across The Universe         0.0     0.0  0.0  0.0    0.0     0.0         0.0   \n",
       "All I've Got To Do          0.0     0.0  0.0  0.0    0.0     0.0         0.0   \n",
       "And I Love Her              0.0     0.0  0.0  0.0    0.0     0.0         0.0   \n",
       "And Your Bird Can Sing      0.0     0.0  0.0  0.0    0.0     0.0         0.0   \n",
       "\n",
       "                            actors  acts  add ...        yes  yesterday  yoko  \\\n",
       "song                                          ...                               \n",
       "A Shot Of Rhythm And Blues  0.0     0.0   0.0 ...   0.000000  0.0        0.0    \n",
       "Across The Universe         0.0     0.0   0.0 ...   0.000000  0.0        0.0    \n",
       "All I've Got To Do          0.0     0.0   0.0 ...   0.120483  0.0        0.0    \n",
       "And I Love Her              0.0     0.0   0.0 ...   0.000000  0.0        0.0    \n",
       "And Your Bird Can Sing      0.0     0.0   0.0 ...   0.000000  0.0        0.0    \n",
       "\n",
       "                            young  younger  youre  youu  zealand  zoo   zu  \n",
       "song                                                                        \n",
       "A Shot Of Rhythm And Blues  0.0    0.0      0.0    0.0   0.0      0.0  0.0  \n",
       "Across The Universe         0.0    0.0      0.0    0.0   0.0      0.0  0.0  \n",
       "All I've Got To Do          0.0    0.0      0.0    0.0   0.0      0.0  0.0  \n",
       "And I Love Her              0.0    0.0      0.0    0.0   0.0      0.0  0.0  \n",
       "And Your Bird Can Sing      0.0    0.0      0.0    0.0   0.0      0.0  0.0  \n",
       "\n",
       "[5 rows x 2026 columns]"
      ]
     },
     "execution_count": 13,
     "metadata": {},
     "output_type": "execute_result"
    }
   ],
   "source": [
    "# Create the TF-IDF Vectorizer\n",
    "from sklearn.feature_extraction.text import TfidfVectorizer\n",
    "          \n",
    "cv_tfidf = TfidfVectorizer(stop_words=\"english\")\n",
    "X_tfidf = cv_tfidf.fit_transform(corpus).toarray()\n",
    "\n",
    "dt_tfidf = pd.DataFrame(X_tfidf, columns=cv_tfidf.get_feature_names()).set_index(beatles.song)\n",
    "dt_tfidf.head()"
   ]
  },
  {
   "cell_type": "code",
   "execution_count": 14,
   "metadata": {},
   "outputs": [
    {
     "data": {
      "text/plain": [
       "[(0.19266277925834221, \"I'll Cry Instead\"),\n",
       " (0.18004423848592196, \"I'll Get You\"),\n",
       " (0.15513717441169331, 'Eleanor Rigby'),\n",
       " (0.15054395512050198, 'In My Life'),\n",
       " (0.12306875209548619, 'Love Of The Loved')]"
      ]
     },
     "execution_count": 14,
     "metadata": {},
     "output_type": "execute_result"
    }
   ],
   "source": [
    "# Calculate all similarities and sort by the most similar using the TF-IDF data\n",
    "similarity_tfidf = [cosine(imagine, song) for song in X_tfidf]\n",
    "sorted(list(zip(similarity_tfidf, beatles.song)), reverse=True)[1:6]"
   ]
  },
  {
   "cell_type": "markdown",
   "metadata": {},
   "source": [
    "The answers for the Count Vectorizer and TF-IDF Vectorizer are pretty close. In both cases, \"I'll Cry Instead\" is the most similar song to \"Imagine\". When you look at the lyrics, you can see that they are both on the sad side for Beatles songs."
   ]
  },
  {
   "cell_type": "code",
   "execution_count": 15,
   "metadata": {},
   "outputs": [
    {
     "data": {
      "text/plain": [
       "24783    Imagine there's no heaven  \\nIt's easy if you try  \\nNo hell below us  \\nAbove us only sky  \\nImagine all the people  \\nLiving for today...  \\n  \\nImagine there's no countries  \\nIt isn't hard to do  \\nNothing to kill or die for  \\nAnd no religion too  \\nImagine all the people  \\nLiving life in peace...  \\n  \\nYou may say I'm a dreamer  \\nBut I'm not the only one  \\nI hope someday you'll join us  \\nAnd the world will be as one  \\n  \\nImagine no possessions  \\nI wonder if you can  \\nNo need for greed or hunger  \\nA brotherhood of man  \\nImagine all the people  \\nSharing all the world...  \\n  \\nYou may say I'm a dreamer  \\nBut I'm not the only one  \\nI hope someday you'll join us  \\nAnd the world will live as one\\n\\n\n",
       "Name: text, dtype: object"
      ]
     },
     "execution_count": 15,
     "metadata": {},
     "output_type": "execute_result"
    }
   ],
   "source": [
    "# Imagine lyrics\n",
    "beatles[beatles.song=='Imagine'].text"
   ]
  },
  {
   "cell_type": "code",
   "execution_count": 16,
   "metadata": {},
   "outputs": [
    {
     "data": {
      "text/plain": [
       "24774    I've got every reason on earth to be mad  \\n'Cause I just lost the only girl I had  \\nIf I could get my way  \\nI'd get myself locked up today  \\nBut I can't, so I'll cry instead  \\n  \\nI've got a chip on my shoulder that's bigger that my feet  \\nI can't talk to people that I meet  \\nIf I could see you now  \\nI'd try to make you sad somehow  \\nBut I can't, so I'll cry instead  \\n  \\nDon't want to cry when there's people there  \\nI get shy when they start to stare  \\nI'm gonna hide myself away  \\nBut I'll come back again someday  \\n  \\nAnd when you do you'd better hide all the girls  \\nI'm gonna break their hearts all round the world  \\nYes, I'm gonna break them in two  \\nAnd show you what your lovin' man can do  \\nUntil then I'll cry instead\\n\\n\n",
       "Name: text, dtype: object"
      ]
     },
     "execution_count": 16,
     "metadata": {},
     "output_type": "execute_result"
    }
   ],
   "source": [
    "# I'll Cry Instead lyrics\n",
    "beatles[beatles.song=='I\\'ll Cry Instead'].text"
   ]
  },
  {
   "cell_type": "markdown",
   "metadata": {},
   "source": [
    "## Question 4 ##"
   ]
  },
  {
   "cell_type": "markdown",
   "metadata": {},
   "source": [
    "Which two Beatles songs are the most similar?\n",
    "   * Using Count Vectorizer\n",
    "   * Using TF-IDF Vectorizer\n",
    "     \n",
    "Compare the results. Which Vectorizer seems to do a better job?"
   ]
  },
  {
   "cell_type": "code",
   "execution_count": 17,
   "metadata": {
    "collapsed": true
   },
   "outputs": [],
   "source": [
    "# Calculate the cosine similarity between all combinations of documents"
   ]
  },
  {
   "cell_type": "code",
   "execution_count": 18,
   "metadata": {},
   "outputs": [
    {
     "data": {
      "text/plain": [
       "[('A Shot Of Rhythm And Blues', 'Across The Universe'),\n",
       " ('A Shot Of Rhythm And Blues', \"All I've Got To Do\"),\n",
       " ('A Shot Of Rhythm And Blues', 'And I Love Her'),\n",
       " ('A Shot Of Rhythm And Blues', 'And Your Bird Can Sing'),\n",
       " ('A Shot Of Rhythm And Blues', 'Another Girl')]"
      ]
     },
     "execution_count": 18,
     "metadata": {},
     "output_type": "execute_result"
    }
   ],
   "source": [
    "# List all the combinations of songs\n",
    "from itertools import combinations\n",
    "\n",
    "pairs = list(combinations(beatles.song.index, 2)) # all song index combos\n",
    "pairs_0 = list(combinations(range(len(beatles)), 2)) # all index combos starting with (0,1)\n",
    "song_pairs = [(beatles.song[a_index], beatles.song[b_index]) for (a_index, b_index) in pairs]\n",
    "song_pairs[:5]"
   ]
  },
  {
   "cell_type": "code",
   "execution_count": 19,
   "metadata": {},
   "outputs": [
    {
     "data": {
      "text/plain": [
       "[(0.85488763420475233, ('All You Need Is Love', 'Love Me Do')),\n",
       " (0.83591731886302922, ('If I Needed Someone', 'If I Needed Someone To Love')),\n",
       " (0.8058125835571367, ('And I Love Her', 'Love Me Do')),\n",
       " (0.79301103158466191, ('If I Fell', 'Love Me Do')),\n",
       " (0.74783913827394188, ('And I Love Her', 'All You Need Is Love'))]"
      ]
     },
     "execution_count": 19,
     "metadata": {},
     "output_type": "execute_result"
    }
   ],
   "source": [
    "# Calculate the cosine similarity of the Count Vectorizer document-term matrix\n",
    "results = [cosine(X[a_index], X[b_index]) for (a_index, b_index) in pairs_0]\n",
    "sorted(zip(results, song_pairs), reverse=True)[:5]"
   ]
  },
  {
   "cell_type": "code",
   "execution_count": 20,
   "metadata": {},
   "outputs": [
    {
     "data": {
      "text/plain": [
       "[(0.87170477832615245, ('If I Needed Someone', 'If I Needed Someone To Love')),\n",
       " (0.65993535683431048, ('All You Need Is Love', 'Love Me Do')),\n",
       " (0.65028425178838345, ('Have A Banana!', 'Crinsk Dee Night')),\n",
       " (0.62327973273254611, (\"Don't Let Me Down\", 'Let It Be')),\n",
       " (0.52753643363228631, ('If I Fell', 'Love Me Do'))]"
      ]
     },
     "execution_count": 20,
     "metadata": {},
     "output_type": "execute_result"
    }
   ],
   "source": [
    "# Calculate the cosine similarity of the TF-IDF Vectorizer document-term matrix\n",
    "results = [cosine(X_tfidf[a_index], X_tfidf[b_index]) for (a_index, b_index) in pairs_0]\n",
    "sorted(zip(results, song_pairs), reverse=True)[:5]"
   ]
  },
  {
   "cell_type": "markdown",
   "metadata": {},
   "source": [
    "With the Count Vectorizer, all of the top songs contain the term \"love\", with \"All You Need Is Love\" and \"Love Me Do\" being the most similar. This is just because The Beatles tend to use the term \"love\" a lot in their songs.\n",
    "\n",
    "With the TF-IDF Vectorizer, the top similar songs are a bit more interesting. It looks like it actually picked up a duplicate song in the lyrics dataset with \"If I Needed Someone\" and \"If I Needed Someone To Love\". Also, \"Have a Banana!\" and \"Crinsk Dee Night\" are both conversations with host Brian Matthew."
   ]
  },
  {
   "cell_type": "code",
   "execution_count": 21,
   "metadata": {},
   "outputs": [
    {
     "data": {
      "text/plain": [
       "24695    Love, love, love, love, love, love, love, love, love.  \\n  \\nThere's nothing you can do that can't be done.  \\nNothing you can sing that can't be sung.  \\nNothing you can say, but you can learn  \\nHow to play the game  \\nIt's easy.  \\nNothing you can make that can't be made.  \\nNo one you can save that can't be saved.  \\nNothing you can do, but you can learn  \\nHow to be you in time  \\nIt's easy.  \\n  \\nAll you need is love, all you need is love,  \\nAll you need is love, love. Love is all you need.  \\nLove, love, love, love, love, love, love, love, love.  \\nAll you need is love, all you need is love,  \\nAll you need is love, love. Love is all you need.  \\n  \\nThere's nothing you can know that isn't known.  \\nNothing you can see that isn't shown.  \\nThere's nowhere you can be that isn't where  \\nYou're meant to be  \\nIt's easy.  \\n  \\nAll you need is love, all you need is love,  \\nAll you need is love, love. Love is all you need.  \\nAll you need is love. (All together now).  \\nAll you need is love. (Everybody).  \\nAll you need is love, love. Love is all you need.  \\nLove is all you need.  \\nLove is all you need  \\n  \\n(Yesterday)  \\n(Oh yeah)  \\n(She love you, yeah, yeah, yeah)  \\n(She love you, yeah, yeah, yeah)  \\n(Oh, yesterday)\\n\\n\n",
       "Name: text, dtype: object"
      ]
     },
     "execution_count": 21,
     "metadata": {},
     "output_type": "execute_result"
    }
   ],
   "source": [
    "# All You Need Is Love lyrics\n",
    "beatles[beatles.song=='All You Need Is Love'].text"
   ]
  },
  {
   "cell_type": "code",
   "execution_count": 22,
   "metadata": {},
   "outputs": [
    {
     "data": {
      "text/plain": [
       "24805    Love, love me do.  \\nYou know I love you,  \\nI'll always be true,  \\nSo please, love me do.  \\nWhoa, love me do.  \\n  \\nLove, love me do.  \\nYou know I love you,  \\nI'll always be true,  \\nSo please, love me do.  \\nWhoa, love me do.  \\n  \\nSomeone to love,  \\nSomebody new.  \\nSomeone to love,  \\nSomeone like you.  \\n  \\nLove, love me do.  \\nYou know I love you,  \\nI'll always be true,  \\nSo please, love me do.  \\nWhoa, love me do.  \\n  \\nLove, love me do.  \\nYou know I love you,  \\nI'll always be true,  \\nSo please, love me do.  \\nWhoa, love me do.  \\nYeah, love me do.  \\nWhoa, oh, love me do.\\n\\n\n",
       "Name: text, dtype: object"
      ]
     },
     "execution_count": 22,
     "metadata": {},
     "output_type": "execute_result"
    }
   ],
   "source": [
    "# Love Me Do lyrics\n",
    "beatles[beatles.song=='Love Me Do'].text"
   ]
  },
  {
   "cell_type": "code",
   "execution_count": 23,
   "metadata": {},
   "outputs": [
    {
     "data": {
      "text/plain": [
       "24768    If I needed someone to love  \\nYou're the one that I'd be thinking of  \\nIf I needed someone  \\n  \\nIf I had some more time to spend  \\nThen I guess I'd be with you my friend  \\nIf I needed someone  \\nHad you come some other day  \\nThen it might not have been like this  \\nBut you see now I'm too much in love  \\n  \\nCarve your number on my wall  \\nAnd maybe you will get a call from me  \\nIf I needed someone  \\nAh, ah, ah, ah  \\n  \\nIf I had some more time to spend  \\nThen I guess I'd be with you my friend  \\nIf I needed someone  \\nHad you come some other day  \\nThen it might not have been like this  \\nBut you see now I'm too much in love  \\n  \\nCarve your number on my wall  \\nAnd maybe you will get a call from me  \\nIf I needed someone  \\nAh, ah\\n\\n\n",
       "Name: text, dtype: object"
      ]
     },
     "execution_count": 23,
     "metadata": {},
     "output_type": "execute_result"
    }
   ],
   "source": [
    "# If I Needed Someone lyrics\n",
    "beatles[beatles.song=='If I Needed Someone'].text"
   ]
  },
  {
   "cell_type": "code",
   "execution_count": 24,
   "metadata": {},
   "outputs": [
    {
     "data": {
      "text/plain": [
       "24769    If I needed someone to love  \\nYoure the woman I'd be thinking of  \\nIf I needed someone  \\n  \\nIf I had some more time to spend  \\nThen I guess I'd be with you my friend  \\nIf I needed someone  \\n  \\nHad you come some other day  \\nThen it might not have been like this  \\nBut you see now I'm too much in love  \\n  \\nCarve your number on my wall  \\nAnd maybe you will get a call from me  \\nIf I needed someone  \\n  \\nIf I had some more time to spend  \\nThen I guess I'd be with you my friend  \\nIf I needed someone  \\n  \\nHad you come some other day  \\nThen it might not have been like this  \\nBut you see now I'm too much in love  \\n  \\nCarve your number on my wall  \\nAnd maybe you will get a call from me  \\nIf I needed someone  \\nIf I needed someone to love  \\nYoure the woman I'd be thinking of  \\nIf I needed someone  \\n  \\nIf I had some more time to spend  \\nThen I guess I'd be with you my friend  \\nIf I needed someone  \\n  \\nHad you come some other day  \\nThen it might not have been like this  \\nBut you see now I'm too much in love  \\n  \\nCarve your number on my wall  \\nAnd maybe you will get a call from me  \\nIf I needed someone  \\n  \\nIf I had some more time to spend  \\nThen I guess I'd be with you my friend  \\nIf I needed someone  \\n  \\nHad you come some other day  \\nThen it might not have been like this  \\nBut you see now I'm too much in love  \\n  \\nCarve your number on my wall  \\nAnd maybe you will get a call from me  \\nIf I needed someone\\n\\n\n",
       "Name: text, dtype: object"
      ]
     },
     "execution_count": 24,
     "metadata": {},
     "output_type": "execute_result"
    }
   ],
   "source": [
    "# If I Needed Someone To Love lyrics\n",
    "beatles[beatles.song=='If I Needed Someone To Love'].text"
   ]
  },
  {
   "cell_type": "code",
   "execution_count": 25,
   "metadata": {},
   "outputs": [
    {
     "data": {
      "text/plain": [
       "1221    [Speech]  \\n  \\nBrian Matthew: Is that it? Is that the end?  \\nPaul: Yeah, yeah, that's it.  \\nJohn: Fade, fade!  \\nBrian: Good track. Oh, well, we'll stop there, stop there, stop there.  \\nJohn: What an end!  \\nBrian: Quiet! All right, George.  \\nJohn: Fade!  \\nBrian: Hold it!  \\nGeorge: Oh, thank you.  \\nJohn: Fade, you silly.  \\nBrian: Well, we did. We did that. Oh, no! No! We've done that bit!  \\nJohn: The train comes in now.  \\nBrian: We did that.  \\nJohn: Yeah.  \\nBrian: To pove we weren't playing the record, then, you see. 'Cause,\\notherwise, there's no point in you being here, is there? Ha, ha, ha!  \\nJohn: Yeah, we did that, 'cause it sounds just like it, don't it?  \\nBrian: Pretty cool lot of fellows, aren't you? Here, Ringo, have a banana,\\ncatch!\\n\\n\n",
       "Name: text, dtype: object"
      ]
     },
     "execution_count": 25,
     "metadata": {},
     "output_type": "execute_result"
    }
   ],
   "source": [
    "# Have a Banana! lyrics\n",
    "beatles[beatles.song=='Have A Banana!'].text"
   ]
  },
  {
   "cell_type": "code",
   "execution_count": 26,
   "metadata": {},
   "outputs": [
    {
     "data": {
      "text/plain": [
       "24713    [Speech]  \\n  \\nBrian Matthew: The next few minutes, we're in the lap of the gods and the\\nhands of the Beatles. In my young days, when I was a lad, they used to have\\nactors in films and now that they--  \\nPaul: Yes?  \\nJohn: Hey! Listen!  \\nPaul: It's all changed, now, Brian. They're not doing that, no actors.  \\nJohn: It's all changed, now.  \\nBrian: But this is what I wonder. In those days, the actors used to say their\\nbest bits were left on the cutting room floor. Did you find that?  \\nJohn: No, no, no, those were the good bits in the film. You should have seen\\nthe rest.  \\nBrian: Yes?  \\nJohn: Rubbish!  \\nBrian: Was it, really?  \\nJohn: Even worse, yes.  \\nBrian: Who was worst?  \\nJohn: Oh, Paul.  \\nBrian: I see.  \\nPaul: I think John was about the worst.  \\nJohn: No, it was you.  \\nPaul: Oh, Ringo was very good. He was. He's a good lad.  \\nBrian: He was. They're saying he's a new Charlie Chaplin. Do you think that's\\nright?  \\nJohn: He was miming.  \\nPaul: You, too, with Jason.  \\nJohn: Oh, yes, he's an old one. Okay, Ring?  \\nBrian: Beginning to look like that. Now, then--  \\nRingo: All right, John. Can you hear me?  \\nPaul: Can you hear him? Hello!  \\nBrian: Not really. I hope not. I hope not!  \\nJohn: We brought you the flowers, Ring.  \\nBrian: He's not allowed to talk.  \\nRingo: Eh?  \\nJohn: We brought you the flowers.  \\nRingo: Oh, good.  \\nJohn: And the grapes.  \\nRingo: Oh, I like grapes.  \\nPaul: He likes grapes.  \\nGeorge: We've been to Portugal.  \\nBrian: Guess who's, guess who's top of the pops in Portugal, then.  \\nAll: Who?  \\nBrian: Los Beatles.  \\nJohn: Los Beatles? Great, great laugh.  \\nBrian: I don't suppose you know the title of your film in Portuguese?  \\nJohn: No. Crinsk dee Night?  \\nBrian: Could be. Let's hear the number, shall we?  \\nJohn: Right\\n\\n\n",
       "Name: text, dtype: object"
      ]
     },
     "execution_count": 26,
     "metadata": {},
     "output_type": "execute_result"
    }
   ],
   "source": [
    "# Crinsk Dee Night lyrics\n",
    "beatles[beatles.song=='Crinsk Dee Night'].text"
   ]
  }
 ],
 "metadata": {
  "anaconda-cloud": {},
  "kernelspec": {
   "display_name": "Python (intel_nlp)",
   "language": "python",
   "name": "intel_nlp"
  },
  "language_info": {
   "codemirror_mode": {
    "name": "ipython",
    "version": 3
   },
   "file_extension": ".py",
   "mimetype": "text/x-python",
   "name": "python",
   "nbconvert_exporter": "python",
   "pygments_lexer": "ipython3",
   "version": "3.6.5"
  },
  "toc": {
   "colors": {
    "hover_highlight": "#DAA520",
    "navigate_num": "#000000",
    "navigate_text": "#333333",
    "running_highlight": "#FF0000",
    "selected_highlight": "#FFD700",
    "sidebar_border": "#EEEEEE",
    "wrapper_background": "#FFFFFF"
   },
   "moveMenuLeft": true,
   "nav_menu": {
    "height": "48px",
    "width": "252px"
   },
   "navigate_menu": true,
   "number_sections": true,
   "sideBar": true,
   "threshold": 4,
   "toc_cell": false,
   "toc_section_display": "block",
   "toc_window_display": false,
   "widenNotebook": false
  }
 },
 "nbformat": 4,
 "nbformat_minor": 2
}
