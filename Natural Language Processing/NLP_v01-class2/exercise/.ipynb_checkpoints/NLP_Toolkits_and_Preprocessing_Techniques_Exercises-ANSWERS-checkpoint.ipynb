{
 "cells": [
  {
   "cell_type": "markdown",
   "metadata": {},
   "source": [
    "# NLP Toolkits and Preprocessing Exercises"
   ]
  },
  {
   "cell_type": "markdown",
   "metadata": {},
   "source": [
    "## Introduction"
   ]
  },
  {
   "cell_type": "markdown",
   "metadata": {},
   "source": [
    "We will be using [review data from Kaggle](https://www.kaggle.com/snap/amazon-fine-food-reviews) to practice preprocessing text data. The dataset contains user reviews for many products, but today we'll be focusing on the product in the dataset that had the most reviews - an oatmeal cookie. \n",
    "\n",
    "The following code will help you load in the data. If this is your first time using nltk, you'll to need to pip install it first."
   ]
  },
  {
   "cell_type": "code",
   "execution_count": 1,
   "metadata": {
    "collapsed": true
   },
   "outputs": [],
   "source": [
    "import nltk\n",
    "#nltk.download()  <-- Run this if it's your first time using nltk to download all of the datasets and models\n",
    "\n",
    "import pandas as pd"
   ]
  },
  {
   "cell_type": "code",
   "execution_count": 2,
   "metadata": {},
   "outputs": [
    {
     "data": {
      "text/html": [
       "<div>\n",
       "<style>\n",
       "    .dataframe thead tr:only-child th {\n",
       "        text-align: right;\n",
       "    }\n",
       "\n",
       "    .dataframe thead th {\n",
       "        text-align: left;\n",
       "    }\n",
       "\n",
       "    .dataframe tbody tr th {\n",
       "        vertical-align: top;\n",
       "    }\n",
       "</style>\n",
       "<table border=\"1\" class=\"dataframe\">\n",
       "  <thead>\n",
       "    <tr style=\"text-align: right;\">\n",
       "      <th></th>\n",
       "      <th>user_id</th>\n",
       "      <th>stars</th>\n",
       "      <th>reviews</th>\n",
       "    </tr>\n",
       "  </thead>\n",
       "  <tbody>\n",
       "    <tr>\n",
       "      <th>0</th>\n",
       "      <td>A368Z46FIKHSEZ</td>\n",
       "      <td>5</td>\n",
       "      <td>I love these cookies!  Not only are they healt...</td>\n",
       "    </tr>\n",
       "    <tr>\n",
       "      <th>1</th>\n",
       "      <td>A1JAPP1CXRG57A</td>\n",
       "      <td>5</td>\n",
       "      <td>Quaker Soft Baked Oatmeal Cookies with raisins...</td>\n",
       "    </tr>\n",
       "    <tr>\n",
       "      <th>2</th>\n",
       "      <td>A2Z9JNXPIEL2B9</td>\n",
       "      <td>5</td>\n",
       "      <td>I am usually not a huge fan of oatmeal cookies...</td>\n",
       "    </tr>\n",
       "    <tr>\n",
       "      <th>3</th>\n",
       "      <td>A31CYJQO3FL586</td>\n",
       "      <td>5</td>\n",
       "      <td>I participated in a product review that includ...</td>\n",
       "    </tr>\n",
       "    <tr>\n",
       "      <th>4</th>\n",
       "      <td>A2KXQ2EKFF3K2G</td>\n",
       "      <td>5</td>\n",
       "      <td>My kids loved these. I was very pleased to giv...</td>\n",
       "    </tr>\n",
       "  </tbody>\n",
       "</table>\n",
       "</div>"
      ],
      "text/plain": [
       "          user_id  stars                                            reviews\n",
       "0  A368Z46FIKHSEZ      5  I love these cookies!  Not only are they healt...\n",
       "1  A1JAPP1CXRG57A      5  Quaker Soft Baked Oatmeal Cookies with raisins...\n",
       "2  A2Z9JNXPIEL2B9      5  I am usually not a huge fan of oatmeal cookies...\n",
       "3  A31CYJQO3FL586      5  I participated in a product review that includ...\n",
       "4  A2KXQ2EKFF3K2G      5  My kids loved these. I was very pleased to giv..."
      ]
     },
     "execution_count": 2,
     "metadata": {},
     "output_type": "execute_result"
    }
   ],
   "source": [
    "data = pd.read_csv('../data/cookie_reviews.csv')\n",
    "data.head()"
   ]
  },
  {
   "cell_type": "markdown",
   "metadata": {},
   "source": [
    "## Question 1 ##"
   ]
  },
  {
   "cell_type": "markdown",
   "metadata": {},
   "source": [
    "* Determine how many reviews there are in total.\n",
    "* Determine the percent of 1, 2, 3, 4 and 5 star reviews.\n",
    "* Determine the distribution of character lengths for the reviews, by listing the values and by plotting a histogram."
   ]
  },
  {
   "cell_type": "code",
   "execution_count": 3,
   "metadata": {},
   "outputs": [
    {
     "data": {
      "text/plain": [
       "913"
      ]
     },
     "execution_count": 3,
     "metadata": {},
     "output_type": "execute_result"
    }
   ],
   "source": [
    "# There are 913 reviews total\n",
    "len(data)"
   ]
  },
  {
   "cell_type": "code",
   "execution_count": 4,
   "metadata": {},
   "outputs": [
    {
     "data": {
      "text/plain": [
       "5    0.683461\n",
       "4    0.237678\n",
       "3    0.061336\n",
       "2    0.013143\n",
       "1    0.004381\n",
       "Name: stars, dtype: float64"
      ]
     },
     "execution_count": 4,
     "metadata": {},
     "output_type": "execute_result"
    }
   ],
   "source": [
    "# This cookie got great reviews overall, with 68% of users giving it 5 stars\n",
    "data.stars.value_counts(normalize=True)"
   ]
  },
  {
   "cell_type": "code",
   "execution_count": 5,
   "metadata": {
    "scrolled": true
   },
   "outputs": [
    {
     "data": {
      "text/plain": [
       "134    10\n",
       "157     9\n",
       "137     8\n",
       "107     8\n",
       "132     8\n",
       "Name: reviews, dtype: int64"
      ]
     },
     "execution_count": 5,
     "metadata": {},
     "output_type": "execute_result"
    }
   ],
   "source": [
    "# This tells us that there were 10 reviews that had 134 characters\n",
    "data.reviews.map(len).value_counts().head()"
   ]
  },
  {
   "cell_type": "code",
   "execution_count": 6,
   "metadata": {
    "collapsed": true
   },
   "outputs": [],
   "source": [
    "# Import seaborn for data visualization\n",
    "import matplotlib.pyplot as plt\n",
    "import seaborn as sns\n",
    "\n",
    "sns.set_style('white')\n",
    "sns.set_palette('dark')\n",
    "sns.set_context('talk')\n",
    "\n",
    "%matplotlib inline"
   ]
  },
  {
   "cell_type": "code",
   "execution_count": 7,
   "metadata": {},
   "outputs": [
    {
     "data": {
      "image/png": "[encoded data removed]",
      "text/plain": [
       "<matplotlib.figure.Figure at 0x20135742860>"
      ]
     },
     "metadata": {},
     "output_type": "display_data"
    }
   ],
   "source": [
    "# This creates a histogram of all of the review lengths\n",
    "ax = data.reviews.map(len).hist(bins=50)\n",
    "ax.set(xlabel='Review Length', ylabel='Frequency', title='Distribution of Cookie Review Length');"
   ]
  },
  {
   "cell_type": "markdown",
   "metadata": {},
   "source": [
    "## Question 2 ##"
   ]
  },
  {
   "cell_type": "markdown",
   "metadata": {
    "collapsed": true
   },
   "source": [
    "* Apply the following preprocessing steps:\n",
    "\n",
    "     1. Remove all words that contain numbers\n",
    "     2. Make all the text lowercase\n",
    "     3. Remove punctuation\n",
    "     4. Tokenize the reviews into words\n",
    "     \n",
    "  Hint #1: Use regular expressions.\n",
    "  \n",
    "  Hint #2: The cookie review in the second row has numbers, upper case letters and punctuation. You can use it to test out your regular expressions.\n",
    "     \n",
    "     \n",
    "* Find the most common words.\n",
    "* Determine the word length distribution over the entire corpus."
   ]
  },
  {
   "cell_type": "code",
   "execution_count": 8,
   "metadata": {},
   "outputs": [
    {
     "data": {
      "text/html": [
       "<div>\n",
       "<style>\n",
       "    .dataframe thead tr:only-child th {\n",
       "        text-align: right;\n",
       "    }\n",
       "\n",
       "    .dataframe thead th {\n",
       "        text-align: left;\n",
       "    }\n",
       "\n",
       "    .dataframe tbody tr th {\n",
       "        vertical-align: top;\n",
       "    }\n",
       "</style>\n",
       "<table border=\"1\" class=\"dataframe\">\n",
       "  <thead>\n",
       "    <tr style=\"text-align: right;\">\n",
       "      <th></th>\n",
       "      <th>user_id</th>\n",
       "      <th>stars</th>\n",
       "      <th>reviews</th>\n",
       "    </tr>\n",
       "  </thead>\n",
       "  <tbody>\n",
       "    <tr>\n",
       "      <th>0</th>\n",
       "      <td>A368Z46FIKHSEZ</td>\n",
       "      <td>5</td>\n",
       "      <td>I love these cookies!  Not only are they healt...</td>\n",
       "    </tr>\n",
       "    <tr>\n",
       "      <th>1</th>\n",
       "      <td>A1JAPP1CXRG57A</td>\n",
       "      <td>5</td>\n",
       "      <td>Quaker Soft Baked Oatmeal Cookies with raisins...</td>\n",
       "    </tr>\n",
       "    <tr>\n",
       "      <th>2</th>\n",
       "      <td>A2Z9JNXPIEL2B9</td>\n",
       "      <td>5</td>\n",
       "      <td>I am usually not a huge fan of oatmeal cookies...</td>\n",
       "    </tr>\n",
       "    <tr>\n",
       "      <th>3</th>\n",
       "      <td>A31CYJQO3FL586</td>\n",
       "      <td>5</td>\n",
       "      <td>I participated in a product review that includ...</td>\n",
       "    </tr>\n",
       "    <tr>\n",
       "      <th>4</th>\n",
       "      <td>A2KXQ2EKFF3K2G</td>\n",
       "      <td>5</td>\n",
       "      <td>My kids loved these. I was very pleased to giv...</td>\n",
       "    </tr>\n",
       "  </tbody>\n",
       "</table>\n",
       "</div>"
      ],
      "text/plain": [
       "          user_id  stars                                            reviews\n",
       "0  A368Z46FIKHSEZ      5  I love these cookies!  Not only are they healt...\n",
       "1  A1JAPP1CXRG57A      5  Quaker Soft Baked Oatmeal Cookies with raisins...\n",
       "2  A2Z9JNXPIEL2B9      5  I am usually not a huge fan of oatmeal cookies...\n",
       "3  A31CYJQO3FL586      5  I participated in a product review that includ...\n",
       "4  A2KXQ2EKFF3K2G      5  My kids loved these. I was very pleased to giv..."
      ]
     },
     "execution_count": 8,
     "metadata": {},
     "output_type": "execute_result"
    }
   ],
   "source": [
    "# Let's take a look at what the data currently looks like\n",
    "data.head()"
   ]
  },
  {
   "cell_type": "code",
   "execution_count": 9,
   "metadata": {},
   "outputs": [
    {
     "data": {
      "text/plain": [
       "'Quaker Soft Baked Oatmeal Cookies with raisins are a delicious treat, great for anytime of day.  For example:<br /><br />--at breakfast, I had one with a large banana and a cup of coffee, and felt I\\'d had a relatively \"healthy\" start to the day.<br /><br />--the next day at lunch, following a tuna sandwich, I had one with a glass of milk, and was satisfied enough to not need a snack before dinner at 6:30.<br /><br />--the following night, after dinner, I had one with the remainder of my glass of wine. (Delicious!) And again, didn\\'t feel the need to snack later in the evening.<br /><br />Each cookie is individually packaged, and their texture is soft and moist, with just the right amount of sweetness. Natural flavors used in the making are Cinnamon and All Spice.  These flavorings give the cookies a real old-fashioned, homemade taste.<br /><br />Nutritionally, the cookies have 170 calories each, 1.5g saturated fat, 150 mg sodium, and 12g sugar. They also have 2g of protein, and contain 25g of fiber.<br /><br />While the calorie count may seem a bit high for one cookie, they are good sized, and 1 cookie per serving is certainly enough to satisfy.<br /><br />Because of their great taste and texture, kids will probably enjoy them also.<br /><br />If you like oatmeal raisin cookies, give these a try!'"
      ]
     },
     "execution_count": 9,
     "metadata": {},
     "output_type": "execute_result"
    }
   ],
   "source": [
    "# This review needs to be heavily-cleaned\n",
    "data.iloc[1,2]"
   ]
  },
  {
   "cell_type": "code",
   "execution_count": 10,
   "metadata": {
    "scrolled": true
   },
   "outputs": [
    {
     "data": {
      "text/html": [
       "<div>\n",
       "<style>\n",
       "    .dataframe thead tr:only-child th {\n",
       "        text-align: right;\n",
       "    }\n",
       "\n",
       "    .dataframe thead th {\n",
       "        text-align: left;\n",
       "    }\n",
       "\n",
       "    .dataframe tbody tr th {\n",
       "        vertical-align: top;\n",
       "    }\n",
       "</style>\n",
       "<table border=\"1\" class=\"dataframe\">\n",
       "  <thead>\n",
       "    <tr style=\"text-align: right;\">\n",
       "      <th></th>\n",
       "      <th>user_id</th>\n",
       "      <th>stars</th>\n",
       "      <th>reviews</th>\n",
       "    </tr>\n",
       "  </thead>\n",
       "  <tbody>\n",
       "    <tr>\n",
       "      <th>0</th>\n",
       "      <td>A368Z46FIKHSEZ</td>\n",
       "      <td>5</td>\n",
       "      <td>i love these cookies!  not only are they healt...</td>\n",
       "    </tr>\n",
       "    <tr>\n",
       "      <th>1</th>\n",
       "      <td>A1JAPP1CXRG57A</td>\n",
       "      <td>5</td>\n",
       "      <td>quaker soft baked oatmeal cookies with raisins...</td>\n",
       "    </tr>\n",
       "    <tr>\n",
       "      <th>2</th>\n",
       "      <td>A2Z9JNXPIEL2B9</td>\n",
       "      <td>5</td>\n",
       "      <td>i am usually not a huge fan of oatmeal cookies...</td>\n",
       "    </tr>\n",
       "    <tr>\n",
       "      <th>3</th>\n",
       "      <td>A31CYJQO3FL586</td>\n",
       "      <td>5</td>\n",
       "      <td>i participated in a product review that includ...</td>\n",
       "    </tr>\n",
       "    <tr>\n",
       "      <th>4</th>\n",
       "      <td>A2KXQ2EKFF3K2G</td>\n",
       "      <td>5</td>\n",
       "      <td>my kids loved these. i was very pleased to giv...</td>\n",
       "    </tr>\n",
       "  </tbody>\n",
       "</table>\n",
       "</div>"
      ],
      "text/plain": [
       "          user_id  stars                                            reviews\n",
       "0  A368Z46FIKHSEZ      5  i love these cookies!  not only are they healt...\n",
       "1  A1JAPP1CXRG57A      5  quaker soft baked oatmeal cookies with raisins...\n",
       "2  A2Z9JNXPIEL2B9      5  i am usually not a huge fan of oatmeal cookies...\n",
       "3  A31CYJQO3FL586      5  i participated in a product review that includ...\n",
       "4  A2KXQ2EKFF3K2G      5  my kids loved these. i was very pleased to giv..."
      ]
     },
     "execution_count": 10,
     "metadata": {},
     "output_type": "execute_result"
    }
   ],
   "source": [
    "# This regular expression removes all words with numbers in them and also makes all words lowercase\n",
    "import re\n",
    "\n",
    "lower_alpha = lambda x: re.sub(r\"\"\"\\w*\\d\\w*\"\"\", ' ', x.lower())\n",
    "data['reviews'] = data.reviews.map(lower_alpha)\n",
    "\n",
    "data.head()"
   ]
  },
  {
   "cell_type": "code",
   "execution_count": 11,
   "metadata": {
    "scrolled": true
   },
   "outputs": [
    {
     "data": {
      "text/html": [
       "<div>\n",
       "<style>\n",
       "    .dataframe thead tr:only-child th {\n",
       "        text-align: right;\n",
       "    }\n",
       "\n",
       "    .dataframe thead th {\n",
       "        text-align: left;\n",
       "    }\n",
       "\n",
       "    .dataframe tbody tr th {\n",
       "        vertical-align: top;\n",
       "    }\n",
       "</style>\n",
       "<table border=\"1\" class=\"dataframe\">\n",
       "  <thead>\n",
       "    <tr style=\"text-align: right;\">\n",
       "      <th></th>\n",
       "      <th>user_id</th>\n",
       "      <th>stars</th>\n",
       "      <th>reviews</th>\n",
       "    </tr>\n",
       "  </thead>\n",
       "  <tbody>\n",
       "    <tr>\n",
       "      <th>0</th>\n",
       "      <td>A368Z46FIKHSEZ</td>\n",
       "      <td>5</td>\n",
       "      <td>i love these cookies   not only are they healt...</td>\n",
       "    </tr>\n",
       "    <tr>\n",
       "      <th>1</th>\n",
       "      <td>A1JAPP1CXRG57A</td>\n",
       "      <td>5</td>\n",
       "      <td>quaker soft baked oatmeal cookies with raisins...</td>\n",
       "    </tr>\n",
       "    <tr>\n",
       "      <th>2</th>\n",
       "      <td>A2Z9JNXPIEL2B9</td>\n",
       "      <td>5</td>\n",
       "      <td>i am usually not a huge fan of oatmeal cookies...</td>\n",
       "    </tr>\n",
       "    <tr>\n",
       "      <th>3</th>\n",
       "      <td>A31CYJQO3FL586</td>\n",
       "      <td>5</td>\n",
       "      <td>i participated in a product review that includ...</td>\n",
       "    </tr>\n",
       "    <tr>\n",
       "      <th>4</th>\n",
       "      <td>A2KXQ2EKFF3K2G</td>\n",
       "      <td>5</td>\n",
       "      <td>my kids loved these  i was very pleased to giv...</td>\n",
       "    </tr>\n",
       "  </tbody>\n",
       "</table>\n",
       "</div>"
      ],
      "text/plain": [
       "          user_id  stars                                            reviews\n",
       "0  A368Z46FIKHSEZ      5  i love these cookies   not only are they healt...\n",
       "1  A1JAPP1CXRG57A      5  quaker soft baked oatmeal cookies with raisins...\n",
       "2  A2Z9JNXPIEL2B9      5  i am usually not a huge fan of oatmeal cookies...\n",
       "3  A31CYJQO3FL586      5  i participated in a product review that includ...\n",
       "4  A2KXQ2EKFF3K2G      5  my kids loved these  i was very pleased to giv..."
      ]
     },
     "execution_count": 11,
     "metadata": {},
     "output_type": "execute_result"
    }
   ],
   "source": [
    "# This regular expression removes all punctuation\n",
    "import string\n",
    "\n",
    "punc_re = lambda x: re.sub('[%s]' % re.escape(string.punctuation), ' ', x)\n",
    "data['reviews'] = data.reviews.map(punc_re)\n",
    "\n",
    "data.head()"
   ]
  },
  {
   "cell_type": "code",
   "execution_count": 12,
   "metadata": {},
   "outputs": [
    {
     "data": {
      "text/plain": [
       "'quaker soft baked oatmeal cookies with raisins are a delicious treat  great for anytime of day   for example  br    br     at breakfast  i had one with a large banana and a cup of coffee  and felt i d had a relatively  healthy  start to the day  br    br     the next day at lunch  following a tuna sandwich  i had one with a glass of milk  and was satisfied enough to not need a snack before dinner at      br    br     the following night  after dinner  i had one with the remainder of my glass of wine   delicious   and again  didn t feel the need to snack later in the evening  br    br   each cookie is individually packaged  and their texture is soft and moist  with just the right amount of sweetness  natural flavors used in the making are cinnamon and all spice   these flavorings give the cookies a real old fashioned  homemade taste  br    br   nutritionally  the cookies have   calories each      saturated fat    mg sodium  and   sugar  they also have   of protein  and contain   of fiber  br    br   while the calorie count may seem a bit high for one cookie  they are good sized  and   cookie per serving is certainly enough to satisfy  br    br   because of their great taste and texture  kids will probably enjoy them also  br    br   if you like oatmeal raisin cookies  give these a try '"
      ]
     },
     "execution_count": 12,
     "metadata": {},
     "output_type": "execute_result"
    }
   ],
   "source": [
    "# This is the review after cleaning\n",
    "data.iloc[1,2]"
   ]
  },
  {
   "cell_type": "code",
   "execution_count": 13,
   "metadata": {
    "scrolled": true
   },
   "outputs": [
    {
     "data": {
      "text/html": [
       "<div>\n",
       "<style>\n",
       "    .dataframe thead tr:only-child th {\n",
       "        text-align: right;\n",
       "    }\n",
       "\n",
       "    .dataframe thead th {\n",
       "        text-align: left;\n",
       "    }\n",
       "\n",
       "    .dataframe tbody tr th {\n",
       "        vertical-align: top;\n",
       "    }\n",
       "</style>\n",
       "<table border=\"1\" class=\"dataframe\">\n",
       "  <thead>\n",
       "    <tr style=\"text-align: right;\">\n",
       "      <th></th>\n",
       "      <th>user_id</th>\n",
       "      <th>stars</th>\n",
       "      <th>reviews</th>\n",
       "    </tr>\n",
       "  </thead>\n",
       "  <tbody>\n",
       "    <tr>\n",
       "      <th>0</th>\n",
       "      <td>A368Z46FIKHSEZ</td>\n",
       "      <td>5</td>\n",
       "      <td>i love these cookies   not only are they healt...</td>\n",
       "    </tr>\n",
       "    <tr>\n",
       "      <th>1</th>\n",
       "      <td>A1JAPP1CXRG57A</td>\n",
       "      <td>5</td>\n",
       "      <td>quaker soft baked oatmeal cookies with raisins...</td>\n",
       "    </tr>\n",
       "    <tr>\n",
       "      <th>2</th>\n",
       "      <td>A2Z9JNXPIEL2B9</td>\n",
       "      <td>5</td>\n",
       "      <td>i am usually not a huge fan of oatmeal cookies...</td>\n",
       "    </tr>\n",
       "    <tr>\n",
       "      <th>3</th>\n",
       "      <td>A31CYJQO3FL586</td>\n",
       "      <td>5</td>\n",
       "      <td>i participated in a product review that includ...</td>\n",
       "    </tr>\n",
       "    <tr>\n",
       "      <th>4</th>\n",
       "      <td>A2KXQ2EKFF3K2G</td>\n",
       "      <td>5</td>\n",
       "      <td>my kids loved these  i was very pleased to giv...</td>\n",
       "    </tr>\n",
       "  </tbody>\n",
       "</table>\n",
       "</div>"
      ],
      "text/plain": [
       "          user_id  stars                                            reviews\n",
       "0  A368Z46FIKHSEZ      5  i love these cookies   not only are they healt...\n",
       "1  A1JAPP1CXRG57A      5  quaker soft baked oatmeal cookies with raisins...\n",
       "2  A2Z9JNXPIEL2B9      5  i am usually not a huge fan of oatmeal cookies...\n",
       "3  A31CYJQO3FL586      5  i participated in a product review that includ...\n",
       "4  A2KXQ2EKFF3K2G      5  my kids loved these  i was very pleased to giv..."
      ]
     },
     "execution_count": 13,
     "metadata": {},
     "output_type": "execute_result"
    }
   ],
   "source": [
    "# It looks like there are a lot of <br> hanging around. Let's get rid of them.\n",
    "\n",
    "remove_br = lambda x: re.sub(r\"\"\" br \"\"\", ' ', x.lower())\n",
    "data['reviews'] = data.reviews.map(remove_br)\n",
    "\n",
    "data.head()"
   ]
  },
  {
   "cell_type": "code",
   "execution_count": 14,
   "metadata": {},
   "outputs": [
    {
     "data": {
      "text/plain": [
       "'quaker soft baked oatmeal cookies with raisins are a delicious treat  great for anytime of day   for example         at breakfast  i had one with a large banana and a cup of coffee  and felt i d had a relatively  healthy  start to the day         the next day at lunch  following a tuna sandwich  i had one with a glass of milk  and was satisfied enough to not need a snack before dinner at             the following night  after dinner  i had one with the remainder of my glass of wine   delicious   and again  didn t feel the need to snack later in the evening       each cookie is individually packaged  and their texture is soft and moist  with just the right amount of sweetness  natural flavors used in the making are cinnamon and all spice   these flavorings give the cookies a real old fashioned  homemade taste       nutritionally  the cookies have   calories each      saturated fat    mg sodium  and   sugar  they also have   of protein  and contain   of fiber       while the calorie count may seem a bit high for one cookie  they are good sized  and   cookie per serving is certainly enough to satisfy       because of their great taste and texture  kids will probably enjoy them also       if you like oatmeal raisin cookies  give these a try '"
      ]
     },
     "execution_count": 14,
     "metadata": {},
     "output_type": "execute_result"
    }
   ],
   "source": [
    "# The review is starting to look pretty good!\n",
    "data.iloc[1,2]"
   ]
  },
  {
   "cell_type": "code",
   "execution_count": 15,
   "metadata": {},
   "outputs": [
    {
     "data": {
      "text/html": [
       "<div>\n",
       "<style>\n",
       "    .dataframe thead tr:only-child th {\n",
       "        text-align: right;\n",
       "    }\n",
       "\n",
       "    .dataframe thead th {\n",
       "        text-align: left;\n",
       "    }\n",
       "\n",
       "    .dataframe tbody tr th {\n",
       "        vertical-align: top;\n",
       "    }\n",
       "</style>\n",
       "<table border=\"1\" class=\"dataframe\">\n",
       "  <thead>\n",
       "    <tr style=\"text-align: right;\">\n",
       "      <th></th>\n",
       "      <th>user_id</th>\n",
       "      <th>stars</th>\n",
       "      <th>reviews</th>\n",
       "      <th>tokens</th>\n",
       "    </tr>\n",
       "  </thead>\n",
       "  <tbody>\n",
       "    <tr>\n",
       "      <th>0</th>\n",
       "      <td>A368Z46FIKHSEZ</td>\n",
       "      <td>5</td>\n",
       "      <td>i love these cookies   not only are they healt...</td>\n",
       "      <td>[i, love, these, cookies, not, only, are, they...</td>\n",
       "    </tr>\n",
       "    <tr>\n",
       "      <th>1</th>\n",
       "      <td>A1JAPP1CXRG57A</td>\n",
       "      <td>5</td>\n",
       "      <td>quaker soft baked oatmeal cookies with raisins...</td>\n",
       "      <td>[quaker, soft, baked, oatmeal, cookies, with, ...</td>\n",
       "    </tr>\n",
       "    <tr>\n",
       "      <th>2</th>\n",
       "      <td>A2Z9JNXPIEL2B9</td>\n",
       "      <td>5</td>\n",
       "      <td>i am usually not a huge fan of oatmeal cookies...</td>\n",
       "      <td>[i, am, usually, not, a, huge, fan, of, oatmea...</td>\n",
       "    </tr>\n",
       "    <tr>\n",
       "      <th>3</th>\n",
       "      <td>A31CYJQO3FL586</td>\n",
       "      <td>5</td>\n",
       "      <td>i participated in a product review that includ...</td>\n",
       "      <td>[i, participated, in, a, product, review, that...</td>\n",
       "    </tr>\n",
       "    <tr>\n",
       "      <th>4</th>\n",
       "      <td>A2KXQ2EKFF3K2G</td>\n",
       "      <td>5</td>\n",
       "      <td>my kids loved these  i was very pleased to giv...</td>\n",
       "      <td>[my, kids, loved, these, i, was, very, pleased...</td>\n",
       "    </tr>\n",
       "  </tbody>\n",
       "</table>\n",
       "</div>"
      ],
      "text/plain": [
       "          user_id  stars                                            reviews  \\\n",
       "0  A368Z46FIKHSEZ      5  i love these cookies   not only are they healt...   \n",
       "1  A1JAPP1CXRG57A      5  quaker soft baked oatmeal cookies with raisins...   \n",
       "2  A2Z9JNXPIEL2B9      5  i am usually not a huge fan of oatmeal cookies...   \n",
       "3  A31CYJQO3FL586      5  i participated in a product review that includ...   \n",
       "4  A2KXQ2EKFF3K2G      5  my kids loved these  i was very pleased to giv...   \n",
       "\n",
       "                                              tokens  \n",
       "0  [i, love, these, cookies, not, only, are, they...  \n",
       "1  [quaker, soft, baked, oatmeal, cookies, with, ...  \n",
       "2  [i, am, usually, not, a, huge, fan, of, oatmea...  \n",
       "3  [i, participated, in, a, product, review, that...  \n",
       "4  [my, kids, loved, these, i, was, very, pleased...  "
      ]
     },
     "execution_count": 15,
     "metadata": {},
     "output_type": "execute_result"
    }
   ],
   "source": [
    "# Tokenize the reviews into words\n",
    "from nltk.tokenize import word_tokenize\n",
    "\n",
    "data['tokens'] = data.reviews.map(word_tokenize)\n",
    "data.head()"
   ]
  },
  {
   "cell_type": "code",
   "execution_count": 16,
   "metadata": {},
   "outputs": [
    {
     "data": {
      "text/plain": [
       "['i',\n",
       " 'love',\n",
       " 'these',\n",
       " 'cookies',\n",
       " 'not',\n",
       " 'only',\n",
       " 'are',\n",
       " 'they',\n",
       " 'healthy',\n",
       " 'but']"
      ]
     },
     "execution_count": 16,
     "metadata": {},
     "output_type": "execute_result"
    }
   ],
   "source": [
    "# This creates one huge list by combining all of the tokens values\n",
    "word_list = sum(data.tokens.tolist(), [])\n",
    "\n",
    "word_list[:10]"
   ]
  },
  {
   "cell_type": "code",
   "execution_count": 17,
   "metadata": {},
   "outputs": [
    {
     "data": {
      "text/plain": [
       "[(2145, 'i'),\n",
       " (1755, 'and'),\n",
       " (1652, 'the'),\n",
       " (1310, 'a'),\n",
       " (1028, 'it'),\n",
       " (991, 'to'),\n",
       " (845, 'my'),\n",
       " (843, 'cookies'),\n",
       " (842, 'cookie'),\n",
       " (780, 'of')]"
      ]
     },
     "execution_count": 17,
     "metadata": {},
     "output_type": "execute_result"
    }
   ],
   "source": [
    "# These are the steps to find the most common words\n",
    "\n",
    "from collections import Counter\n",
    "\n",
    "# Converts list to a dictionary with value counts\n",
    "word_counts = Counter(word_list)\n",
    "\n",
    "# Reverse the key/values in the dictionary for sorting\n",
    "word_counts = list(zip(word_counts.values(), word_counts.keys()))\n",
    "\n",
    "# Sort the list by count\n",
    "word_counts = sorted(word_counts, reverse=True)\n",
    "\n",
    "# Prints the 10 most commons words\n",
    "word_counts[:10]"
   ]
  },
  {
   "cell_type": "code",
   "execution_count": 18,
   "metadata": {},
   "outputs": [
    {
     "data": {
      "image/png": "[encoded data removed]",
      "text/plain": [
       "<matplotlib.figure.Figure at 0x201366e2ac8>"
      ]
     },
     "metadata": {},
     "output_type": "display_data"
    }
   ],
   "source": [
    "# The distribution of word lengths\n",
    "word_lengths = pd.Series([len(x) for x in word_list])\n",
    "\n",
    "ax = word_lengths.hist(bins=15)\n",
    "ax.set(xlabel='Word Lengths', ylabel='Frequency', title='Distribution of Word Length');"
   ]
  },
  {
   "cell_type": "markdown",
   "metadata": {},
   "source": [
    "## Question 3 ##"
   ]
  },
  {
   "cell_type": "markdown",
   "metadata": {},
   "source": [
    "* Apply the following preprocessing techniques:\n",
    "\n",
    "     * Remove stopwords\n",
    "     * Perform parts of speech tagging\n",
    "     * Perform stemming\n",
    "     * Optional: Perform lemmatization\n",
    "\n",
    "  Recommendation: Create a new column in your data set for every preprocessing technique you apply, so you can see the progression of the reviews text."
   ]
  },
  {
   "cell_type": "code",
   "execution_count": 19,
   "metadata": {},
   "outputs": [
    {
     "data": {
      "text/html": [
       "<div>\n",
       "<style>\n",
       "    .dataframe thead tr:only-child th {\n",
       "        text-align: right;\n",
       "    }\n",
       "\n",
       "    .dataframe thead th {\n",
       "        text-align: left;\n",
       "    }\n",
       "\n",
       "    .dataframe tbody tr th {\n",
       "        vertical-align: top;\n",
       "    }\n",
       "</style>\n",
       "<table border=\"1\" class=\"dataframe\">\n",
       "  <thead>\n",
       "    <tr style=\"text-align: right;\">\n",
       "      <th></th>\n",
       "      <th>user_id</th>\n",
       "      <th>stars</th>\n",
       "      <th>reviews</th>\n",
       "      <th>tokens</th>\n",
       "      <th>tokens_stop</th>\n",
       "    </tr>\n",
       "  </thead>\n",
       "  <tbody>\n",
       "    <tr>\n",
       "      <th>0</th>\n",
       "      <td>A368Z46FIKHSEZ</td>\n",
       "      <td>5</td>\n",
       "      <td>i love these cookies   not only are they healt...</td>\n",
       "      <td>[i, love, these, cookies, not, only, are, they...</td>\n",
       "      <td>[love, cookies, healthy, taste, great, soft, d...</td>\n",
       "    </tr>\n",
       "    <tr>\n",
       "      <th>1</th>\n",
       "      <td>A1JAPP1CXRG57A</td>\n",
       "      <td>5</td>\n",
       "      <td>quaker soft baked oatmeal cookies with raisins...</td>\n",
       "      <td>[quaker, soft, baked, oatmeal, cookies, with, ...</td>\n",
       "      <td>[quaker, soft, baked, oatmeal, cookies, raisin...</td>\n",
       "    </tr>\n",
       "    <tr>\n",
       "      <th>2</th>\n",
       "      <td>A2Z9JNXPIEL2B9</td>\n",
       "      <td>5</td>\n",
       "      <td>i am usually not a huge fan of oatmeal cookies...</td>\n",
       "      <td>[i, am, usually, not, a, huge, fan, of, oatmea...</td>\n",
       "      <td>[usually, huge, fan, oatmeal, cookies, literal...</td>\n",
       "    </tr>\n",
       "    <tr>\n",
       "      <th>3</th>\n",
       "      <td>A31CYJQO3FL586</td>\n",
       "      <td>5</td>\n",
       "      <td>i participated in a product review that includ...</td>\n",
       "      <td>[i, participated, in, a, product, review, that...</td>\n",
       "      <td>[participated, product, review, included, samp...</td>\n",
       "    </tr>\n",
       "    <tr>\n",
       "      <th>4</th>\n",
       "      <td>A2KXQ2EKFF3K2G</td>\n",
       "      <td>5</td>\n",
       "      <td>my kids loved these  i was very pleased to giv...</td>\n",
       "      <td>[my, kids, loved, these, i, was, very, pleased...</td>\n",
       "      <td>[kids, loved, pleased, give, kids, quick, go, ...</td>\n",
       "    </tr>\n",
       "  </tbody>\n",
       "</table>\n",
       "</div>"
      ],
      "text/plain": [
       "          user_id  stars                                            reviews  \\\n",
       "0  A368Z46FIKHSEZ      5  i love these cookies   not only are they healt...   \n",
       "1  A1JAPP1CXRG57A      5  quaker soft baked oatmeal cookies with raisins...   \n",
       "2  A2Z9JNXPIEL2B9      5  i am usually not a huge fan of oatmeal cookies...   \n",
       "3  A31CYJQO3FL586      5  i participated in a product review that includ...   \n",
       "4  A2KXQ2EKFF3K2G      5  my kids loved these  i was very pleased to giv...   \n",
       "\n",
       "                                              tokens  \\\n",
       "0  [i, love, these, cookies, not, only, are, they...   \n",
       "1  [quaker, soft, baked, oatmeal, cookies, with, ...   \n",
       "2  [i, am, usually, not, a, huge, fan, of, oatmea...   \n",
       "3  [i, participated, in, a, product, review, that...   \n",
       "4  [my, kids, loved, these, i, was, very, pleased...   \n",
       "\n",
       "                                         tokens_stop  \n",
       "0  [love, cookies, healthy, taste, great, soft, d...  \n",
       "1  [quaker, soft, baked, oatmeal, cookies, raisin...  \n",
       "2  [usually, huge, fan, oatmeal, cookies, literal...  \n",
       "3  [participated, product, review, included, samp...  \n",
       "4  [kids, loved, pleased, give, kids, quick, go, ...  "
      ]
     },
     "execution_count": 19,
     "metadata": {},
     "output_type": "execute_result"
    }
   ],
   "source": [
    "# Remove stop words\n",
    "from nltk.corpus import stopwords\n",
    "\n",
    "stop_words = stopwords.words('english')\n",
    "\n",
    "stop_lambda = lambda x: [y for y in x if y not in stop_words]\n",
    "data['tokens_stop'] = data.tokens.apply(stop_lambda)\n",
    "data.head()"
   ]
  },
  {
   "cell_type": "code",
   "execution_count": 20,
   "metadata": {},
   "outputs": [
    {
     "data": {
      "text/html": [
       "<div>\n",
       "<style>\n",
       "    .dataframe thead tr:only-child th {\n",
       "        text-align: right;\n",
       "    }\n",
       "\n",
       "    .dataframe thead th {\n",
       "        text-align: left;\n",
       "    }\n",
       "\n",
       "    .dataframe tbody tr th {\n",
       "        vertical-align: top;\n",
       "    }\n",
       "</style>\n",
       "<table border=\"1\" class=\"dataframe\">\n",
       "  <thead>\n",
       "    <tr style=\"text-align: right;\">\n",
       "      <th></th>\n",
       "      <th>user_id</th>\n",
       "      <th>stars</th>\n",
       "      <th>reviews</th>\n",
       "      <th>tokens</th>\n",
       "      <th>tokens_stop</th>\n",
       "      <th>tokens_pos</th>\n",
       "    </tr>\n",
       "  </thead>\n",
       "  <tbody>\n",
       "    <tr>\n",
       "      <th>0</th>\n",
       "      <td>A368Z46FIKHSEZ</td>\n",
       "      <td>5</td>\n",
       "      <td>i love these cookies   not only are they healt...</td>\n",
       "      <td>[i, love, these, cookies, not, only, are, they...</td>\n",
       "      <td>[love, cookies, healthy, taste, great, soft, d...</td>\n",
       "      <td>[(love, VB), (cookies, NNS), (healthy, JJ), (t...</td>\n",
       "    </tr>\n",
       "    <tr>\n",
       "      <th>1</th>\n",
       "      <td>A1JAPP1CXRG57A</td>\n",
       "      <td>5</td>\n",
       "      <td>quaker soft baked oatmeal cookies with raisins...</td>\n",
       "      <td>[quaker, soft, baked, oatmeal, cookies, with, ...</td>\n",
       "      <td>[quaker, soft, baked, oatmeal, cookies, raisin...</td>\n",
       "      <td>[(quaker, NN), (soft, JJ), (baked, VBD), (oatm...</td>\n",
       "    </tr>\n",
       "    <tr>\n",
       "      <th>2</th>\n",
       "      <td>A2Z9JNXPIEL2B9</td>\n",
       "      <td>5</td>\n",
       "      <td>i am usually not a huge fan of oatmeal cookies...</td>\n",
       "      <td>[i, am, usually, not, a, huge, fan, of, oatmea...</td>\n",
       "      <td>[usually, huge, fan, oatmeal, cookies, literal...</td>\n",
       "      <td>[(usually, RB), (huge, JJ), (fan, NN), (oatmea...</td>\n",
       "    </tr>\n",
       "    <tr>\n",
       "      <th>3</th>\n",
       "      <td>A31CYJQO3FL586</td>\n",
       "      <td>5</td>\n",
       "      <td>i participated in a product review that includ...</td>\n",
       "      <td>[i, participated, in, a, product, review, that...</td>\n",
       "      <td>[participated, product, review, included, samp...</td>\n",
       "      <td>[(participated, JJ), (product, NN), (review, N...</td>\n",
       "    </tr>\n",
       "    <tr>\n",
       "      <th>4</th>\n",
       "      <td>A2KXQ2EKFF3K2G</td>\n",
       "      <td>5</td>\n",
       "      <td>my kids loved these  i was very pleased to giv...</td>\n",
       "      <td>[my, kids, loved, these, i, was, very, pleased...</td>\n",
       "      <td>[kids, loved, pleased, give, kids, quick, go, ...</td>\n",
       "      <td>[(kids, NNS), (loved, VBD), (pleased, JJ), (gi...</td>\n",
       "    </tr>\n",
       "  </tbody>\n",
       "</table>\n",
       "</div>"
      ],
      "text/plain": [
       "          user_id  stars                                            reviews  \\\n",
       "0  A368Z46FIKHSEZ      5  i love these cookies   not only are they healt...   \n",
       "1  A1JAPP1CXRG57A      5  quaker soft baked oatmeal cookies with raisins...   \n",
       "2  A2Z9JNXPIEL2B9      5  i am usually not a huge fan of oatmeal cookies...   \n",
       "3  A31CYJQO3FL586      5  i participated in a product review that includ...   \n",
       "4  A2KXQ2EKFF3K2G      5  my kids loved these  i was very pleased to giv...   \n",
       "\n",
       "                                              tokens  \\\n",
       "0  [i, love, these, cookies, not, only, are, they...   \n",
       "1  [quaker, soft, baked, oatmeal, cookies, with, ...   \n",
       "2  [i, am, usually, not, a, huge, fan, of, oatmea...   \n",
       "3  [i, participated, in, a, product, review, that...   \n",
       "4  [my, kids, loved, these, i, was, very, pleased...   \n",
       "\n",
       "                                         tokens_stop  \\\n",
       "0  [love, cookies, healthy, taste, great, soft, d...   \n",
       "1  [quaker, soft, baked, oatmeal, cookies, raisin...   \n",
       "2  [usually, huge, fan, oatmeal, cookies, literal...   \n",
       "3  [participated, product, review, included, samp...   \n",
       "4  [kids, loved, pleased, give, kids, quick, go, ...   \n",
       "\n",
       "                                          tokens_pos  \n",
       "0  [(love, VB), (cookies, NNS), (healthy, JJ), (t...  \n",
       "1  [(quaker, NN), (soft, JJ), (baked, VBD), (oatm...  \n",
       "2  [(usually, RB), (huge, JJ), (fan, NN), (oatmea...  \n",
       "3  [(participated, JJ), (product, NN), (review, N...  \n",
       "4  [(kids, NNS), (loved, VBD), (pleased, JJ), (gi...  "
      ]
     },
     "execution_count": 20,
     "metadata": {},
     "output_type": "execute_result"
    }
   ],
   "source": [
    "# Parts of speech tagging\n",
    "from nltk.tag import pos_tag\n",
    "\n",
    "pos_lambda = lambda x: nltk.pos_tag(x)\n",
    "data['tokens_pos'] = (data.tokens_stop.apply(pos_lambda))\n",
    "data.head()"
   ]
  },
  {
   "cell_type": "code",
   "execution_count": 21,
   "metadata": {},
   "outputs": [
    {
     "data": {
      "text/html": [
       "<div>\n",
       "<style>\n",
       "    .dataframe thead tr:only-child th {\n",
       "        text-align: right;\n",
       "    }\n",
       "\n",
       "    .dataframe thead th {\n",
       "        text-align: left;\n",
       "    }\n",
       "\n",
       "    .dataframe tbody tr th {\n",
       "        vertical-align: top;\n",
       "    }\n",
       "</style>\n",
       "<table border=\"1\" class=\"dataframe\">\n",
       "  <thead>\n",
       "    <tr style=\"text-align: right;\">\n",
       "      <th></th>\n",
       "      <th>user_id</th>\n",
       "      <th>stars</th>\n",
       "      <th>reviews</th>\n",
       "      <th>tokens</th>\n",
       "      <th>tokens_stop</th>\n",
       "      <th>tokens_pos</th>\n",
       "      <th>tokens_stem</th>\n",
       "    </tr>\n",
       "  </thead>\n",
       "  <tbody>\n",
       "    <tr>\n",
       "      <th>0</th>\n",
       "      <td>A368Z46FIKHSEZ</td>\n",
       "      <td>5</td>\n",
       "      <td>i love these cookies   not only are they healt...</td>\n",
       "      <td>[i, love, these, cookies, not, only, are, they...</td>\n",
       "      <td>[love, cookies, healthy, taste, great, soft, d...</td>\n",
       "      <td>[(love, VB), (cookies, NNS), (healthy, JJ), (t...</td>\n",
       "      <td>[love, cooki, healthi, tast, great, soft, defi...</td>\n",
       "    </tr>\n",
       "    <tr>\n",
       "      <th>1</th>\n",
       "      <td>A1JAPP1CXRG57A</td>\n",
       "      <td>5</td>\n",
       "      <td>quaker soft baked oatmeal cookies with raisins...</td>\n",
       "      <td>[quaker, soft, baked, oatmeal, cookies, with, ...</td>\n",
       "      <td>[quaker, soft, baked, oatmeal, cookies, raisin...</td>\n",
       "      <td>[(quaker, NN), (soft, JJ), (baked, VBD), (oatm...</td>\n",
       "      <td>[quaker, soft, bake, oatmeal, cooki, raisin, d...</td>\n",
       "    </tr>\n",
       "    <tr>\n",
       "      <th>2</th>\n",
       "      <td>A2Z9JNXPIEL2B9</td>\n",
       "      <td>5</td>\n",
       "      <td>i am usually not a huge fan of oatmeal cookies...</td>\n",
       "      <td>[i, am, usually, not, a, huge, fan, of, oatmea...</td>\n",
       "      <td>[usually, huge, fan, oatmeal, cookies, literal...</td>\n",
       "      <td>[(usually, RB), (huge, JJ), (fan, NN), (oatmea...</td>\n",
       "      <td>[usual, huge, fan, oatmeal, cooki, liter, melt...</td>\n",
       "    </tr>\n",
       "    <tr>\n",
       "      <th>3</th>\n",
       "      <td>A31CYJQO3FL586</td>\n",
       "      <td>5</td>\n",
       "      <td>i participated in a product review that includ...</td>\n",
       "      <td>[i, participated, in, a, product, review, that...</td>\n",
       "      <td>[participated, product, review, included, samp...</td>\n",
       "      <td>[(participated, JJ), (product, NN), (review, N...</td>\n",
       "      <td>[particip, product, review, includ, sampl, hre...</td>\n",
       "    </tr>\n",
       "    <tr>\n",
       "      <th>4</th>\n",
       "      <td>A2KXQ2EKFF3K2G</td>\n",
       "      <td>5</td>\n",
       "      <td>my kids loved these  i was very pleased to giv...</td>\n",
       "      <td>[my, kids, loved, these, i, was, very, pleased...</td>\n",
       "      <td>[kids, loved, pleased, give, kids, quick, go, ...</td>\n",
       "      <td>[(kids, NNS), (loved, VBD), (pleased, JJ), (gi...</td>\n",
       "      <td>[kid, love, pleas, give, kid, quick, go, healt...</td>\n",
       "    </tr>\n",
       "  </tbody>\n",
       "</table>\n",
       "</div>"
      ],
      "text/plain": [
       "          user_id  stars                                            reviews  \\\n",
       "0  A368Z46FIKHSEZ      5  i love these cookies   not only are they healt...   \n",
       "1  A1JAPP1CXRG57A      5  quaker soft baked oatmeal cookies with raisins...   \n",
       "2  A2Z9JNXPIEL2B9      5  i am usually not a huge fan of oatmeal cookies...   \n",
       "3  A31CYJQO3FL586      5  i participated in a product review that includ...   \n",
       "4  A2KXQ2EKFF3K2G      5  my kids loved these  i was very pleased to giv...   \n",
       "\n",
       "                                              tokens  \\\n",
       "0  [i, love, these, cookies, not, only, are, they...   \n",
       "1  [quaker, soft, baked, oatmeal, cookies, with, ...   \n",
       "2  [i, am, usually, not, a, huge, fan, of, oatmea...   \n",
       "3  [i, participated, in, a, product, review, that...   \n",
       "4  [my, kids, loved, these, i, was, very, pleased...   \n",
       "\n",
       "                                         tokens_stop  \\\n",
       "0  [love, cookies, healthy, taste, great, soft, d...   \n",
       "1  [quaker, soft, baked, oatmeal, cookies, raisin...   \n",
       "2  [usually, huge, fan, oatmeal, cookies, literal...   \n",
       "3  [participated, product, review, included, samp...   \n",
       "4  [kids, loved, pleased, give, kids, quick, go, ...   \n",
       "\n",
       "                                          tokens_pos  \\\n",
       "0  [(love, VB), (cookies, NNS), (healthy, JJ), (t...   \n",
       "1  [(quaker, NN), (soft, JJ), (baked, VBD), (oatm...   \n",
       "2  [(usually, RB), (huge, JJ), (fan, NN), (oatmea...   \n",
       "3  [(participated, JJ), (product, NN), (review, N...   \n",
       "4  [(kids, NNS), (loved, VBD), (pleased, JJ), (gi...   \n",
       "\n",
       "                                         tokens_stem  \n",
       "0  [love, cooki, healthi, tast, great, soft, defi...  \n",
       "1  [quaker, soft, bake, oatmeal, cooki, raisin, d...  \n",
       "2  [usual, huge, fan, oatmeal, cooki, liter, melt...  \n",
       "3  [particip, product, review, includ, sampl, hre...  \n",
       "4  [kid, love, pleas, give, kid, quick, go, healt...  "
      ]
     },
     "execution_count": 21,
     "metadata": {},
     "output_type": "execute_result"
    }
   ],
   "source": [
    "# Perform stemming, which removes alternate word endings without knowledge of the context\n",
    "from nltk.stem import SnowballStemmer\n",
    "\n",
    "stemmer = SnowballStemmer('english')\n",
    "stem_lambda = lambda x: [stemmer.stem(y) for y in x]\n",
    "\n",
    "data['tokens_stem'] = data.tokens_stop.apply(stem_lambda)\n",
    "data.head()"
   ]
  },
  {
   "cell_type": "code",
   "execution_count": 22,
   "metadata": {},
   "outputs": [
    {
     "data": {
      "text/html": [
       "<div>\n",
       "<style>\n",
       "    .dataframe thead tr:only-child th {\n",
       "        text-align: right;\n",
       "    }\n",
       "\n",
       "    .dataframe thead th {\n",
       "        text-align: left;\n",
       "    }\n",
       "\n",
       "    .dataframe tbody tr th {\n",
       "        vertical-align: top;\n",
       "    }\n",
       "</style>\n",
       "<table border=\"1\" class=\"dataframe\">\n",
       "  <thead>\n",
       "    <tr style=\"text-align: right;\">\n",
       "      <th></th>\n",
       "      <th>0</th>\n",
       "      <th>1</th>\n",
       "      <th>2</th>\n",
       "      <th>3</th>\n",
       "      <th>4</th>\n",
       "    </tr>\n",
       "  </thead>\n",
       "  <tbody>\n",
       "    <tr>\n",
       "      <th>user_id</th>\n",
       "      <td>A368Z46FIKHSEZ</td>\n",
       "      <td>A1JAPP1CXRG57A</td>\n",
       "      <td>A2Z9JNXPIEL2B9</td>\n",
       "      <td>A31CYJQO3FL586</td>\n",
       "      <td>A2KXQ2EKFF3K2G</td>\n",
       "    </tr>\n",
       "    <tr>\n",
       "      <th>stars</th>\n",
       "      <td>5</td>\n",
       "      <td>5</td>\n",
       "      <td>5</td>\n",
       "      <td>5</td>\n",
       "      <td>5</td>\n",
       "    </tr>\n",
       "    <tr>\n",
       "      <th>reviews</th>\n",
       "      <td>i love these cookies   not only are they healt...</td>\n",
       "      <td>quaker soft baked oatmeal cookies with raisins...</td>\n",
       "      <td>i am usually not a huge fan of oatmeal cookies...</td>\n",
       "      <td>i participated in a product review that includ...</td>\n",
       "      <td>my kids loved these  i was very pleased to giv...</td>\n",
       "    </tr>\n",
       "    <tr>\n",
       "      <th>tokens</th>\n",
       "      <td>[i, love, these, cookies, not, only, are, they...</td>\n",
       "      <td>[quaker, soft, baked, oatmeal, cookies, with, ...</td>\n",
       "      <td>[i, am, usually, not, a, huge, fan, of, oatmea...</td>\n",
       "      <td>[i, participated, in, a, product, review, that...</td>\n",
       "      <td>[my, kids, loved, these, i, was, very, pleased...</td>\n",
       "    </tr>\n",
       "    <tr>\n",
       "      <th>tokens_stop</th>\n",
       "      <td>[love, cookies, healthy, taste, great, soft, d...</td>\n",
       "      <td>[quaker, soft, baked, oatmeal, cookies, raisin...</td>\n",
       "      <td>[usually, huge, fan, oatmeal, cookies, literal...</td>\n",
       "      <td>[participated, product, review, included, samp...</td>\n",
       "      <td>[kids, loved, pleased, give, kids, quick, go, ...</td>\n",
       "    </tr>\n",
       "    <tr>\n",
       "      <th>tokens_pos</th>\n",
       "      <td>[(love, VB), (cookies, NNS), (healthy, JJ), (t...</td>\n",
       "      <td>[(quaker, NN), (soft, JJ), (baked, VBD), (oatm...</td>\n",
       "      <td>[(usually, RB), (huge, JJ), (fan, NN), (oatmea...</td>\n",
       "      <td>[(participated, JJ), (product, NN), (review, N...</td>\n",
       "      <td>[(kids, NNS), (loved, VBD), (pleased, JJ), (gi...</td>\n",
       "    </tr>\n",
       "    <tr>\n",
       "      <th>tokens_stem</th>\n",
       "      <td>[love, cooki, healthi, tast, great, soft, defi...</td>\n",
       "      <td>[quaker, soft, bake, oatmeal, cooki, raisin, d...</td>\n",
       "      <td>[usual, huge, fan, oatmeal, cooki, liter, melt...</td>\n",
       "      <td>[particip, product, review, includ, sampl, hre...</td>\n",
       "      <td>[kid, love, pleas, give, kid, quick, go, healt...</td>\n",
       "    </tr>\n",
       "    <tr>\n",
       "      <th>tokens_lemma</th>\n",
       "      <td>[love, cooky, healthy, taste, great, soft, def...</td>\n",
       "      <td>[quaker, soft, bake, oatmeal, cooky, raisins, ...</td>\n",
       "      <td>[usually, huge, fan, oatmeal, cooky, literally...</td>\n",
       "      <td>[participated, product, review, include, sampl...</td>\n",
       "      <td>[kid, love, pleased, give, kid, quick, go, hea...</td>\n",
       "    </tr>\n",
       "  </tbody>\n",
       "</table>\n",
       "</div>"
      ],
      "text/plain": [
       "                                                              0  \\\n",
       "user_id                                          A368Z46FIKHSEZ   \n",
       "stars                                                         5   \n",
       "reviews       i love these cookies   not only are they healt...   \n",
       "tokens        [i, love, these, cookies, not, only, are, they...   \n",
       "tokens_stop   [love, cookies, healthy, taste, great, soft, d...   \n",
       "tokens_pos    [(love, VB), (cookies, NNS), (healthy, JJ), (t...   \n",
       "tokens_stem   [love, cooki, healthi, tast, great, soft, defi...   \n",
       "tokens_lemma  [love, cooky, healthy, taste, great, soft, def...   \n",
       "\n",
       "                                                              1  \\\n",
       "user_id                                          A1JAPP1CXRG57A   \n",
       "stars                                                         5   \n",
       "reviews       quaker soft baked oatmeal cookies with raisins...   \n",
       "tokens        [quaker, soft, baked, oatmeal, cookies, with, ...   \n",
       "tokens_stop   [quaker, soft, baked, oatmeal, cookies, raisin...   \n",
       "tokens_pos    [(quaker, NN), (soft, JJ), (baked, VBD), (oatm...   \n",
       "tokens_stem   [quaker, soft, bake, oatmeal, cooki, raisin, d...   \n",
       "tokens_lemma  [quaker, soft, bake, oatmeal, cooky, raisins, ...   \n",
       "\n",
       "                                                              2  \\\n",
       "user_id                                          A2Z9JNXPIEL2B9   \n",
       "stars                                                         5   \n",
       "reviews       i am usually not a huge fan of oatmeal cookies...   \n",
       "tokens        [i, am, usually, not, a, huge, fan, of, oatmea...   \n",
       "tokens_stop   [usually, huge, fan, oatmeal, cookies, literal...   \n",
       "tokens_pos    [(usually, RB), (huge, JJ), (fan, NN), (oatmea...   \n",
       "tokens_stem   [usual, huge, fan, oatmeal, cooki, liter, melt...   \n",
       "tokens_lemma  [usually, huge, fan, oatmeal, cooky, literally...   \n",
       "\n",
       "                                                              3  \\\n",
       "user_id                                          A31CYJQO3FL586   \n",
       "stars                                                         5   \n",
       "reviews       i participated in a product review that includ...   \n",
       "tokens        [i, participated, in, a, product, review, that...   \n",
       "tokens_stop   [participated, product, review, included, samp...   \n",
       "tokens_pos    [(participated, JJ), (product, NN), (review, N...   \n",
       "tokens_stem   [particip, product, review, includ, sampl, hre...   \n",
       "tokens_lemma  [participated, product, review, include, sampl...   \n",
       "\n",
       "                                                              4  \n",
       "user_id                                          A2KXQ2EKFF3K2G  \n",
       "stars                                                         5  \n",
       "reviews       my kids loved these  i was very pleased to giv...  \n",
       "tokens        [my, kids, loved, these, i, was, very, pleased...  \n",
       "tokens_stop   [kids, loved, pleased, give, kids, quick, go, ...  \n",
       "tokens_pos    [(kids, NNS), (loved, VBD), (pleased, JJ), (gi...  \n",
       "tokens_stem   [kid, love, pleas, give, kid, quick, go, healt...  \n",
       "tokens_lemma  [kid, love, pleased, give, kid, quick, go, hea...  "
      ]
     },
     "execution_count": 22,
     "metadata": {},
     "output_type": "execute_result"
    }
   ],
   "source": [
    "# Perform lemmatization, which is a smarter form of stemming and takes context into account\n",
    "from nltk.corpus import wordnet\n",
    "from nltk.stem.wordnet import WordNetLemmatizer\n",
    "\n",
    "# Convert the naming scheme to one that is recognized by WordNet\n",
    "def get_wordnet_pos(treebank_tag):\n",
    "    if treebank_tag.startswith('J'):\n",
    "        return wordnet.ADJ\n",
    "    elif treebank_tag.startswith('V'):\n",
    "        return wordnet.VERB\n",
    "    elif treebank_tag.startswith('N'):\n",
    "        return wordnet.NOUN\n",
    "    elif treebank_tag.startswith('R'):\n",
    "        return wordnet.ADV\n",
    "    else:\n",
    "        return wordnet.NOUN\n",
    "\n",
    "lemmatizer = WordNetLemmatizer()\n",
    "lemmatizer_fun = lambda x: lemmatizer.lemmatize(*x)\n",
    "data['tokens_lemma'] = data.tokens_pos\\\n",
    "                        .apply(lambda x: [(y[0], get_wordnet_pos(y[1])) for y in x])\\\n",
    "                        .apply(lambda x: [lemmatizer_fun(y) for y in x])\n",
    "\n",
    "# View the columns transposed\n",
    "data.head().T"
   ]
  },
  {
   "cell_type": "markdown",
   "metadata": {
    "collapsed": true
   },
   "source": [
    "## Question 4 ##"
   ]
  },
  {
   "cell_type": "markdown",
   "metadata": {},
   "source": [
    "* After going through these preprocessing steps, what are the most common words now? Do they make more sense?"
   ]
  },
  {
   "cell_type": "code",
   "execution_count": 23,
   "metadata": {},
   "outputs": [
    {
     "data": {
      "text/plain": [
       "['love',\n",
       " 'cooki',\n",
       " 'healthi',\n",
       " 'tast',\n",
       " 'great',\n",
       " 'soft',\n",
       " 'definit',\n",
       " 'add',\n",
       " 'groceri',\n",
       " 'list']"
      ]
     },
     "execution_count": 23,
     "metadata": {},
     "output_type": "execute_result"
    }
   ],
   "source": [
    "# Let's find the most common words after cleaning the data\n",
    "\n",
    "# This creates one huge list by combining all of the tokens values\n",
    "word_list_clean = sum(data.tokens_stem.tolist(), [])\n",
    "\n",
    "word_list_clean[:10]"
   ]
  },
  {
   "cell_type": "code",
   "execution_count": 24,
   "metadata": {},
   "outputs": [
    {
     "data": {
      "text/plain": [
       "[(1686, 'cooki'),\n",
       " (713, 'soft'),\n",
       " (559, 'love'),\n",
       " (482, 'oatmeal'),\n",
       " (416, 'tast'),\n",
       " (378, 'raisin'),\n",
       " (366, 'like'),\n",
       " (366, 'good'),\n",
       " (347, 'quaker'),\n",
       " (302, 'tri')]"
      ]
     },
     "execution_count": 24,
     "metadata": {},
     "output_type": "execute_result"
    }
   ],
   "source": [
    "from collections import Counter\n",
    "\n",
    "# Converts list to a dictionary with value counts\n",
    "word_counts_clean = Counter(word_list_clean)\n",
    "\n",
    "# Reverse the key/values in the dictionary for sorting\n",
    "word_counts_clean = list(zip(word_counts_clean.values(), word_counts_clean.keys()))\n",
    "\n",
    "# Sort the list by count\n",
    "word_counts_clean = sorted(word_counts_clean, reverse=True)\n",
    "\n",
    "# Prints the 10 most commons words\n",
    "word_counts_clean[:10]"
   ]
  },
  {
   "cell_type": "markdown",
   "metadata": {},
   "source": [
    "These new top 10 words make a lot more sense and give us a good idea of what the corpus is about. Just by looking at these top 10 words, you can tell the corpus deals with delicious oatmeal cookies!"
   ]
  }
 ],
 "metadata": {
  "anaconda-cloud": {},
  "kernelspec": {
   "display_name": "Python (intel_nlp)",
   "language": "python",
   "name": "intel_nlp"
  },
  "language_info": {
   "codemirror_mode": {
    "name": "ipython",
    "version": 3
   },
   "file_extension": ".py",
   "mimetype": "text/x-python",
   "name": "python",
   "nbconvert_exporter": "python",
   "pygments_lexer": "ipython3",
   "version": "3.6.5"
  },
  "toc": {
   "colors": {
    "hover_highlight": "#DAA520",
    "navigate_num": "#000000",
    "navigate_text": "#333333",
    "running_highlight": "#FF0000",
    "selected_highlight": "#FFD700",
    "sidebar_border": "#EEEEEE",
    "wrapper_background": "#FFFFFF"
   },
   "moveMenuLeft": true,
   "nav_menu": {
    "height": "48px",
    "width": "252px"
   },
   "navigate_menu": true,
   "number_sections": true,
   "sideBar": true,
   "threshold": 4,
   "toc_cell": false,
   "toc_section_display": "block",
   "toc_window_display": false,
   "widenNotebook": false
  }
 },
 "nbformat": 4,
 "nbformat_minor": 2
}
