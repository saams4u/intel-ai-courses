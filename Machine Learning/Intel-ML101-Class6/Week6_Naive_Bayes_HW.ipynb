{
 "cells": [
  {
   "cell_type": "markdown",
   "metadata": {
    "run_control": {
     "marked": true
    }
   },
   "source": [
    "# Naive Bayes"
   ]
  },
  {
   "cell_type": "markdown",
   "metadata": {
    "run_control": {
     "marked": true
    }
   },
   "source": [
    "## Introduction\n",
    "\n",
    "We will start by working on the Iris dataset. Recall that Iris dataset contains iris species and sepal and petal measurements. We will quickly explore the dataset and jump into Naive Bayes."
   ]
  },
  {
   "cell_type": "code",
   "execution_count": null,
   "metadata": {
    "collapsed": true,
    "run_control": {
     "marked": true
    }
   },
   "outputs": [],
   "source": [
    "from __future__ import print_function\n",
    "import os\n",
    "#Data Path has to be set as per the file location in your system\n",
    "#data_path = ['..', 'data']\n",
    "data_path = ['data']"
   ]
  },
  {
   "cell_type": "markdown",
   "metadata": {},
   "source": [
    "## Question 1\n",
    "\n",
    "* Load the Iris dataset.\n",
    "* Take a quick look at the data types.\n",
    "* Look at the skew values and decide if any transformations need to be applied. You can use skew value 0.75 as a threshold.\n",
    "* Use `sns.pairplot` to plot the pairwise correlations and histograms. Use `hue=\"species\"` as a keyword argument in order to see the distribution of species."
   ]
  },
  {
   "cell_type": "code",
   "execution_count": null,
   "metadata": {
    "collapsed": true,
    "run_control": {
     "marked": true
    }
   },
   "outputs": [],
   "source": [
    "import pandas as pd\n",
    "import numpy as np\n",
    "#The filepath is dependent on the data_path set in the previous cell \n",
    "filepath = os.sep.join(data_path + ['Iris_Data.csv'])\n",
    "data = pd.read_csv(filepath, sep=',', header=0)"
   ]
  },
  {
   "cell_type": "code",
   "execution_count": null,
   "metadata": {
    "collapsed": false
   },
   "outputs": [],
   "source": [
    "data.dtypes"
   ]
  },
  {
   "cell_type": "markdown",
   "metadata": {},
   "source": [
    "Notice that aside from the predictor variable, everything is float."
   ]
  },
  {
   "cell_type": "code",
   "execution_count": null,
   "metadata": {
    "collapsed": false
   },
   "outputs": [],
   "source": [
    "skew = pd.DataFrame(data.skew())\n",
    "skew.columns = ['skew']\n",
    "skew['too_skewed'] = skew['skew'] > .75\n",
    "skew"
   ]
  },
  {
   "cell_type": "markdown",
   "metadata": {},
   "source": [
    "Fields are not too badly skewed."
   ]
  },
  {
   "cell_type": "code",
   "execution_count": null,
   "metadata": {
    "collapsed": false
   },
   "outputs": [],
   "source": [
    "import seaborn as sns\n",
    "import matplotlib.pyplot as plt\n",
    "%matplotlib inline\n",
    "sns.pairplot(data, hue='species')"
   ]
  },
  {
   "cell_type": "markdown",
   "metadata": {},
   "source": [
    "## Question 2\n",
    "\n",
    "Let's now fit a Naive Bayes classifier to this data in order to predict \"species\".\n",
    "\n",
    "* Pick the appropriate type of Naive Bayes given the nature of your dataset (data types of columns). Recall, choices are\n",
    "    * GaussianNB\n",
    "    * MultinomialNB\n",
    "    * BernoulliNB\n",
    "* Use `cross_val_score` to see how well your choice works."
   ]
  },
  {
   "cell_type": "code",
   "execution_count": null,
   "metadata": {
    "collapsed": false
   },
   "outputs": [],
   "source": [
    "# Since the features are continuous, the right choice is GaussianNB\n",
    "\n",
    "from sklearn.naive_bayes import GaussianNB\n",
    "from sklearn.model_selection import cross_val_score\n",
    "X = data[data.columns[:-1]]\n",
    "y = data.species\n",
    "\n",
    "GNB = GaussianNB()\n",
    "cv_N = 4\n",
    "scores = cross_val_score(GNB, X, y, n_jobs=cv_N, cv=cv_N)\n",
    "print(scores)\n",
    "np.mean(scores)"
   ]
  },
  {
   "cell_type": "markdown",
   "metadata": {},
   "source": [
    "## Question 3:\n",
    "\n",
    "Now let's try all types of Naive Bayes and observe what happens\n",
    "\n",
    "* Compare the cross validation scores for Gaussian, Bernouilli and Multinomial Naive Bayes.\n",
    "* Why is BernoulliNB performing like it does?"
   ]
  },
  {
   "cell_type": "code",
   "execution_count": null,
   "metadata": {
    "collapsed": false
   },
   "outputs": [],
   "source": [
    "from sklearn.naive_bayes import GaussianNB, BernoulliNB, MultinomialNB\n",
    "X = data[data.columns[:-1]]\n",
    "y = data.species\n",
    "nb = {'gaussian': GaussianNB(),\n",
    "      'bernoulli': BernoulliNB(),\n",
    "      'multinomial': MultinomialNB()}\n",
    "scores = {}\n",
    "for key, model in nb.items():\n",
    "    s = cross_val_score(model, X, y, cv=cv_N, n_jobs=cv_N, scoring='accuracy')\n",
    "    scores[key] = np.mean(s)\n",
    "scores"
   ]
  },
  {
   "cell_type": "markdown",
   "metadata": {},
   "source": [
    "Looks like BernoulliNB results are very bad, but MultinomialNB is doing a very good job.\n",
    "\n",
    "Why are the results of Bernoulli bad? Find out the reason."
   ]
  },
  {
   "cell_type": "markdown",
   "metadata": {},
   "source": [
    "## Question 4:\n",
    "\n",
    "Let's see what happens when we take away the predictive features.\n",
    "\n",
    "* Check the pairplot histograms (diagonal) you produced above and identify the two most predictive features visually.\n",
    "* Remove the *petal_* features which are very predictive, and re-do the comparison above. That is, get the cross validation scores for all types of Naive Bayes."
   ]
  },
  {
   "cell_type": "code",
   "execution_count": null,
   "metadata": {
    "collapsed": true
   },
   "outputs": [],
   "source": [
    "X = data[['sepal_length', 'sepal_width']]\n",
    "y = data.species\n",
    "\n",
    "nb = {'gaussian': GaussianNB(),\n",
    "      'bernoulli': BernoulliNB(),\n",
    "      'multinomial': MultinomialNB()}\n",
    "\n",
    "# Try other variants on the lines shown in the previous cell for GaussianNB and compare the results on scoring = 'accuracy'. \n",
    "# Run the piece of code as shown in array in question 3\n"
   ]
  },
  {
   "cell_type": "markdown",
   "metadata": {},
   "source": [
    "#Come up with your observations after taking away the very predictive features, which model works better"
   ]
  },
  {
   "cell_type": "markdown",
   "metadata": {
    "run_control": {
     "marked": true
    }
   },
   "source": [
    "## Question 5\n",
    "\n",
    "This question explores how Naive Bayes algorithms can be affected when we push the underlying (naive) assumption too much. Recall that the naive assumption is that the features in the training set are *independent* from each other.\n",
    "\n",
    "* Create **0, 1, 3, 5, 10, 50, 100** copies of `sepal_length` and fit a `GaussianNB` for each one.\n",
    "* Keep track of the save the average `cross_val_score`.\n",
    "* Create a plot of the saved scores over the number of copies."
   ]
  },
  {
   "cell_type": "code",
   "execution_count": null,
   "metadata": {
    "collapsed": false
   },
   "outputs": [],
   "source": [
    "X = data[data.columns[:-1]]\n",
    "y = data.species\n",
    "\n",
    "n_copies = [0, 1, 3, 5, 10, 50, 100]\n",
    "\n",
    "\n",
    "def create_copies_sepal_length(X, n):\n",
    "    X_new = X.copy()\n",
    "    for i in range(n):\n",
    "        X_new['sepal_length_copy%s' % i] = X['sepal_length']\n",
    "    return X_new\n",
    "\n",
    "\n",
    "def get_cross_val_score(n):\n",
    "    X_new = create_copies_sepal_length(X, n)\n",
    "    scores = cross_val_score(GaussianNB(), X_new, y, cv=cv_N, n_jobs=cv_N)\n",
    "    return np.mean(scores)\n",
    "\n",
    "\n",
    "avg_scores = pd.Series(\n",
    "    [get_cross_val_score(n) for n in n_copies],\n",
    "    index=n_copies)\n",
    "\n",
    "ax = avg_scores.plot()\n",
    "ax.set(\n",
    "    xlabel='number of extra copies of \"sepal_length\"',\n",
    "    ylabel='average accuracy score',\n",
    "    title='Decline in Naive Bayes performance');\n"
   ]
  },
  {
   "cell_type": "markdown",
   "metadata": {},
   "source": [
    "## Question 6 - Naive Bayes on Human Activity Recongnition\n",
    "\n",
    "In this question, we'll explore discretizing the dataset and then fitting MultinomialNB.  \n",
    "\n",
    "* Load the Human Activity Recognition dataset. \n",
    "* Look at the data types. It's all continuous except for the target.\n",
    "* Create `X` and `y` from `data`. `y` is the \"Activity\" column.\n",
    "* Create training and test splits.\n",
    "* Fit a GaussianNB to the training split.\n",
    "* Get predictions on the test set.\n",
    "* use `sns.heatmap` to plot the confusion matrix for predictions."
   ]
  },
  {
   "cell_type": "code",
   "execution_count": null,
   "metadata": {
    "collapsed": true
   },
   "outputs": [],
   "source": []
  },
  {
   "cell_type": "markdown",
   "metadata": {},
   "source": [
    "## Question 7\n",
    "\n",
    "Now, let's discretize the dataset from Question 6. There are many ways to do this, but we'll use `pd.DataFrame.rank(pct=True)`.\n",
    "\n",
    "a. Create `X_discrete` from `X` using .rank(pct=True)\n",
    "\n",
    "b. Look at the values. They are still not discrete. Modify `X_discrete` so that it is indeed discrete. (Hint: try to get the first 2 digits using `.applymap`)\n",
    "\n",
    "c. Split `X_discrete` and `y` into training and test datasets\n",
    "\n",
    "d. Fit a MultinomialNB to the training split.\n",
    "\n",
    "e. Get predictions on the test set.\n",
    "\n",
    "f. Plot the confusion matrix for predictions."
   ]
  },
  {
   "cell_type": "code",
   "execution_count": null,
   "metadata": {
    "collapsed": true
   },
   "outputs": [],
   "source": []
  }
 ],
 "metadata": {
  "kernelspec": {
   "display_name": "Python 3",
   "language": "python",
   "name": "python3"
  },
  "language_info": {
   "codemirror_mode": {
    "name": "ipython",
    "version": 3
   },
   "file_extension": ".py",
   "mimetype": "text/x-python",
   "name": "python",
   "nbconvert_exporter": "python",
   "pygments_lexer": "ipython3",
   "version": "3.5.2"
  }
 },
 "nbformat": 4,
 "nbformat_minor": 2
}
