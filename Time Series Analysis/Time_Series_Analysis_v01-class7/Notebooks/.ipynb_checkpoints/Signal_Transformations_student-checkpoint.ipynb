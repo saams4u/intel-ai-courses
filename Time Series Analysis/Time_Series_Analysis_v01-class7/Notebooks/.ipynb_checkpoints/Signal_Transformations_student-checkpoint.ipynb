{
 "cells": [
  {
   "cell_type": "markdown",
   "metadata": {},
   "source": [
    "# Introduction\n",
    "\n",
    "As you learned in lecture, any function can be approximated with a series of sines and cosines. This tutorial will give you the practical skills needed to apply the Fourier Transform and several common filters to time series data. In essence, this is a new set of tools you can add to your time series toolbox.\n",
    "\n",
    "# Learning Outcomes\n",
    "You should walk away from this tutorial with:\n",
    "1. A basic understanding of the Fourier Transform (FT).\n",
    "2. Knowledge of the most common filters and why they are useful.\n",
    "3. The know-how to make forecasts using the Fourier Transform.\n",
    "\n",
    "# Imports"
   ]
  },
  {
   "cell_type": "code",
   "execution_count": null,
   "metadata": {
    "collapsed": true
   },
   "outputs": [],
   "source": [
    "%matplotlib inline\n",
    "\n",
    "import sys\n",
    "import matplotlib\n",
    "import matplotlib.pyplot as plt\n",
    "import numpy as np\n",
    "import pandas as pd\n",
    "import scipy as sc\n",
    "from scipy import signal"
   ]
  },
  {
   "cell_type": "markdown",
   "metadata": {},
   "source": [
    "# Python & Library Versions"
   ]
  },
  {
   "cell_type": "code",
   "execution_count": null,
   "metadata": {
    "collapsed": true
   },
   "outputs": [],
   "source": [
    "versions = ( (\"matplotlib\", matplotlib.__version__),\n",
    "            (\"numpy\", np.__version__),\n",
    "            (\"pandas\", pd.__version__),\n",
    "            (\"scipy\", sc.__version__) )\n",
    "\n",
    "print(sys.version, \"\\n\")\n",
    "print(\"library\" + \" \" * 4 + \"version\")\n",
    "print(\"-\" * 18)\n",
    "\n",
    "for tup1, tup2 in versions:\n",
    "    print(\"{:11} {}\".format(tup1, tup2))"
   ]
  },
  {
   "cell_type": "markdown",
   "metadata": {},
   "source": [
    "---"
   ]
  },
  {
   "cell_type": "markdown",
   "metadata": {},
   "source": [
    "# Section 1: Fourier Transform (FT)\n",
    "The idea behind the Fourier Transform (FT) is that any time signal can be decomposed into a sum of sines that have different amplitude, frequencies, and phases.\n",
    "\n",
    "Let's start by creating a simple data set that consists of a sine wave with a frequency of 1 Hz."
   ]
  },
  {
   "cell_type": "code",
   "execution_count": null,
   "metadata": {
    "collapsed": true
   },
   "outputs": [],
   "source": [
    "freq = 1\n",
    "\n",
    "# Data set in Time Domain\n",
    "time = np.linspace(0, 5, 512)\n",
    "y_sine = np.sin(2 * np.pi * freq * time)"
   ]
  },
  {
   "cell_type": "markdown",
   "metadata": {},
   "source": [
    "Below we have a function that creates both a time domain and frequency domain plot."
   ]
  },
  {
   "cell_type": "code",
   "execution_count": null,
   "metadata": {
    "collapsed": true
   },
   "outputs": [],
   "source": [
    "def plot_time_freq(t, y):\n",
    "    # Converts Data into Frequncy Domain\n",
    "    freq = np.fft.fftfreq(t.size,d = t[1]-t[0])\n",
    "    Y = abs(np.fft.fft(y))\n",
    "    \n",
    "    # Time domain plot\n",
    "    plt.figure(figsize = [15,5])\n",
    "    plt.subplot(1,2,1)\n",
    "    plt.plot(t,y)\n",
    "    plt.title('Time Domain')\n",
    "    plt.xlabel('Time')\n",
    "    plt.ylabel('Signal')\n",
    "    \n",
    "    # Frequency domain plot\n",
    "    plt.subplot(1,2,2)\n",
    "    plt.plot(np.fft.fftshift(freq),np.fft.fftshift(Y),'r')\n",
    "    plt.title('Frequency Domain')\n",
    "    plt.xlabel('Frequency')\n",
    "    plt.xlim(-20, 20)\n",
    "    plt.ylabel('Absolute FFT')\n",
    "    plt.grid()"
   ]
  },
  {
   "cell_type": "markdown",
   "metadata": {},
   "source": [
    "We will now plot the sine wave, and we can observe that in the frequency domain there are 2 spikes at +1Hz and -1Hz.  This indicates the frequency of the sine wave.  Note that there is a symmetry between the left and right side across the 0 Hz frequency."
   ]
  },
  {
   "cell_type": "code",
   "execution_count": null,
   "metadata": {
    "collapsed": true
   },
   "outputs": [],
   "source": [
    "plot_time_freq(time, y_sine)"
   ]
  },
  {
   "cell_type": "markdown",
   "metadata": {},
   "source": [
    "In this example we will change the frequency to 10Hz, and we observe that the peaks in the Frequency Domain are now located at the 10 Hz point."
   ]
  },
  {
   "cell_type": "code",
   "execution_count": null,
   "metadata": {
    "collapsed": true
   },
   "outputs": [],
   "source": [
    "freq = 10\n",
    "\n",
    "# Data set in Time Domain\n",
    "y_sine = np.sin(2 * np.pi * freq * time)\n",
    "\n",
    "plot_time_freq(time, y_sine)"
   ]
  },
  {
   "cell_type": "markdown",
   "metadata": {},
   "source": [
    "Constant values are equivalent to having a frequency at 0 Hz.  The example below shows a constant at 1 in the time domain, which equates to a spike at 0Hz in the frequency domain."
   ]
  },
  {
   "cell_type": "code",
   "execution_count": null,
   "metadata": {
    "collapsed": true
   },
   "outputs": [],
   "source": [
    "# Data set in Time Domain\n",
    "y_constant = np.ones(time.shape)\n",
    "\n",
    "plot_time_freq(time, y_constant)"
   ]
  },
  {
   "cell_type": "markdown",
   "metadata": {},
   "source": [
    "### Problem 1\n",
    "\n",
    "In the next example create a signal that contains 2 sine waves of different amplitudes at 1 and 10 Hz as well as a constant term.  Plot the time and frequency domain."
   ]
  },
  {
   "cell_type": "code",
   "execution_count": null,
   "metadata": {
    "collapsed": true
   },
   "outputs": [],
   "source": []
  },
  {
   "cell_type": "markdown",
   "metadata": {},
   "source": [
    "### Problem 2\n",
    "\n",
    "In the next example, plot the time and frequency domain representation of Gaussian distrubuted random noise. Noise tends to contain all frequency components. "
   ]
  },
  {
   "cell_type": "code",
   "execution_count": null,
   "metadata": {
    "collapsed": true
   },
   "outputs": [],
   "source": []
  },
  {
   "cell_type": "markdown",
   "metadata": {},
   "source": [
    "### Signal with Trend and Noise\n",
    "Next we will analyze a signal that contains:\n",
    "* A sine wave representing seasonality\n",
    "* a parabolic function representing a trend\n",
    "* and uniformly distributed random noise\n",
    "\n",
    "Below we create and plot each of the components separately."
   ]
  },
  {
   "cell_type": "code",
   "execution_count": null,
   "metadata": {
    "collapsed": true
   },
   "outputs": [],
   "source": [
    "freq = 1.5\n",
    "\n",
    "# Data set in Time Domain\n",
    "y_sine = np.sin(2 * np.pi * freq * time)\n",
    "y_trend = (0.2 * time)**2\n",
    "y_noise = 0.5 * np.random.randn(len(time))\n",
    "\n",
    "plot_time_freq(time, y_sine)\n",
    "plot_time_freq(time, y_trend)\n",
    "plot_time_freq(time, y_noise)"
   ]
  },
  {
   "cell_type": "markdown",
   "metadata": {},
   "source": [
    "We can observe that in the Frequency Domain: \n",
    "1. The sine wave has components at -1.5 and +1.5. \n",
    "2. The trend has low frequency components (close to 0). \n",
    "3. The noise has components across all frequencies."
   ]
  },
  {
   "cell_type": "markdown",
   "metadata": {},
   "source": [
    "### Problem 3\n",
    "\n",
    "Add the three signals together but provide an amplitude of 3, 2, and 1 to the sine, trend, and noise, respectively. Observe the time and frequency domain components.\n",
    "> Feel free to repeat the process and play with different coefficient values. "
   ]
  },
  {
   "cell_type": "code",
   "execution_count": null,
   "metadata": {
    "collapsed": true
   },
   "outputs": [],
   "source": [
    "y_sine_noise = #fill in here\n",
    "\n",
    "plot_time_freq(time, y_sine_noise)"
   ]
  },
  {
   "cell_type": "markdown",
   "metadata": {},
   "source": [
    "# Section 2: Filters \n",
    "Removing noise is a well-known preprocessing technique for extracting patterns in your data.\n",
    "\n",
    "## Low Pass Filters"
   ]
  },
  {
   "cell_type": "markdown",
   "metadata": {},
   "source": [
    "Let's say we want to get rid of the noise. One option for doing this is to apply a low-pass filter which removes the high frequency components and allows the low frequency components to pass through.\n",
    "\n",
    "Examples of low pass filters include: the Hann Window, Tukey Filter and Butterworth Filter.  \n",
    "\n",
    "### Hann Window\n",
    "\n",
    "The Hann window, is named after Julius von Hann, and is sometimes referred to as Hanning or as a raised cosine.  The shape of the filter in time domain is one lobe of an elevated cosine function. On the interval $ n\\in [0,N-1]$ the Hann window function is:\n",
    "\n",
    "$w(n)=0.5\\;\\left[1-\\cos \\left({\\frac {2\\pi n}{N-1}}\\right)\\right]=\\sin ^{2}\\left({\\frac {\\pi n}{N-1}}\\right)$\n",
    "\n",
    "### Tukey Filter\n",
    "\n",
    "The Tukey window, also known as the tapered cosine window, can be regarded as a cosine lobe of width $αN/2$ that is convolved with a rectangular window of width $(1 − α/2)N$.  The expression of the filter in time domain is given by:\n",
    "\n",
    "$ w(n)=\\left\\{{\\begin{matrix}{\\frac {1}{2}}\\left[1+\\cos \\left(\\pi \\left({\\frac {2n}{\\alpha (N-1)}}-1\\right)\\right)\\right]&0\\leqslant n<{\\frac {\\alpha (N-1)}{2}}\\\\1&{\\frac {\\alpha (N-1)}{2}}\\leqslant n\\leqslant (N-1)(1-{\\frac {\\alpha }{2}})\\\\{\\frac {1}{2}}\\left[1+\\cos \\left(\\pi \\left({\\frac {2n}{\\alpha (N-1)}}-{\\frac {2}{\\alpha }}+1\\right)\\right)\\right]&(N-1)(1-{\\frac {\\alpha }{2}})<n\\leqslant (N-1)\\\\\\end{matrix}}\\right)$\n",
    "\n",
    "At α = 0 it becomes rectangular, and at α = 1 it becomes a Hann window.\n",
    "\n",
    "Let's run an example with the Tukey filter.  We have two parameters that we can tweak: alpha and the div_factor.  We can observe in the frequency domain that the shape of the filter is close to zero at high frequencies.  The goal is to mutiply the frequency domain signal of the filter with the frequency domain signal of the original signal.  The output should have a reduction of signal at the high frequency components."
   ]
  },
  {
   "cell_type": "code",
   "execution_count": null,
   "metadata": {
    "collapsed": true
   },
   "outputs": [],
   "source": [
    "# parameters\n",
    "alpha = 0.5\n",
    "div_factor = 16 # use multiple of 2 (e.g. 2, 4, 8, 16, etc.)\n",
    "\n",
    "# buid filter\n",
    "win_temp = signal.tukey(int( len(time) / div_factor ), alpha=alpha)\n",
    "window = np.zeros(time.shape)\n",
    "window[:int(len(win_temp)/2)] = win_temp[int(len(win_temp)/2):]\n",
    "window[(int(len(window)) - int(len(win_temp)/2)):] = win_temp[:int(len(win_temp)/2)]\n",
    "\n",
    "#plot\n",
    "plot_time_freq(time, window)"
   ]
  },
  {
   "cell_type": "markdown",
   "metadata": {},
   "source": [
    "We'll apply the filter on the original signal but first let's create a function to print the results."
   ]
  },
  {
   "cell_type": "code",
   "execution_count": null,
   "metadata": {
    "collapsed": true
   },
   "outputs": [],
   "source": [
    "def filter_plot(time, y_original, y_filtered, legend_names):\n",
    "    plt.figure(figsize=[15,10])\n",
    "    plt.plot(time, y_original, 'k', lw=1)\n",
    "    plt.plot(time, np.real(y_filtered), 'r', lw=3)\n",
    "    plt.legend(legend_names);"
   ]
  },
  {
   "cell_type": "code",
   "execution_count": null,
   "metadata": {
    "collapsed": true
   },
   "outputs": [],
   "source": [
    "# setup \n",
    "win = (np.fft.fft(window))\n",
    "win = win/win.max()\n",
    "\n",
    "# apply filter\n",
    "Y = (np.fft.fft(y_sine_noise))\n",
    "y_tukey = np.fft.ifft(Y*win)\n",
    "\n",
    "# plot\n",
    "filter_plot(time, y_sine_noise, y_tukey, ['Signal+Trend+Noise','Signal+Trend','Fitered Tukey Signal'])"
   ]
  },
  {
   "cell_type": "markdown",
   "metadata": {},
   "source": [
    "We can observe that the \"Filtered Signal\" matches very closely the \"Signal + Trend\", and most of the noise has been removed.  "
   ]
  },
  {
   "cell_type": "markdown",
   "metadata": {},
   "source": [
    "### Problem 4\n",
    "\n",
    "Modify the values of \"alpha\" and \"div_factor\" to optimize the filter."
   ]
  },
  {
   "cell_type": "code",
   "execution_count": null,
   "metadata": {
    "collapsed": true
   },
   "outputs": [],
   "source": []
  },
  {
   "cell_type": "markdown",
   "metadata": {},
   "source": [
    "### Butterworth Filter"
   ]
  },
  {
   "cell_type": "markdown",
   "metadata": {},
   "source": [
    "Another commonly used low pass filter is the Butterworth filter. "
   ]
  },
  {
   "cell_type": "markdown",
   "metadata": {},
   "source": [
    "Here we will design a Butterworth filter and then filter our original signal."
   ]
  },
  {
   "cell_type": "code",
   "execution_count": null,
   "metadata": {
    "collapsed": true
   },
   "outputs": [],
   "source": [
    "# First, design the Butterworth filter\n",
    "N  = 2    # Filter order\n",
    "Wn = 0.05 # Cutoff frequency\n",
    "B, A = signal.butter(N, Wn, output='ba')\n",
    " \n",
    "# Second, apply the filter\n",
    "y_low_butter = signal.filtfilt(B,A, y_sine_noise)\n",
    "\n",
    "# plot\n",
    "filter_plot(time, y_sine_noise, y_low_butter, ['Signal+Trend+Noise','Signal+Trend','Fitered Low Butterworth Signal'])"
   ]
  },
  {
   "cell_type": "markdown",
   "metadata": {},
   "source": [
    "Here we observe again the filtered signal resembling the original signal without the noise. "
   ]
  },
  {
   "cell_type": "markdown",
   "metadata": {},
   "source": [
    "### Problem 5\n",
    "\n",
    "Modify the filter order and cutoff frequency."
   ]
  },
  {
   "cell_type": "code",
   "execution_count": null,
   "metadata": {
    "collapsed": true
   },
   "outputs": [],
   "source": []
  },
  {
   "cell_type": "markdown",
   "metadata": {},
   "source": [
    "### High Pass Filter\n",
    "\n",
    "Similarly, as we were able to filter out the high frequency components which got rid of most of the noise, we can filter out the low frequency components and get rid of the trend.  Next, we will use a Butterworth filter in a high pass filter configuration."
   ]
  },
  {
   "cell_type": "code",
   "execution_count": null,
   "metadata": {
    "collapsed": true
   },
   "outputs": [],
   "source": [
    "# First, design the Buterworth filter\n",
    "N  = 2    # Filter order\n",
    "Wn = 0.02 # Cutoff frequency\n",
    "B, A = signal.butter(N, Wn, btype = 'highpass',output='ba')\n",
    " \n",
    "# Second, apply the filter\n",
    "y_high_butter = signal.filtfilt(B, A, y_sine_noise)\n",
    "\n",
    "# plot\n",
    "filter_plot(time, y_sine_noise, y_high_butter, ['Signal+Trend+Noise','Signal+Trend','Fitered High Butterworth Signal'])"
   ]
  },
  {
   "cell_type": "markdown",
   "metadata": {},
   "source": [
    "We can observe that the trend has been removed."
   ]
  },
  {
   "cell_type": "markdown",
   "metadata": {},
   "source": [
    "### Problem 6\n",
    "\n",
    "Modify the filter order and cutoff frequency."
   ]
  },
  {
   "cell_type": "code",
   "execution_count": null,
   "metadata": {
    "collapsed": true
   },
   "outputs": [],
   "source": []
  },
  {
   "cell_type": "markdown",
   "metadata": {},
   "source": [
    "### Band Pass Filter\n",
    "We can also combine both a high pass and low pass filter to be able to remove the high and low frequency components of a signal.  This is known as a band pass filter.  Here, we will also use a Butterworth filter."
   ]
  },
  {
   "cell_type": "code",
   "execution_count": null,
   "metadata": {
    "collapsed": true
   },
   "outputs": [],
   "source": [
    "# First, design the Buterworth filter\n",
    "N  = 2    # Filter order\n",
    "Wn = [0.02,0.05] # Cutoff frequency\n",
    "B, A = signal.butter(N, Wn, btype = 'bandpass',output='ba')\n",
    " \n",
    "# Second, apply the filter\n",
    "y_band_butter = signal.filtfilt(B,A, y_sine_noise)\n",
    "\n",
    "# plot\n",
    "filter_plot(time, y_sine_noise, y_band_butter, \n",
    "            ['Signal+Trend+Noise','Signal+Trend', 'Original Sine Wave','Fitered Band Butterworth Signal'])"
   ]
  },
  {
   "cell_type": "markdown",
   "metadata": {},
   "source": [
    "We observe that the original signal has been de-trended, and the noise has been removed.  We were able to extract the original signal.  Several parameters can be optimized to improve this filter.  \n",
    "\n",
    "Fourier Transforms are useful because they can:\n",
    "1. Remove trend. \n",
    "2. Remove noise. \n",
    "3. Convert a nonstationary time series signal into a stationary one."
   ]
  },
  {
   "cell_type": "markdown",
   "metadata": {},
   "source": [
    "### Problem 7\n",
    "\n",
    "Modify the filter order and cutoff frequency."
   ]
  },
  {
   "cell_type": "code",
   "execution_count": null,
   "metadata": {
    "collapsed": true
   },
   "outputs": [],
   "source": []
  },
  {
   "cell_type": "markdown",
   "metadata": {},
   "source": [
    "# Making Forecasts with Fourier Transforms"
   ]
  },
  {
   "cell_type": "code",
   "execution_count": null,
   "metadata": {
    "collapsed": true
   },
   "outputs": [],
   "source": [
    "def fourierPrediction(y, n_predict):\n",
    "    n = y.size\n",
    "    n_harm = 5                         # number of harmonics in model\n",
    "    t = np.arange(0, n)\n",
    "    p = np.polyfit(t, y, 1)            # find linear trend in x\n",
    "    y_notrend = y - p[0] * t           # detrended x\n",
    "    y_freqdom = np.fft.fft(y_notrend)  # detrended x in frequency domain\n",
    "    f = np.fft.fftfreq(n)              # frequencies\n",
    "    indexes = list(range(n))\n",
    "    \n",
    "    # sort indexes by frequency, lower -> higher\n",
    "    indexes.sort(key = lambda i: np.absolute(f[i]))\n",
    " \n",
    "    t = np.arange(0, n + n_predict)\n",
    "    restored_sig = np.zeros(t.size)\n",
    "    for i in indexes[:1 + n_harm * 2]:\n",
    "        ampli = np.absolute(y_freqdom[i]) / n   # amplitude\n",
    "        phase = np.angle(y_freqdom[i])          # phase\n",
    "        restored_sig += ampli * np.cos(2 * np.pi * f[i] * t + phase)\n",
    "    return restored_sig + p[0] * t"
   ]
  },
  {
   "cell_type": "code",
   "execution_count": null,
   "metadata": {
    "collapsed": true
   },
   "outputs": [],
   "source": [
    "def fourierPredictionPlot(y, prediction):\n",
    "    plt.plot(np.arange(0, y.size), y, 'b', label = 'data', linewidth = 2)\n",
    "    plt.plot(np.arange(0, prediction.size), prediction, 'r', label = 'prediction')\n",
    "    plt.legend();"
   ]
  },
  {
   "cell_type": "markdown",
   "metadata": {},
   "source": [
    "#### Example 1: Prediction on y_sine_noise"
   ]
  },
  {
   "cell_type": "code",
   "execution_count": null,
   "metadata": {
    "collapsed": true
   },
   "outputs": [],
   "source": [
    "# setup\n",
    "n_predict = 300\n",
    "prediction = fourierPrediction(y_sine_noise, n_predict)\n",
    "\n",
    "# plot\n",
    "fourierPredictionPlot(y_sine_noise, prediction)"
   ]
  },
  {
   "cell_type": "markdown",
   "metadata": {},
   "source": [
    "#### Get CO2 Data"
   ]
  },
  {
   "cell_type": "code",
   "execution_count": null,
   "metadata": {
    "collapsed": true
   },
   "outputs": [],
   "source": [
    "# load the dataset\n",
    "df = pd.read_csv('../Data/co2-ppm-mauna-loa-19651980.csv', usecols=[1], engine='python', skipfooter=3)\n",
    "data = np.reshape( df.values.astype('float32'), len(df) )\n",
    "print('Number of data points:', df.count()[0])"
   ]
  },
  {
   "cell_type": "markdown",
   "metadata": {},
   "source": [
    "#### Plot Time Domain & Frequency Domain"
   ]
  },
  {
   "cell_type": "code",
   "execution_count": null,
   "metadata": {
    "collapsed": true
   },
   "outputs": [],
   "source": [
    "t = np.arange(len(data))\n",
    "plot_time_freq(t, data-data.mean())"
   ]
  },
  {
   "cell_type": "markdown",
   "metadata": {},
   "source": [
    "#### Example 2: Predictions on CO2 Data"
   ]
  },
  {
   "cell_type": "code",
   "execution_count": null,
   "metadata": {
    "collapsed": true
   },
   "outputs": [],
   "source": [
    "# setup\n",
    "n_predict = 50\n",
    "prediction = fourierPrediction(data, n_predict)\n",
    "\n",
    "# plot\n",
    "fourierPredictionPlot(data, prediction)"
   ]
  },
  {
   "cell_type": "markdown",
   "metadata": {},
   "source": [
    "---"
   ]
  },
  {
   "cell_type": "markdown",
   "metadata": {},
   "source": [
    "# Summary\n",
    "\n",
    "In this assignment you should have gained: \n",
    "1. A basic understanding of the Fourier Transform (FT).\n",
    "2. Knowledge of the most common filters and why they are useful.\n",
    "3. The know-how to make forecasts using the Fourier Transform.\n",
    "\n",
    "Congratulations, that concludes this lesson."
   ]
  }
 ],
 "metadata": {
  "kernelspec": {
   "display_name": "Py3 OpenCV3 (Forge)",
   "language": "python",
   "name": "opencv-forge"
  },
  "language_info": {
   "codemirror_mode": {
    "name": "ipython",
    "version": 3
   },
   "file_extension": ".py",
   "mimetype": "text/x-python",
   "name": "python",
   "nbconvert_exporter": "python",
   "pygments_lexer": "ipython3",
   "version": "3.6.3"
  }
 },
 "nbformat": 4,
 "nbformat_minor": 2
}
